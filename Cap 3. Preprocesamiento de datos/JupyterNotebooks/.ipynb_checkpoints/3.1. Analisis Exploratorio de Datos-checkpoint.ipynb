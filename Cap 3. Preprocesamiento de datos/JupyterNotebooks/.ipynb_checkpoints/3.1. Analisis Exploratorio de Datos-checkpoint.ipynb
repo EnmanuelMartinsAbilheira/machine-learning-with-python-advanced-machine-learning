{
 "cells": [
  {
   "cell_type": "markdown",
   "metadata": {
    "jp-MarkdownHeadingCollapsed": true,
    "tags": []
   },
   "source": [
    "<h2><font color=\"#004D7F\" size=6>Módulo 3. Preprocesamiento de datos</font></h2>\n",
    "\n",
    "\n",
    "\n",
    "<h1><font color=\"#004D7F\" size=5>1. Análisis Exploratorio de Datos</font></h1>\n",
    "\n",
    "<br><br>\n",
    "<div style=\"text-align: right\">\n",
    "<font color=\"#004D7F\" size=3>Manuel Castillo-Cara</font><br>\n",
    "<font color=\"#004D7F\" size=3>Machine Learning con Python</font><br>"
   ]
  },
  {
   "cell_type": "markdown",
   "metadata": {},
   "source": [
    "---\n",
    "\n",
    "<h2><font color=\"#004D7F\" size=5>Índice</font></h2>\n",
    "<a id=\"indice\"></a>\n",
    "\n",
    "* [1. Introducción](#section1)\n",
    "* [2. Análisis exploratorio paso a paso](#section2)\n",
    "    * [2.1. Librerías y CSV](#section21)\n",
    "    * [2.2. Información básica](#section22)\n",
    "* [3. Visualización](#section3)\n",
    "    * [3.1. Matriz de correlación](#section31)\n",
    "    * [3.2. Cargar un segundo dataset](#section32)\n",
    "    * [3.3. Comparativa entre dos países](#section33)\n",
    "    * [3.4. Filtrado de datos](#section34)\n",
    "    * [3.5. Detección de outliers](#section35)\n",
    "    * [3.6. Mejorando la visualización](#section36)"
   ]
  },
  {
   "cell_type": "code",
   "execution_count": 27,
   "metadata": {},
   "outputs": [
    {
     "data": {
      "text/html": [
       "<style>.container{ width:98% }</style>"
      ],
      "text/plain": [
       "<IPython.core.display.HTML object>"
      ]
     },
     "metadata": {},
     "output_type": "display_data"
    }
   ],
   "source": [
    "# Permite ajustar la anchura de la parte útil de la libreta (reduce los márgenes)\n",
    "from IPython.core.display import display, HTML\n",
    "display(HTML(\"<style>.container{ width:98% }</style>\"))"
   ]
  },
  {
   "cell_type": "markdown",
   "metadata": {},
   "source": [
    "---\n",
    "<a id=\"section1\"></a>\n",
    "# <font color=\"#004D7F\"> 1. Introducción</font>"
   ]
  },
  {
   "cell_type": "markdown",
   "metadata": {},
   "source": [
    "El Análisis Exploratorio de Datos (Eda, Exploratory Data Analysis) en una de las primeras tareas que tiene que desempeñar el Científico de Datos. Es cuando revisamos por primera vez los datos que nos llegan y deberemos intentar comprender «¿de qué se trata?», vislumbrar posibles patrones y reconociendo distribuciones estadísticas que puedan ser útiles en el futuro.\n",
    "\n",
    "A nivel programación y como venimos utilizando Python, encontramos a la conocida librería Pandas, que nos ayudará a manipular datos, leer y transformarlos. Otra de las técnicas que más nos ayudaran en el EDA es visualización de datos.\n",
    "\n",
    "Finalmente podemos decir que nuestra Intuición y Empirismo -basada en Experiencia previa, no en corazonadas- y nuestro conocimiento de casos similares también nos pueden aportar pistas para saber si estamos ante datos de buena calidad. \n",
    "\n",
    "Recuerde que el análisis exploratorio es simplemente utilizar todas las herramientas que hemos visto hasta ahora pero analizar y comentar su salida que nos proporciona en nuestro conjunto de datos. Veamos un ejemplo paso a paso."
   ]
  },
  {
   "cell_type": "markdown",
   "metadata": {},
   "source": [
    "<div style=\"text-align: right\"> <font size=5>\n",
    "    <a href=\"#indice\"><i class=\"fa fa-arrow-circle-up\" aria-hidden=\"true\" style=\"color:#004D7F\"></i></a>\n",
    "</font></div>\n",
    "\n",
    "---"
   ]
  },
  {
   "cell_type": "markdown",
   "metadata": {},
   "source": [
    "<a id=\"section2\"></a> \n",
    "# <font color=\"#004D7F\">2. Análisis exploratorio paso a paso</font>\n",
    "\n",
    "Vamos a leer un csv que contiene información geográfica básica de los países del mundo y vamos a jugar un poco con esos datos. Para elo lo primero que vamos a realizar es cargar las librerías."
   ]
  },
  {
   "cell_type": "markdown",
   "metadata": {},
   "source": [
    "<a id=\"section21\"></a>\n",
    "## <font color=\"#004D7F\"> 2.1. Librerías y CSV</font>"
   ]
  },
  {
   "cell_type": "markdown",
   "metadata": {},
   "source": [
    "Como siempre cargamos el CSV que vamos a utilizar. Así mismo, vamos a cargar las librerías principales que utilizaremos en esta sección."
   ]
  },
  {
   "cell_type": "code",
   "execution_count": 28,
   "metadata": {},
   "outputs": [
    {
     "data": {
      "text/html": [
       "<div>\n",
       "<style scoped>\n",
       "    .dataframe tbody tr th:only-of-type {\n",
       "        vertical-align: middle;\n",
       "    }\n",
       "\n",
       "    .dataframe tbody tr th {\n",
       "        vertical-align: top;\n",
       "    }\n",
       "\n",
       "    .dataframe thead th {\n",
       "        text-align: right;\n",
       "    }\n",
       "</style>\n",
       "<table border=\"1\" class=\"dataframe\">\n",
       "  <thead>\n",
       "    <tr style=\"text-align: right;\">\n",
       "      <th></th>\n",
       "      <th>alpha_2</th>\n",
       "      <th>alpha_3</th>\n",
       "      <th>area</th>\n",
       "      <th>capital</th>\n",
       "      <th>continent</th>\n",
       "      <th>currency_code</th>\n",
       "      <th>currency_name</th>\n",
       "      <th>eqivalent_fips_code</th>\n",
       "      <th>fips</th>\n",
       "      <th>geoname_id</th>\n",
       "      <th>languages</th>\n",
       "      <th>name</th>\n",
       "      <th>neighbours</th>\n",
       "      <th>numeric</th>\n",
       "      <th>phone</th>\n",
       "      <th>population</th>\n",
       "      <th>postal_code_format</th>\n",
       "      <th>postal_code_regex</th>\n",
       "      <th>tld</th>\n",
       "    </tr>\n",
       "  </thead>\n",
       "  <tbody>\n",
       "    <tr>\n",
       "      <th>0</th>\n",
       "      <td>AD</td>\n",
       "      <td>AND</td>\n",
       "      <td>468.0</td>\n",
       "      <td>Andorra la Vella</td>\n",
       "      <td>EU</td>\n",
       "      <td>EUR</td>\n",
       "      <td>Euro</td>\n",
       "      <td>NaN</td>\n",
       "      <td>AN</td>\n",
       "      <td>3041565</td>\n",
       "      <td>ca</td>\n",
       "      <td>Andorra</td>\n",
       "      <td>ES,FR</td>\n",
       "      <td>20</td>\n",
       "      <td>376</td>\n",
       "      <td>84000</td>\n",
       "      <td>AD###</td>\n",
       "      <td>^(?:AD)*(\\d{3})$</td>\n",
       "      <td>.ad</td>\n",
       "    </tr>\n",
       "    <tr>\n",
       "      <th>1</th>\n",
       "      <td>AE</td>\n",
       "      <td>ARE</td>\n",
       "      <td>82880.0</td>\n",
       "      <td>Abu Dhabi</td>\n",
       "      <td>AS</td>\n",
       "      <td>AED</td>\n",
       "      <td>Dirham</td>\n",
       "      <td>NaN</td>\n",
       "      <td>AE</td>\n",
       "      <td>290557</td>\n",
       "      <td>ar-AE,fa,en,hi,ur</td>\n",
       "      <td>United Arab Emirates</td>\n",
       "      <td>SA,OM</td>\n",
       "      <td>784</td>\n",
       "      <td>971</td>\n",
       "      <td>4975593</td>\n",
       "      <td>NaN</td>\n",
       "      <td>NaN</td>\n",
       "      <td>.ae</td>\n",
       "    </tr>\n",
       "    <tr>\n",
       "      <th>2</th>\n",
       "      <td>AF</td>\n",
       "      <td>AFG</td>\n",
       "      <td>647500.0</td>\n",
       "      <td>Kabul</td>\n",
       "      <td>AS</td>\n",
       "      <td>AFN</td>\n",
       "      <td>Afghani</td>\n",
       "      <td>NaN</td>\n",
       "      <td>AF</td>\n",
       "      <td>1149361</td>\n",
       "      <td>fa-AF,ps,uz-AF,tk</td>\n",
       "      <td>Afghanistan</td>\n",
       "      <td>TM,CN,IR,TJ,PK,UZ</td>\n",
       "      <td>4</td>\n",
       "      <td>93</td>\n",
       "      <td>29121286</td>\n",
       "      <td>NaN</td>\n",
       "      <td>NaN</td>\n",
       "      <td>.af</td>\n",
       "    </tr>\n",
       "    <tr>\n",
       "      <th>3</th>\n",
       "      <td>AG</td>\n",
       "      <td>ATG</td>\n",
       "      <td>443.0</td>\n",
       "      <td>St. John's</td>\n",
       "      <td>NaN</td>\n",
       "      <td>XCD</td>\n",
       "      <td>Dollar</td>\n",
       "      <td>NaN</td>\n",
       "      <td>AC</td>\n",
       "      <td>3576396</td>\n",
       "      <td>en-AG</td>\n",
       "      <td>Antigua and Barbuda</td>\n",
       "      <td>NaN</td>\n",
       "      <td>28</td>\n",
       "      <td>+1-268</td>\n",
       "      <td>86754</td>\n",
       "      <td>NaN</td>\n",
       "      <td>NaN</td>\n",
       "      <td>.ag</td>\n",
       "    </tr>\n",
       "    <tr>\n",
       "      <th>4</th>\n",
       "      <td>AI</td>\n",
       "      <td>AIA</td>\n",
       "      <td>102.0</td>\n",
       "      <td>The Valley</td>\n",
       "      <td>NaN</td>\n",
       "      <td>XCD</td>\n",
       "      <td>Dollar</td>\n",
       "      <td>NaN</td>\n",
       "      <td>AV</td>\n",
       "      <td>3573511</td>\n",
       "      <td>en-AI</td>\n",
       "      <td>Anguilla</td>\n",
       "      <td>NaN</td>\n",
       "      <td>660</td>\n",
       "      <td>+1-264</td>\n",
       "      <td>13254</td>\n",
       "      <td>NaN</td>\n",
       "      <td>NaN</td>\n",
       "      <td>.ai</td>\n",
       "    </tr>\n",
       "    <tr>\n",
       "      <th>...</th>\n",
       "      <td>...</td>\n",
       "      <td>...</td>\n",
       "      <td>...</td>\n",
       "      <td>...</td>\n",
       "      <td>...</td>\n",
       "      <td>...</td>\n",
       "      <td>...</td>\n",
       "      <td>...</td>\n",
       "      <td>...</td>\n",
       "      <td>...</td>\n",
       "      <td>...</td>\n",
       "      <td>...</td>\n",
       "      <td>...</td>\n",
       "      <td>...</td>\n",
       "      <td>...</td>\n",
       "      <td>...</td>\n",
       "      <td>...</td>\n",
       "      <td>...</td>\n",
       "      <td>...</td>\n",
       "    </tr>\n",
       "    <tr>\n",
       "      <th>247</th>\n",
       "      <td>ZA</td>\n",
       "      <td>ZAF</td>\n",
       "      <td>1219912.0</td>\n",
       "      <td>Pretoria</td>\n",
       "      <td>AF</td>\n",
       "      <td>ZAR</td>\n",
       "      <td>Rand</td>\n",
       "      <td>NaN</td>\n",
       "      <td>SF</td>\n",
       "      <td>953987</td>\n",
       "      <td>zu,xh,af,nso,en-ZA,tn,st,ts,ss,ve,nr</td>\n",
       "      <td>South Africa</td>\n",
       "      <td>ZW,SZ,MZ,BW,NA,LS</td>\n",
       "      <td>710</td>\n",
       "      <td>27</td>\n",
       "      <td>49000000</td>\n",
       "      <td>####</td>\n",
       "      <td>^(\\d{4})$</td>\n",
       "      <td>.za</td>\n",
       "    </tr>\n",
       "    <tr>\n",
       "      <th>248</th>\n",
       "      <td>ZM</td>\n",
       "      <td>ZMB</td>\n",
       "      <td>752614.0</td>\n",
       "      <td>Lusaka</td>\n",
       "      <td>AF</td>\n",
       "      <td>ZMW</td>\n",
       "      <td>Kwacha</td>\n",
       "      <td>NaN</td>\n",
       "      <td>ZA</td>\n",
       "      <td>895949</td>\n",
       "      <td>en-ZM,bem,loz,lun,lue,ny,toi</td>\n",
       "      <td>Zambia</td>\n",
       "      <td>ZW,TZ,MZ,CD,NA,MW,AO</td>\n",
       "      <td>894</td>\n",
       "      <td>260</td>\n",
       "      <td>13460305</td>\n",
       "      <td>#####</td>\n",
       "      <td>^(\\d{5})$</td>\n",
       "      <td>.zm</td>\n",
       "    </tr>\n",
       "    <tr>\n",
       "      <th>249</th>\n",
       "      <td>ZW</td>\n",
       "      <td>ZWE</td>\n",
       "      <td>390580.0</td>\n",
       "      <td>Harare</td>\n",
       "      <td>AF</td>\n",
       "      <td>ZWL</td>\n",
       "      <td>Dollar</td>\n",
       "      <td>NaN</td>\n",
       "      <td>ZI</td>\n",
       "      <td>878675</td>\n",
       "      <td>en-ZW,sn,nr,nd</td>\n",
       "      <td>Zimbabwe</td>\n",
       "      <td>ZA,MZ,BW,ZM</td>\n",
       "      <td>716</td>\n",
       "      <td>263</td>\n",
       "      <td>13061000</td>\n",
       "      <td>NaN</td>\n",
       "      <td>NaN</td>\n",
       "      <td>.zw</td>\n",
       "    </tr>\n",
       "    <tr>\n",
       "      <th>250</th>\n",
       "      <td>CS</td>\n",
       "      <td>SCG</td>\n",
       "      <td>102350.0</td>\n",
       "      <td>Belgrade</td>\n",
       "      <td>EU</td>\n",
       "      <td>RSD</td>\n",
       "      <td>Dinar</td>\n",
       "      <td>NaN</td>\n",
       "      <td>YI</td>\n",
       "      <td>8505033</td>\n",
       "      <td>cu,hu,sq,sr</td>\n",
       "      <td>Serbia and Montenegro</td>\n",
       "      <td>AL,HU,MK,RO,HR,BA,BG</td>\n",
       "      <td>891</td>\n",
       "      <td>381</td>\n",
       "      <td>10829175</td>\n",
       "      <td>#####</td>\n",
       "      <td>^(\\d{5})$</td>\n",
       "      <td>.cs</td>\n",
       "    </tr>\n",
       "    <tr>\n",
       "      <th>251</th>\n",
       "      <td>AN</td>\n",
       "      <td>ANT</td>\n",
       "      <td>960.0</td>\n",
       "      <td>Willemstad</td>\n",
       "      <td>NaN</td>\n",
       "      <td>ANG</td>\n",
       "      <td>Guilder</td>\n",
       "      <td>NaN</td>\n",
       "      <td>NT</td>\n",
       "      <td>8505032</td>\n",
       "      <td>nl-AN,en,es</td>\n",
       "      <td>Netherlands Antilles</td>\n",
       "      <td>GP</td>\n",
       "      <td>530</td>\n",
       "      <td>599</td>\n",
       "      <td>300000</td>\n",
       "      <td>NaN</td>\n",
       "      <td>NaN</td>\n",
       "      <td>.an</td>\n",
       "    </tr>\n",
       "  </tbody>\n",
       "</table>\n",
       "<p>252 rows × 19 columns</p>\n",
       "</div>"
      ],
      "text/plain": [
       "    alpha_2 alpha_3       area           capital continent currency_code  \\\n",
       "0        AD     AND      468.0  Andorra la Vella        EU           EUR   \n",
       "1        AE     ARE    82880.0         Abu Dhabi        AS           AED   \n",
       "2        AF     AFG   647500.0             Kabul        AS           AFN   \n",
       "3        AG     ATG      443.0        St. John's       NaN           XCD   \n",
       "4        AI     AIA      102.0        The Valley       NaN           XCD   \n",
       "..      ...     ...        ...               ...       ...           ...   \n",
       "247      ZA     ZAF  1219912.0          Pretoria        AF           ZAR   \n",
       "248      ZM     ZMB   752614.0            Lusaka        AF           ZMW   \n",
       "249      ZW     ZWE   390580.0            Harare        AF           ZWL   \n",
       "250      CS     SCG   102350.0          Belgrade        EU           RSD   \n",
       "251      AN     ANT      960.0        Willemstad       NaN           ANG   \n",
       "\n",
       "    currency_name eqivalent_fips_code fips  geoname_id  \\\n",
       "0            Euro                 NaN   AN     3041565   \n",
       "1          Dirham                 NaN   AE      290557   \n",
       "2         Afghani                 NaN   AF     1149361   \n",
       "3          Dollar                 NaN   AC     3576396   \n",
       "4          Dollar                 NaN   AV     3573511   \n",
       "..            ...                 ...  ...         ...   \n",
       "247          Rand                 NaN   SF      953987   \n",
       "248        Kwacha                 NaN   ZA      895949   \n",
       "249        Dollar                 NaN   ZI      878675   \n",
       "250         Dinar                 NaN   YI     8505033   \n",
       "251       Guilder                 NaN   NT     8505032   \n",
       "\n",
       "                                languages                   name  \\\n",
       "0                                      ca                Andorra   \n",
       "1                       ar-AE,fa,en,hi,ur   United Arab Emirates   \n",
       "2                       fa-AF,ps,uz-AF,tk            Afghanistan   \n",
       "3                                   en-AG    Antigua and Barbuda   \n",
       "4                                   en-AI               Anguilla   \n",
       "..                                    ...                    ...   \n",
       "247  zu,xh,af,nso,en-ZA,tn,st,ts,ss,ve,nr           South Africa   \n",
       "248          en-ZM,bem,loz,lun,lue,ny,toi                 Zambia   \n",
       "249                        en-ZW,sn,nr,nd               Zimbabwe   \n",
       "250                           cu,hu,sq,sr  Serbia and Montenegro   \n",
       "251                           nl-AN,en,es   Netherlands Antilles   \n",
       "\n",
       "               neighbours  numeric   phone  population postal_code_format  \\\n",
       "0                   ES,FR       20     376       84000              AD###   \n",
       "1                   SA,OM      784     971     4975593                NaN   \n",
       "2       TM,CN,IR,TJ,PK,UZ        4      93    29121286                NaN   \n",
       "3                     NaN       28  +1-268       86754                NaN   \n",
       "4                     NaN      660  +1-264       13254                NaN   \n",
       "..                    ...      ...     ...         ...                ...   \n",
       "247     ZW,SZ,MZ,BW,NA,LS      710      27    49000000               ####   \n",
       "248  ZW,TZ,MZ,CD,NA,MW,AO      894     260    13460305              #####   \n",
       "249           ZA,MZ,BW,ZM      716     263    13061000                NaN   \n",
       "250  AL,HU,MK,RO,HR,BA,BG      891     381    10829175              #####   \n",
       "251                    GP      530     599      300000                NaN   \n",
       "\n",
       "    postal_code_regex  tld  \n",
       "0    ^(?:AD)*(\\d{3})$  .ad  \n",
       "1                 NaN  .ae  \n",
       "2                 NaN  .af  \n",
       "3                 NaN  .ag  \n",
       "4                 NaN  .ai  \n",
       "..                ...  ...  \n",
       "247         ^(\\d{4})$  .za  \n",
       "248         ^(\\d{5})$  .zm  \n",
       "249               NaN  .zw  \n",
       "250         ^(\\d{5})$  .cs  \n",
       "251               NaN  .an  \n",
       "\n",
       "[252 rows x 19 columns]"
      ]
     },
     "execution_count": 28,
     "metadata": {},
     "output_type": "execute_result"
    }
   ],
   "source": [
    "import pandas as pd\n",
    "import numpy as np \n",
    "import matplotlib.pyplot as plt\n",
    "import statsmodels.api as sm\n",
    "import seaborn as sns \n",
    "dataset = 'data/countries.csv'\n",
    "df = pd.read_csv(dataset, sep=';')\n",
    "df"
   ]
  },
  {
   "cell_type": "markdown",
   "metadata": {},
   "source": [
    "---\n",
    "<a id=\"section22\"></a>\n",
    "## <font color=\"#004D7F\"> 2.2. Información básica</font>"
   ]
  },
  {
   "cell_type": "markdown",
   "metadata": {},
   "source": [
    "En este apartado vamos a conocer información básica del conjunto de datos que es muy importante de verificar antes de ponernos a realizar un tratamiento. Esta información se obtiene, básicamente, de las mismas funciones de Pandas.\n",
    "\n",
    "Lo primero que tenemos que concer es el tamaño de nuestro dataset y los nombres de las columnas que tiene."
   ]
  },
  {
   "cell_type": "code",
   "execution_count": 29,
   "metadata": {},
   "outputs": [
    {
     "name": "stdout",
     "output_type": "stream",
     "text": [
      "cantidad de filas y columnas (252, 19)\n",
      "nombres de columnas Index(['alpha_2', 'alpha_3', 'area', 'capital', 'continent', 'currency_code',\n",
      "       'currency_name', 'eqivalent_fips_code', 'fips', 'geoname_id',\n",
      "       'languages', 'name', 'neighbours', 'numeric', 'phone', 'population',\n",
      "       'postal_code_format', 'postal_code_regex', 'tld'],\n",
      "      dtype='object')\n"
     ]
    }
   ],
   "source": [
    "print(f'cantidad de filas y columnas {df.shape}')\n",
    "print(f'nombres de columnas {df.columns}')"
   ]
  },
  {
   "cell_type": "markdown",
   "metadata": {},
   "source": [
    "Un aspecto también muy importante es ver el tipo de dato que tiene cada característica (columna). Hay que tener tres aspectos esenciales en este apartado:\n",
    "   * Las columnas que no tenga el tipo correcto deberemos transformarlas. Por ejemplo a veces muchas columnas están dadas como categóricas cuando sus valores son numéricos.\n",
    "   * Cuando tenemos en un mismo dataset características numéricas y categóricas deberemos uniformizarlo, es decir, o todas categóricas o todas numéricas (lo veremos en más adelante).\n",
    "   * Ver si alguna columna tiene valores _NaN_ que deberemos de tratar (lo veremos en más adelante).\n",
    "\n",
    "\n",
    "En esta salida vemos las columnas, el total de filas y la cantidad de filas sin nulos. También los tipos de datos. En este caso vemos como en este dataset podemos observar que la columna `eqivalent_fips_code}` de 252 valores solamente hay 1 valor válido (todos los demás son _NaN)._ Además, también nos proporciona información sobre el tipo, es decir, si es String _(object),_ flotante (_float64)_ o Entero (_int64)._ Finalmente, podemos utilizar la función de Pandas para contar el número de _NaN_ que tiene nuestro dataset"
   ]
  },
  {
   "cell_type": "code",
   "execution_count": 30,
   "metadata": {},
   "outputs": [
    {
     "name": "stdout",
     "output_type": "stream",
     "text": [
      "alpha_2                  1\n",
      "alpha_3                  0\n",
      "area                     0\n",
      "capital                  6\n",
      "continent               42\n",
      "currency_code            1\n",
      "currency_name            1\n",
      "eqivalent_fips_code    251\n",
      "fips                     3\n",
      "geoname_id               0\n",
      "languages                3\n",
      "name                     0\n",
      "neighbours              87\n",
      "numeric                  0\n",
      "phone                    5\n",
      "population               0\n",
      "postal_code_format      98\n",
      "postal_code_regex      100\n",
      "tld                      2\n",
      "dtype: int64\n"
     ]
    }
   ],
   "source": [
    "print(df.isnull().sum())"
   ]
  },
  {
   "cell_type": "code",
   "execution_count": 31,
   "metadata": {},
   "outputs": [
    {
     "name": "stdout",
     "output_type": "stream",
     "text": [
      "<class 'pandas.core.frame.DataFrame'>\n",
      "RangeIndex: 252 entries, 0 to 251\n",
      "Data columns (total 19 columns):\n",
      " #   Column               Non-Null Count  Dtype  \n",
      "---  ------               --------------  -----  \n",
      " 0   alpha_2              251 non-null    object \n",
      " 1   alpha_3              252 non-null    object \n",
      " 2   area                 252 non-null    float64\n",
      " 3   capital              246 non-null    object \n",
      " 4   continent            210 non-null    object \n",
      " 5   currency_code        251 non-null    object \n",
      " 6   currency_name        251 non-null    object \n",
      " 7   eqivalent_fips_code  1 non-null      object \n",
      " 8   fips                 249 non-null    object \n",
      " 9   geoname_id           252 non-null    int64  \n",
      " 10  languages            249 non-null    object \n",
      " 11  name                 252 non-null    object \n",
      " 12  neighbours           165 non-null    object \n",
      " 13  numeric              252 non-null    int64  \n",
      " 14  phone                247 non-null    object \n",
      " 15  population           252 non-null    int64  \n",
      " 16  postal_code_format   154 non-null    object \n",
      " 17  postal_code_regex    152 non-null    object \n",
      " 18  tld                  250 non-null    object \n",
      "dtypes: float64(1), int64(3), object(15)\n",
      "memory usage: 37.5+ KB\n"
     ]
    }
   ],
   "source": [
    "df.info()"
   ]
  },
  {
   "cell_type": "markdown",
   "metadata": {},
   "source": [
    "Pandas filtra las características numéricas y calcula datos estadísticos que pueden ser útiles: cantidad, media, desvío estándar, valores máximo y mínimo"
   ]
  },
  {
   "cell_type": "code",
   "execution_count": 32,
   "metadata": {
    "scrolled": true
   },
   "outputs": [
    {
     "data": {
      "text/html": [
       "<div>\n",
       "<style scoped>\n",
       "    .dataframe tbody tr th:only-of-type {\n",
       "        vertical-align: middle;\n",
       "    }\n",
       "\n",
       "    .dataframe tbody tr th {\n",
       "        vertical-align: top;\n",
       "    }\n",
       "\n",
       "    .dataframe thead th {\n",
       "        text-align: right;\n",
       "    }\n",
       "</style>\n",
       "<table border=\"1\" class=\"dataframe\">\n",
       "  <thead>\n",
       "    <tr style=\"text-align: right;\">\n",
       "      <th></th>\n",
       "      <th>area</th>\n",
       "      <th>geoname_id</th>\n",
       "      <th>numeric</th>\n",
       "      <th>population</th>\n",
       "    </tr>\n",
       "  </thead>\n",
       "  <tbody>\n",
       "    <tr>\n",
       "      <th>count</th>\n",
       "      <td>2.520000e+02</td>\n",
       "      <td>2.520000e+02</td>\n",
       "      <td>252.000000</td>\n",
       "      <td>2.520000e+02</td>\n",
       "    </tr>\n",
       "    <tr>\n",
       "      <th>mean</th>\n",
       "      <td>5.952879e+05</td>\n",
       "      <td>2.427870e+06</td>\n",
       "      <td>434.309524</td>\n",
       "      <td>2.727679e+07</td>\n",
       "    </tr>\n",
       "    <tr>\n",
       "      <th>std</th>\n",
       "      <td>1.904818e+06</td>\n",
       "      <td>1.632093e+06</td>\n",
       "      <td>254.663139</td>\n",
       "      <td>1.164127e+08</td>\n",
       "    </tr>\n",
       "    <tr>\n",
       "      <th>min</th>\n",
       "      <td>0.000000e+00</td>\n",
       "      <td>4.951800e+04</td>\n",
       "      <td>0.000000</td>\n",
       "      <td>0.000000e+00</td>\n",
       "    </tr>\n",
       "    <tr>\n",
       "      <th>25%</th>\n",
       "      <td>1.098000e+03</td>\n",
       "      <td>1.163774e+06</td>\n",
       "      <td>217.000000</td>\n",
       "      <td>1.879528e+05</td>\n",
       "    </tr>\n",
       "    <tr>\n",
       "      <th>50%</th>\n",
       "      <td>6.489450e+04</td>\n",
       "      <td>2.367967e+06</td>\n",
       "      <td>436.000000</td>\n",
       "      <td>4.268583e+06</td>\n",
       "    </tr>\n",
       "    <tr>\n",
       "      <th>75%</th>\n",
       "      <td>3.622245e+05</td>\n",
       "      <td>3.478296e+06</td>\n",
       "      <td>652.500000</td>\n",
       "      <td>1.536688e+07</td>\n",
       "    </tr>\n",
       "    <tr>\n",
       "      <th>max</th>\n",
       "      <td>1.710000e+07</td>\n",
       "      <td>8.505033e+06</td>\n",
       "      <td>894.000000</td>\n",
       "      <td>1.330044e+09</td>\n",
       "    </tr>\n",
       "  </tbody>\n",
       "</table>\n",
       "</div>"
      ],
      "text/plain": [
       "               area    geoname_id     numeric    population\n",
       "count  2.520000e+02  2.520000e+02  252.000000  2.520000e+02\n",
       "mean   5.952879e+05  2.427870e+06  434.309524  2.727679e+07\n",
       "std    1.904818e+06  1.632093e+06  254.663139  1.164127e+08\n",
       "min    0.000000e+00  4.951800e+04    0.000000  0.000000e+00\n",
       "25%    1.098000e+03  1.163774e+06  217.000000  1.879528e+05\n",
       "50%    6.489450e+04  2.367967e+06  436.000000  4.268583e+06\n",
       "75%    3.622245e+05  3.478296e+06  652.500000  1.536688e+07\n",
       "max    1.710000e+07  8.505033e+06  894.000000  1.330044e+09"
      ]
     },
     "execution_count": 32,
     "metadata": {},
     "output_type": "execute_result"
    }
   ],
   "source": [
    "df.describe()"
   ]
  },
  {
   "cell_type": "markdown",
   "metadata": {},
   "source": [
    "<div style=\"text-align: right\"> <font size=5>\n",
    "    <a href=\"#indice\"><i class=\"fa fa-arrow-circle-up\" aria-hidden=\"true\" style=\"color:#004D7F\"></i></a>\n",
    "</font></div>\n",
    "\n",
    "---"
   ]
  },
  {
   "cell_type": "markdown",
   "metadata": {},
   "source": [
    "<a id=\"section3\"></a>\n",
    "# <font color=\"#004D7F\"> 3. Visualización</font>"
   ]
  },
  {
   "cell_type": "markdown",
   "metadata": {},
   "source": [
    "Visualizar nuestros datos esencial para poder tener una idea de su comortamiento y distribución, para ello, y como hemos visto, tenemos dos librerías fundamentales para poder trabajarlo: __MatPlotlib__ y __Seaborn__. Veamos algunas conclusiones sobre la distribución de nuestros datos."
   ]
  },
  {
   "cell_type": "markdown",
   "metadata": {},
   "source": [
    "---\n",
    "<a id=\"section31\"></a>\n",
    "## <font color=\"#004D7F\"> 3.1. Matriz de correlación</font>"
   ]
  },
  {
   "cell_type": "markdown",
   "metadata": {},
   "source": [
    "Verifiquemos si hay correlación entre los datos. En este caso vemos baja correlación entre las variables. Dependiendo del algoritmo que utilicemos podría ser una buena decisión eliminar features que tuvieran alta correlación entre ellas (lo veremos más adelante)"
   ]
  },
  {
   "cell_type": "code",
   "execution_count": 33,
   "metadata": {
    "scrolled": true
   },
   "outputs": [
    {
     "data": {
      "image/png": "[encoded data removed]",
      "text/plain": [
       "<Figure size 700x700 with 2 Axes>"
      ]
     },
     "metadata": {},
     "output_type": "display_data"
    }
   ],
   "source": [
    "correlation = df.corr()\n",
    "plt.figure(figsize = (7,7))\n",
    "ax = sns.heatmap(correlation, vmax=1, square=True, annot=True, cmap='viridis')\n",
    "plt.title('Correlacion entre variables')\n",
    "plt.show()"
   ]
  },
  {
   "cell_type": "markdown",
   "metadata": {},
   "source": [
    "---\n",
    "<a id=\"section32\"></a>\n",
    "## <font color=\"#004D7F\"> 3.2. Cargar un segundo dataset</font>"
   ]
  },
  {
   "cell_type": "markdown",
   "metadata": {},
   "source": [
    "Cargamos un segundo archivo csv para ahondar en el crecimiento de la población en los últimos años, filtramos a España y visualizamos el crecimiento de la Población de España. El eje x no está establecido y aparece un id de fila."
   ]
  },
  {
   "cell_type": "code",
   "execution_count": 34,
   "metadata": {},
   "outputs": [
    {
     "data": {
      "text/html": [
       "<div>\n",
       "<style scoped>\n",
       "    .dataframe tbody tr th:only-of-type {\n",
       "        vertical-align: middle;\n",
       "    }\n",
       "\n",
       "    .dataframe tbody tr th {\n",
       "        vertical-align: top;\n",
       "    }\n",
       "\n",
       "    .dataframe thead th {\n",
       "        text-align: right;\n",
       "    }\n",
       "</style>\n",
       "<table border=\"1\" class=\"dataframe\">\n",
       "  <thead>\n",
       "    <tr style=\"text-align: right;\">\n",
       "      <th></th>\n",
       "      <th>country</th>\n",
       "      <th>year</th>\n",
       "      <th>population</th>\n",
       "    </tr>\n",
       "  </thead>\n",
       "  <tbody>\n",
       "    <tr>\n",
       "      <th>0</th>\n",
       "      <td>Afghanistan</td>\n",
       "      <td>1952</td>\n",
       "      <td>8425333</td>\n",
       "    </tr>\n",
       "    <tr>\n",
       "      <th>1</th>\n",
       "      <td>Afghanistan</td>\n",
       "      <td>1957</td>\n",
       "      <td>9240934</td>\n",
       "    </tr>\n",
       "    <tr>\n",
       "      <th>2</th>\n",
       "      <td>Afghanistan</td>\n",
       "      <td>1962</td>\n",
       "      <td>10267083</td>\n",
       "    </tr>\n",
       "    <tr>\n",
       "      <th>3</th>\n",
       "      <td>Afghanistan</td>\n",
       "      <td>1967</td>\n",
       "      <td>11537966</td>\n",
       "    </tr>\n",
       "    <tr>\n",
       "      <th>4</th>\n",
       "      <td>Afghanistan</td>\n",
       "      <td>1972</td>\n",
       "      <td>13079460</td>\n",
       "    </tr>\n",
       "    <tr>\n",
       "      <th>...</th>\n",
       "      <td>...</td>\n",
       "      <td>...</td>\n",
       "      <td>...</td>\n",
       "    </tr>\n",
       "    <tr>\n",
       "      <th>1699</th>\n",
       "      <td>Zimbabwe</td>\n",
       "      <td>1987</td>\n",
       "      <td>9216418</td>\n",
       "    </tr>\n",
       "    <tr>\n",
       "      <th>1700</th>\n",
       "      <td>Zimbabwe</td>\n",
       "      <td>1992</td>\n",
       "      <td>10704340</td>\n",
       "    </tr>\n",
       "    <tr>\n",
       "      <th>1701</th>\n",
       "      <td>Zimbabwe</td>\n",
       "      <td>1997</td>\n",
       "      <td>11404948</td>\n",
       "    </tr>\n",
       "    <tr>\n",
       "      <th>1702</th>\n",
       "      <td>Zimbabwe</td>\n",
       "      <td>2002</td>\n",
       "      <td>11926563</td>\n",
       "    </tr>\n",
       "    <tr>\n",
       "      <th>1703</th>\n",
       "      <td>Zimbabwe</td>\n",
       "      <td>2007</td>\n",
       "      <td>12311143</td>\n",
       "    </tr>\n",
       "  </tbody>\n",
       "</table>\n",
       "<p>1704 rows × 3 columns</p>\n",
       "</div>"
      ],
      "text/plain": [
       "          country  year  population\n",
       "0     Afghanistan  1952     8425333\n",
       "1     Afghanistan  1957     9240934\n",
       "2     Afghanistan  1962    10267083\n",
       "3     Afghanistan  1967    11537966\n",
       "4     Afghanistan  1972    13079460\n",
       "...           ...   ...         ...\n",
       "1699     Zimbabwe  1987     9216418\n",
       "1700     Zimbabwe  1992    10704340\n",
       "1701     Zimbabwe  1997    11404948\n",
       "1702     Zimbabwe  2002    11926563\n",
       "1703     Zimbabwe  2007    12311143\n",
       "\n",
       "[1704 rows x 3 columns]"
      ]
     },
     "execution_count": 34,
     "metadata": {},
     "output_type": "execute_result"
    }
   ],
   "source": [
    "dataset = 'data/countries2.csv'\n",
    "df_pop = pd.read_csv(dataset, sep=\",\")\n",
    "df_pop"
   ]
  },
  {
   "cell_type": "code",
   "execution_count": 35,
   "metadata": {},
   "outputs": [
    {
     "name": "stdout",
     "output_type": "stream",
     "text": [
      "     country  year  population\n",
      "1416   Spain  1952    28549870\n",
      "1417   Spain  1957    29841614\n",
      "1418   Spain  1962    31158061\n",
      "1419   Spain  1967    32850275\n",
      "1420   Spain  1972    34513161\n"
     ]
    }
   ],
   "source": [
    "df_pop_es= df_pop[df_pop[\"country\"] == \"Spain\"]\n",
    "print(df_pop_es.head())"
   ]
  },
  {
   "cell_type": "code",
   "execution_count": 36,
   "metadata": {
    "scrolled": true
   },
   "outputs": [
    {
     "data": {
      "text/plain": [
       "<AxesSubplot:>"
      ]
     },
     "execution_count": 36,
     "metadata": {},
     "output_type": "execute_result"
    },
    {
     "data": {
      "image/png": "[encoded data removed]",
      "text/plain": [
       "<Figure size 640x480 with 1 Axes>"
      ]
     },
     "metadata": {},
     "output_type": "display_data"
    }
   ],
   "source": [
    "df_pop_es.drop(['country'], axis=1)['population'].plot(kind='bar')"
   ]
  },
  {
   "cell_type": "markdown",
   "metadata": {},
   "source": [
    "---\n",
    "<a id=\"section33\"></a>\n",
    "## <font color=\"#004D7F\"> 3.3. Comparativa entre dos países</font>"
   ]
  },
  {
   "cell_type": "markdown",
   "metadata": {},
   "source": [
    "Hagamos la comparativa con otro país, por ejemplo con el crecimiento poblacional en Argentina"
   ]
  },
  {
   "cell_type": "code",
   "execution_count": 43,
   "metadata": {
    "scrolled": true,
    "tags": []
   },
   "outputs": [
    {
     "data": {
      "text/plain": [
       "<AxesSubplot:>"
      ]
     },
     "execution_count": 43,
     "metadata": {},
     "output_type": "execute_result"
    },
    {
     "data": {
      "image/png": "[encoded data removed]",
      "text/plain": [
       "<Figure size 640x480 with 1 Axes>"
      ]
     },
     "metadata": {},
     "output_type": "display_data"
    }
   ],
   "source": [
    "df_pop_ar = df_pop[(df_pop[\"country\"] == 'Argentina')]\n",
    "\n",
    "anios = df_pop_es['year'].unique()\n",
    "pop_ar = df_pop_ar['population'].values\n",
    "pop_es = df_pop_es['population'].values\n",
    "\n",
    "df_plot = pd.DataFrame({'Argentina': pop_ar, 'Spain': pop_es}, index=anios)\n",
    "df_plot.plot(kind='bar')\n",
    "\n",
    "\n",
    "#df_pop_ar = df_pop[(df_pop[\"country\"] == 'Argentina')]\n",
    "#df_pop_pt = df_pop[(df_pop[\"country\"] == 'Portugal')]\n",
    "#df_pop_vzla = df_pop[(df_pop[\"country\"] == 'Venezuela')]\n",
    "#\n",
    "#anios = df_pop_es['year'].unique()\n",
    "#pop_ar = df_pop_ar['population'].values\n",
    "#pop_es = df_pop_es['population'].values\n",
    "#pop_pt = df_pop_pt['population'].values\n",
    "#pop_vzla = df_pop_vzla['population'].values\n",
    "#\n",
    "#df_plot = pd.DataFrame({'Argentina': pop_ar, 'Spain': pop_es, 'Portugal': pop_pt, 'Venezuela': pop_vzla}, index=anios)\n",
    "#df_plot.plot(kind='bar')"
   ]
  },
  {
   "cell_type": "markdown",
   "metadata": {},
   "source": [
    "---\n",
    "<a id=\"section34\"></a>\n",
    "## <font color=\"#004D7F\"> 3.4. Filtrado de datos</font>"
   ]
  },
  {
   "cell_type": "markdown",
   "metadata": {},
   "source": [
    "Ahora filtremos todos los paises hispano-hablantes"
   ]
  },
  {
   "cell_type": "code",
   "execution_count": 63,
   "metadata": {},
   "outputs": [
    {
     "data": {
      "text/plain": [
       "<matplotlib.axes._subplots.AxesSubplot at 0x7f21ae3a9400>"
      ]
     },
     "execution_count": 63,
     "metadata": {},
     "output_type": "execute_result"
    },
    {
     "data": {
      "image/png": "[encoded data removed]",
      "text/plain": [
       "<Figure size 864x360 with 1 Axes>"
      ]
     },
     "metadata": {
      "needs_background": "light"
     },
     "output_type": "display_data"
    }
   ],
   "source": [
    "???"
   ]
  },
  {
   "cell_type": "markdown",
   "metadata": {},
   "source": [
    "---\n",
    "<a id=\"section35\"></a>\n",
    "## <font color=\"#004D7F\"> 3.5. Detección de outliers</font>"
   ]
  },
  {
   "cell_type": "markdown",
   "metadata": {},
   "source": [
    "Vamos a hacer detección de Outliers, (con fines educativos) en este caso definimos como limite superior (e inferior) la media más (menos) \"2 veces la desviación estándar\" que muchas veces es tomada como máximos de tolerancia. Detectamos como outliers a Brasil y a USA. Los eliminamos y graficamos ordenado por población de menor a mayor."
   ]
  },
  {
   "cell_type": "code",
   "execution_count": 54,
   "metadata": {},
   "outputs": [
    {
     "name": "stdout",
     "output_type": "stream",
     "text": [
      "-102872707.87855022\n",
      "167589161.25786057\n"
     ]
    },
    {
     "data": {
      "text/plain": [
       "['BRA', 'USA']"
      ]
     },
     "execution_count": 54,
     "metadata": {},
     "output_type": "execute_result"
    }
   ],
   "source": [
    "???"
   ]
  },
  {
   "cell_type": "code",
   "execution_count": 55,
   "metadata": {},
   "outputs": [],
   "source": [
    "# Quitemos BRA y USA por ser outlies y volvamos a graficar:\n",
    "???"
   ]
  },
  {
   "cell_type": "code",
   "execution_count": 62,
   "metadata": {},
   "outputs": [
    {
     "data": {
      "text/plain": [
       "<matplotlib.axes._subplots.AxesSubplot at 0x7f21ae827ef0>"
      ]
     },
     "execution_count": 62,
     "metadata": {},
     "output_type": "execute_result"
    },
    {
     "data": {
      "image/png": "[encoded data removed]",
      "text/plain": [
       "<Figure size 864x360 with 1 Axes>"
      ]
     },
     "metadata": {
      "needs_background": "light"
     },
     "output_type": "display_data"
    }
   ],
   "source": [
    "???"
   ]
  },
  {
   "cell_type": "markdown",
   "metadata": {},
   "source": [
    "---\n",
    "<a id=\"section36\"></a>\n",
    "## <font color=\"#004D7F\"> 3.6. Mejorando la visualización</font>"
   ]
  },
  {
   "cell_type": "markdown",
   "metadata": {},
   "source": [
    "Como podemos observar la gráfica no se ve bien ya que tenemos muchos valores y muy diferentes entre ellos. Para ello una buena metodología es segmentar en rangos. En este caso, podríamos quitar por \"lo bajo\", area menor a 110.000$km^{2}$."
   ]
  },
  {
   "cell_type": "code",
   "execution_count": 61,
   "metadata": {},
   "outputs": [
    {
     "data": {
      "text/plain": [
       "<matplotlib.axes._subplots.AxesSubplot at 0x7f21ae90dbe0>"
      ]
     },
     "execution_count": 61,
     "metadata": {},
     "output_type": "execute_result"
    },
    {
     "data": {
      "image/png": "[encoded data removed]",
      "text/plain": [
       "<Figure size 720x360 with 1 Axes>"
      ]
     },
     "metadata": {
      "needs_background": "light"
     },
     "output_type": "display_data"
    }
   ],
   "source": [
    "???"
   ]
  },
  {
   "cell_type": "markdown",
   "metadata": {},
   "source": [
    "<div style=\"text-align: right\"> <font size=5>\n",
    "    <a href=\"#indice\"><i class=\"fa fa-arrow-circle-up\" aria-hidden=\"true\" style=\"color:#004D7F\"></i></a>\n",
    "</font></div>\n",
    "\n",
    "---\n",
    "\n",
    "<div style=\"text-align: right\"> <font size=6><i class=\"fa fa-coffee\" aria-hidden=\"true\" style=\"color:#004D7F\"></i> </font></div>"
   ]
  }
 ],
 "metadata": {
  "kernelspec": {
   "display_name": "Python 3 (ipykernel)",
   "language": "python",
   "name": "python3"
  },
  "language_info": {
   "codemirror_mode": {
    "name": "ipython",
    "version": 3
   },
   "file_extension": ".py",
   "mimetype": "text/x-python",
   "name": "python",
   "nbconvert_exporter": "python",
   "pygments_lexer": "ipython3",
   "version": "3.9.13"
  },
  "toc": {
   "base_numbering": 1,
   "nav_menu": {},
   "number_sections": false,
   "sideBar": true,
   "skip_h1_title": true,
   "title_cell": "Table of Contents",
   "title_sidebar": "Contents",
   "toc_cell": false,
   "toc_position": {},
   "toc_section_display": true,
   "toc_window_display": false
  }
 },
 "nbformat": 4,
 "nbformat_minor": 4
}
