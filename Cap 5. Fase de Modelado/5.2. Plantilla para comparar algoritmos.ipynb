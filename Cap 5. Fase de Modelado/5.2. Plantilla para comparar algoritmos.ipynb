{
 "cells": [
  {
   "cell_type": "markdown",
   "metadata": {},
   "source": [
    "<h2><font color=\"#004D7F\" size=6>Módulo 5. Fase de modelado</font></h2>\n",
    "\n",
    "\n",
    "\n",
    "<h1><font color=\"#004D7F\" size=5>2. Plantilla para comparar algoritmos</font></h1>\n",
    "\n",
    "<br><br>\n",
    "<div style=\"text-align: right\">\n",
    "<font color=\"#004D7F\" size=3>Manuel Castillo-Cara</font><br>\n",
    "<font color=\"#004D7F\" size=3>Machine Learning con Python</font><br>"
   ]
  },
  {
   "cell_type": "markdown",
   "metadata": {},
   "source": [
    "---\n",
    "\n",
    "<h2><font color=\"#004D7F\" size=5>Índice</font></h2>\n",
    "<a id=\"indice\"></a>\n",
    "\n",
    "* [1. Introducción](#section1)\n",
    "    * [1.1. Librerías](#section11)\n",
    "    * [1.2. CSV](#section12)\n",
    "* [2. Plantilla para comparar algoritmos](#section2)\n",
    "* [3. Estudio de linea base](#section3)\n",
    "    * [3.1. Instalación de librerías](#section31)\n",
    "    * [3.2. Problema de clasificación](#section32)\n",
    "    * [3.3. Problema de regresión](#section33)"
   ]
  },
  {
   "cell_type": "code",
   "execution_count": 5,
   "metadata": {},
   "outputs": [
    {
     "name": "stderr",
     "output_type": "stream",
     "text": [
      "C:\\Users\\eel20\\AppData\\Local\\Temp\\ipykernel_12332\\1126351303.py:2: DeprecationWarning: Importing display from IPython.core.display is deprecated since IPython 7.14, please import from IPython display\n",
      "  from IPython.core.display import display, HTML\n"
     ]
    },
    {
     "data": {
      "text/html": [
       "<style>.container{ width:98% }</style>"
      ],
      "text/plain": [
       "<IPython.core.display.HTML object>"
      ]
     },
     "metadata": {},
     "output_type": "display_data"
    }
   ],
   "source": [
    "# Permite ajustar la anchura de la parte útil de la libreta (reduce los márgenes)\n",
    "from IPython.core.display import display, HTML\n",
    "display(HTML(\"<style>.container{ width:98% }</style>\"))"
   ]
  },
  {
   "cell_type": "markdown",
   "metadata": {},
   "source": [
    "---\n",
    "\n",
    "<a id=\"section1\"></a>\n",
    "# <font color=\"#004D7F\"> 1. Introducción</font>"
   ]
  },
  {
   "cell_type": "markdown",
   "metadata": {},
   "source": [
    "Cuando trabajas en un proyecto de ML, a menudo terminas con múltiples buenos modelos para elegir. Cada modelo tendrá diferentes características de rendimiento. Usando métodos de remuestreo como la validación cruzada, puede obtener una estimación de la precisión de cada modelo en datos no etiquetados. Debe poder utilizar estas estimaciones para elegir uno o dos mejores modelos del conjunto de modelos que ha creado.\n",
    "\n",
    "Cuando tiene un nuevo conjunto de datos, es una buena idea visualizar los datos utilizando diferentes técnicas para ver los datos desde diferentes perspectivas. La misma idea se aplica a la selección del modelo. Debe usar una cantidad de formas diferentes de ver la precisión estimada de sus algoritmos de ML para elegir uno o dos algoritmos para finalizar. Una forma de hacerlo es utilizar métodos de visualización para mostrar la precisión promedio, la varianza y otras propiedades de la distribución de las precisiones del modelo."
   ]
  },
  {
   "cell_type": "markdown",
   "metadata": {},
   "source": [
    "<a id=\"section11\"></a>\n",
    "## <font color=\"#004D7F\"> 1.1. Librerías</font>"
   ]
  },
  {
   "cell_type": "markdown",
   "metadata": {},
   "source": [
    "Vamos a declarar algunas librerías generales que ya hemos estado trabajando y que usaremos a lo largo de la sección."
   ]
  },
  {
   "cell_type": "code",
   "execution_count": 6,
   "metadata": {},
   "outputs": [],
   "source": [
    "#importing libraries\n",
    "import pandas as pd\n",
    "import numpy as np\n",
    "import matplotlib.pyplot as plt\n",
    "from sklearn.model_selection import KFold\n",
    "from sklearn.model_selection import cross_val_score\n",
    "from sklearn.linear_model import LogisticRegression\n",
    "from sklearn.tree import DecisionTreeClassifier\n",
    "from sklearn.neighbors import KNeighborsClassifier\n",
    "from sklearn.discriminant_analysis import LinearDiscriminantAnalysis\n",
    "from sklearn.naive_bayes import GaussianNB\n",
    "from sklearn.svm import SVC"
   ]
  },
  {
   "cell_type": "markdown",
   "metadata": {},
   "source": [
    "<a id=\"section12\"></a>\n",
    "## <font color=\"#004D7F\"> 1.2. CSV</font>"
   ]
  },
  {
   "cell_type": "markdown",
   "metadata": {},
   "source": [
    "En esta lección, se muestran varias métricas de evaluación de algoritmos diferentes para problemas de Machine Learning de clasificación y regresión. En cada código, el conjunto de datos se descarga directamente del repositorio de UCI Machine Learning.\n",
    "* **Clasificación**: Se utilizará el conjunto de datos de Pima Indians Diabetes con una validación cruzada 10-folds para demostrar cómo verificar cada algoritmo de ML y se utilizan medidas de precisión promedio para indicar el rendimiento del algoritmo."
   ]
  },
  {
   "cell_type": "code",
   "execution_count": 7,
   "metadata": {},
   "outputs": [],
   "source": [
    "# Clasification problem\n",
    "filename = 'data/pima-indians-diabetes.data.csv'\n",
    "names = ['preg', 'plas', 'pres', 'skin', 'test', 'mass', 'pedi', 'age', 'class']\n",
    "dataframe = pd.read_csv(filename, names=names)\n",
    "array = dataframe.values\n",
    "X = array[:,0:8]\n",
    "Y = array[:,8]"
   ]
  },
  {
   "cell_type": "markdown",
   "metadata": {},
   "source": [
    "<div style=\"text-align: right\"> <font size=5>\n",
    "    <a href=\"#indice\"><i class=\"fa fa-arrow-circle-up\" aria-hidden=\"true\" style=\"color:#004D7F\"></i></a>\n",
    "</font></div>\n",
    "\n",
    "---"
   ]
  },
  {
   "cell_type": "markdown",
   "metadata": {},
   "source": [
    "<a id=\"section31\"></a>\n",
    "# <font color=\"#004D7F\"> 2. Plantilla para comparar algoritmos</font>"
   ]
  },
  {
   "cell_type": "markdown",
   "metadata": {},
   "source": [
    "La clave para una comparación equitativa de los algoritmos de ML es garantizar que cada algoritmo se evalúe de la misma manera en los mismos datos. Los algoritmos se comparan en un único conjunto de datos:\n",
    "* Logistic Regression.\n",
    "* Linear Discriminant Analysis.\n",
    "* k-Nearest Neighbors.\n",
    "* Classification and Regression Trees. \n",
    "* Naive Bayes.\n",
    "* Support Vector Machines.\n",
    "\n",
    "El código mostrará:\n",
    "* Una lista de cada nombre corto de algoritmo, el accuracy media y el accuracy de la desviación estándar.\n",
    "* Un diagrama Boxplot que muestra la extensión de los puntajes de accuracy en cada fold de validación cruzada para cada algoritmo."
   ]
  },
  {
   "cell_type": "code",
   "execution_count": 26,
   "metadata": {
    "scrolled": true
   },
   "outputs": [
    {
     "name": "stdout",
     "output_type": "stream",
     "text": [
      "LoR: 77.22% (4.97%)\n",
      "LDA: 76.70% (4.80%)\n",
      "K-NN: 76.17% (4.56%)\n",
      "CART: 68.77% (5.21%)\n",
      "NB: 75.91% (3.90%)\n",
      "SVM: 76.95% (3.69%)\n"
     ]
    }
   ],
   "source": [
    "# Compare Algorithms\n",
    "# prepare models\n",
    "models = []\n",
    "models.append(('LoR', LogisticRegression(solver='lbfgs', max_iter=1000)))\n",
    "models.append(('LDA', LinearDiscriminantAnalysis()))\n",
    "#models.append(('K-NN', KNeighborsClassifier()))\n",
    "models.append(('K-NN', KNeighborsClassifier(n_neighbors=19)))\n",
    "models.append(('CART', DecisionTreeClassifier()))\n",
    "models.append(('NB', GaussianNB()))\n",
    "#models.append(('SVM', SVC(gamma='auto')))\n",
    "#models.append(('SVM', SVC(gamma='auto', C=2.0)))\n",
    "models.append(('SVM', SVC(gamma='auto', C=2.0, kernel='linear')))\n",
    "\n",
    "\n",
    "# evaluate each model in turn\n",
    "results = []\n",
    "names= []\n",
    "scoring = 'accuracy'\n",
    "\n",
    "#### mas rapido \n",
    "for name, model in models:\n",
    "    kfold = KFold(n_splits=10, random_state=7, shuffle=True)\n",
    "    cv_results = cross_val_score(model, X, Y, cv=kfold, scoring=scoring)\n",
    "    results.append(cv_results)\n",
    "    names.append(name)\n",
    "    print(f\"{name}: {cv_results.mean()*100.0:,.2f}% ({cv_results.std()*100.0:,.2f}%)\")\n",
    "\n",
    "#### espera que todos terminen para presentar el resultado\n",
    "#for name, model in models:\n",
    "#    kfold = KFold(n_splits=10, random_state=7, shuffle=True)\n",
    "#    cv_results = cross_val_score(model, X, Y, cv=kfold, scoring=scoring)\n",
    "#    results.append(cv_results)\n",
    "#    names.append(name)\n",
    "#    print(f\"{name}: {cv_results.mean()*100.0:,.2f}% ({cv_results.std()*100.0:,.2f}%)  Total: ({cv_results.mean()*100.0 - cv_results.std()*100.0:,.2f})\")\n"
   ]
  },
  {
   "cell_type": "code",
   "execution_count": 27,
   "metadata": {
    "scrolled": false
   },
   "outputs": [
    {
     "data": {
      "image/png": "[encoded data removed]",
      "text/plain": [
       "<Figure size 640x480 with 1 Axes>"
      ]
     },
     "metadata": {},
     "output_type": "display_data"
    }
   ],
   "source": [
    "# boxplot algorithm comparison\n",
    "fig = plt.figure()\n",
    "fig.suptitle(\"Comparacion de algoritmos\")\n",
    "ax = fig.add_subplot(111)\n",
    "plt.boxplot(results)\n",
    "ax.set_xticklabels(names)\n",
    "plt.show()"
   ]
  },
  {
   "cell_type": "markdown",
   "metadata": {},
   "source": [
    "A partir de estos resultados, observamos que tanto LoR como LDA son quizás dignos de estudios adicionales sobre este problema."
   ]
  },
  {
   "cell_type": "markdown",
   "metadata": {},
   "source": [
    "<a id=\"section3\"></a>\n",
    "# <font color=\"#004D7F\"> 3. Estudio de línea base</font>"
   ]
  },
  {
   "cell_type": "markdown",
   "metadata": {},
   "source": [
    "Como se ha podido ver en este tema existen un gran número de algoritmos de machine learning. Poder identificar el mejor de ellos no es una tarea simple, no solamente por ser demasiados, sino también por el naturaleza del algoritmo el cual puede tener una cantidad de hiperparámetros determinante en los resultados.\n",
    "\n",
    "Para intentar sacar el mejor algoritmo base que mejor se comporte a nuestro dataset se tiene una librería que nos permite obtener el mejor modelo sin configuración de sus hiperparámetros, es decir, mejor algoritmo de linea base. Esta librería se llama [`lazypredict`](https://lazypredict.readthedocs.io/en/latest/)."
   ]
  },
  {
   "cell_type": "markdown",
   "metadata": {},
   "source": [
    "<div class=\"alert alert-block alert-info\">  \n",
    "    \n",
    "<i class=\"fa fa-exclamation-circle\" aria-hidden=\"true\"></i>\n",
    "Documentación oficial de la clase [`lazypredict`](https://lazypredict.readthedocs.io/en/latest/).\n",
    "</div> "
   ]
  },
  {
   "cell_type": "markdown",
   "metadata": {},
   "source": [
    "<div class=\"alert alert-block alert-info\">  \n",
    "    \n",
    "<i class=\"fa fa-exclamation-circle\" aria-hidden=\"true\"></i>\n",
    "Github oficial de [`lazypredict`](https://github.com/shankarpandala/lazypredict).\n",
    "</div> "
   ]
  },
  {
   "cell_type": "markdown",
   "metadata": {},
   "source": [
    "<a id=\"section31\"></a>\n",
    "## <font color=\"#004D7F\"> 3.1. Instalación de librerías</font>"
   ]
  },
  {
   "cell_type": "code",
   "execution_count": 28,
   "metadata": {},
   "outputs": [
    {
     "name": "stdout",
     "output_type": "stream",
     "text": [
      "Collecting lazypredict\n",
      "  Downloading lazypredict-0.2.12-py2.py3-none-any.whl (12 kB)\n",
      "Requirement already satisfied: pandas in c:\\users\\eel20\\anaconda3\\lib\\site-packages (from lazypredict) (1.5.3)\n",
      "Requirement already satisfied: scikit-learn in c:\\users\\eel20\\anaconda3\\lib\\site-packages (from lazypredict) (1.2.2)\n",
      "Requirement already satisfied: click in c:\\users\\eel20\\anaconda3\\lib\\site-packages (from lazypredict) (8.0.4)\n",
      "Collecting xgboost\n",
      "  Downloading xgboost-1.7.5-py3-none-win_amd64.whl (70.9 MB)\n",
      "     ---------------------------------------- 0.0/70.9 MB ? eta -:--:--\n",
      "     ---------------------------------------- 0.4/70.9 MB 8.5 MB/s eta 0:00:09\n",
      "     ---------------------------------------- 0.8/70.9 MB 8.2 MB/s eta 0:00:09\n",
      "      --------------------------------------- 1.2/70.9 MB 8.5 MB/s eta 0:00:09\n",
      "      --------------------------------------- 1.5/70.9 MB 8.0 MB/s eta 0:00:09\n",
      "     - -------------------------------------- 1.8/70.9 MB 8.4 MB/s eta 0:00:09\n",
      "     - -------------------------------------- 2.2/70.9 MB 8.1 MB/s eta 0:00:09\n",
      "     - -------------------------------------- 2.5/70.9 MB 7.5 MB/s eta 0:00:10\n",
      "     - -------------------------------------- 2.7/70.9 MB 7.4 MB/s eta 0:00:10\n",
      "     - -------------------------------------- 3.1/70.9 MB 7.3 MB/s eta 0:00:10\n",
      "     -- ------------------------------------- 3.6/70.9 MB 7.9 MB/s eta 0:00:09\n",
      "     -- ------------------------------------- 4.1/70.9 MB 8.1 MB/s eta 0:00:09\n",
      "     -- ------------------------------------- 4.5/70.9 MB 8.1 MB/s eta 0:00:09\n",
      "     -- ------------------------------------- 5.0/70.9 MB 8.3 MB/s eta 0:00:08\n",
      "     --- ------------------------------------ 5.5/70.9 MB 8.4 MB/s eta 0:00:08\n",
      "     --- ------------------------------------ 5.9/70.9 MB 8.4 MB/s eta 0:00:08\n",
      "     --- ------------------------------------ 6.5/70.9 MB 8.8 MB/s eta 0:00:08\n",
      "     ---- ----------------------------------- 7.2/70.9 MB 9.0 MB/s eta 0:00:08\n",
      "     ---- ----------------------------------- 7.9/70.9 MB 9.3 MB/s eta 0:00:07\n",
      "     ---- ----------------------------------- 8.6/70.9 MB 9.6 MB/s eta 0:00:07\n",
      "     ----- ---------------------------------- 9.1/70.9 MB 9.7 MB/s eta 0:00:07\n",
      "     ----- ---------------------------------- 9.7/70.9 MB 9.9 MB/s eta 0:00:07\n",
      "     ----- --------------------------------- 10.3/70.9 MB 10.1 MB/s eta 0:00:07\n",
      "     ------ -------------------------------- 11.0/70.9 MB 10.4 MB/s eta 0:00:06\n",
      "     ------ -------------------------------- 11.4/70.9 MB 10.4 MB/s eta 0:00:06\n",
      "     ------ -------------------------------- 12.0/70.9 MB 10.9 MB/s eta 0:00:06\n",
      "     ------ -------------------------------- 12.7/70.9 MB 11.7 MB/s eta 0:00:05\n",
      "     ------- ------------------------------- 13.2/70.9 MB 12.1 MB/s eta 0:00:05\n",
      "     ------- ------------------------------- 13.8/70.9 MB 12.4 MB/s eta 0:00:05\n",
      "     ------- ------------------------------- 14.2/70.9 MB 12.1 MB/s eta 0:00:05\n",
      "     ------- ------------------------------- 14.4/70.9 MB 11.7 MB/s eta 0:00:05\n",
      "     -------- ------------------------------ 14.8/70.9 MB 11.7 MB/s eta 0:00:05\n",
      "     -------- ------------------------------ 15.4/70.9 MB 11.9 MB/s eta 0:00:05\n",
      "     -------- ------------------------------ 15.9/70.9 MB 11.9 MB/s eta 0:00:05\n",
      "     -------- ------------------------------ 16.2/70.9 MB 11.7 MB/s eta 0:00:05\n",
      "     --------- ----------------------------- 16.6/70.9 MB 11.5 MB/s eta 0:00:05\n",
      "     --------- ----------------------------- 16.9/70.9 MB 11.1 MB/s eta 0:00:05\n",
      "     --------- ----------------------------- 17.1/70.9 MB 10.7 MB/s eta 0:00:06\n",
      "     --------- ----------------------------- 17.4/70.9 MB 10.4 MB/s eta 0:00:06\n",
      "     --------- ----------------------------- 17.7/70.9 MB 10.2 MB/s eta 0:00:06\n",
      "     ---------- ----------------------------- 17.9/70.9 MB 9.9 MB/s eta 0:00:06\n",
      "     ---------- ----------------------------- 18.2/70.9 MB 9.6 MB/s eta 0:00:06\n",
      "     ---------- ----------------------------- 18.2/70.9 MB 9.5 MB/s eta 0:00:06\n",
      "     ---------- ----------------------------- 18.8/70.9 MB 9.2 MB/s eta 0:00:06\n",
      "     ---------- ----------------------------- 19.3/70.9 MB 9.1 MB/s eta 0:00:06\n",
      "     ----------- ---------------------------- 20.0/70.9 MB 9.2 MB/s eta 0:00:06\n",
      "     ----------- ---------------------------- 20.5/70.9 MB 9.2 MB/s eta 0:00:06\n",
      "     ----------- ---------------------------- 21.2/70.9 MB 9.1 MB/s eta 0:00:06\n",
      "     ------------ --------------------------- 21.8/70.9 MB 9.2 MB/s eta 0:00:06\n",
      "     ------------ --------------------------- 22.3/70.9 MB 9.2 MB/s eta 0:00:06\n",
      "     ------------ --------------------------- 22.8/70.9 MB 9.1 MB/s eta 0:00:06\n",
      "     ------------- -------------------------- 23.4/70.9 MB 9.2 MB/s eta 0:00:06\n",
      "     ------------- -------------------------- 24.1/70.9 MB 9.2 MB/s eta 0:00:06\n",
      "     ------------- -------------------------- 24.8/70.9 MB 9.6 MB/s eta 0:00:05\n",
      "     -------------- ------------------------- 25.4/70.9 MB 9.8 MB/s eta 0:00:05\n",
      "     -------------- ------------------------- 26.0/70.9 MB 9.9 MB/s eta 0:00:05\n",
      "     -------------- ------------------------ 26.6/70.9 MB 10.1 MB/s eta 0:00:05\n",
      "     -------------- ------------------------ 27.3/70.9 MB 10.7 MB/s eta 0:00:05\n",
      "     -------------- ------------------------ 27.3/70.9 MB 10.7 MB/s eta 0:00:05\n",
      "     -------------- ------------------------ 27.3/70.9 MB 10.7 MB/s eta 0:00:05\n",
      "     -------------- ------------------------ 27.3/70.9 MB 10.7 MB/s eta 0:00:05\n",
      "     --------------- ------------------------ 27.8/70.9 MB 9.9 MB/s eta 0:00:05\n",
      "     --------------- ----------------------- 28.3/70.9 MB 10.4 MB/s eta 0:00:05\n",
      "     --------------- ----------------------- 28.8/70.9 MB 10.7 MB/s eta 0:00:04\n",
      "     ---------------- ---------------------- 29.4/70.9 MB 10.9 MB/s eta 0:00:04\n",
      "     ---------------- ---------------------- 30.1/70.9 MB 10.9 MB/s eta 0:00:04\n",
      "     ---------------- ---------------------- 30.8/70.9 MB 10.9 MB/s eta 0:00:04\n",
      "     ----------------- --------------------- 31.5/70.9 MB 11.1 MB/s eta 0:00:04\n",
      "     ----------------- --------------------- 32.0/70.9 MB 10.9 MB/s eta 0:00:04\n",
      "     ----------------- --------------------- 32.7/70.9 MB 11.3 MB/s eta 0:00:04\n",
      "     ------------------ -------------------- 33.1/70.9 MB 11.1 MB/s eta 0:00:04\n",
      "     ------------------ -------------------- 33.8/70.9 MB 11.1 MB/s eta 0:00:04\n",
      "     ------------------ -------------------- 34.4/70.9 MB 11.1 MB/s eta 0:00:04\n",
      "     ------------------- ------------------- 34.9/70.9 MB 10.9 MB/s eta 0:00:04\n",
      "     ------------------- ------------------- 35.2/70.9 MB 10.7 MB/s eta 0:00:04\n",
      "     ------------------- ------------------- 35.7/70.9 MB 10.6 MB/s eta 0:00:04\n",
      "     -------------------- ------------------ 36.4/70.9 MB 10.6 MB/s eta 0:00:04\n",
      "     -------------------- ------------------ 37.0/70.9 MB 10.6 MB/s eta 0:00:04\n",
      "     -------------------- ------------------ 37.5/70.9 MB 12.4 MB/s eta 0:00:03\n",
      "     -------------------- ------------------ 38.0/70.9 MB 12.1 MB/s eta 0:00:03\n",
      "     --------------------- ----------------- 38.5/70.9 MB 12.1 MB/s eta 0:00:03\n",
      "     --------------------- ----------------- 39.2/70.9 MB 12.4 MB/s eta 0:00:03\n",
      "     --------------------- ----------------- 39.9/70.9 MB 12.4 MB/s eta 0:00:03\n",
      "     ---------------------- ---------------- 40.4/70.9 MB 12.1 MB/s eta 0:00:03\n",
      "     ---------------------- ---------------- 40.9/70.9 MB 12.1 MB/s eta 0:00:03\n",
      "     ---------------------- ---------------- 41.5/70.9 MB 11.9 MB/s eta 0:00:03\n",
      "     ----------------------- --------------- 42.1/70.9 MB 12.1 MB/s eta 0:00:03\n",
      "     ----------------------- --------------- 42.7/70.9 MB 12.1 MB/s eta 0:00:03\n",
      "     ----------------------- --------------- 43.4/70.9 MB 12.1 MB/s eta 0:00:03\n",
      "     ------------------------ -------------- 43.9/70.9 MB 12.1 MB/s eta 0:00:03\n",
      "     ------------------------ -------------- 44.6/70.9 MB 12.1 MB/s eta 0:00:03\n",
      "     ------------------------ -------------- 45.1/70.9 MB 12.1 MB/s eta 0:00:03\n",
      "     ------------------------ -------------- 45.4/70.9 MB 11.9 MB/s eta 0:00:03\n",
      "     ------------------------- ------------- 45.8/70.9 MB 12.1 MB/s eta 0:00:03\n",
      "     ------------------------- ------------- 46.5/70.9 MB 11.9 MB/s eta 0:00:03\n",
      "     ------------------------- ------------- 47.2/70.9 MB 12.1 MB/s eta 0:00:02\n",
      "     -------------------------- ------------ 47.7/70.9 MB 12.1 MB/s eta 0:00:02\n",
      "     -------------------------- ------------ 48.3/70.9 MB 12.1 MB/s eta 0:00:02\n",
      "     -------------------------- ------------ 48.9/70.9 MB 12.1 MB/s eta 0:00:02\n",
      "     --------------------------- ----------- 49.4/70.9 MB 12.1 MB/s eta 0:00:02\n",
      "     --------------------------- ----------- 50.0/70.9 MB 11.9 MB/s eta 0:00:02\n",
      "     --------------------------- ----------- 50.4/70.9 MB 11.7 MB/s eta 0:00:02\n",
      "     ---------------------------- ---------- 51.0/70.9 MB 12.1 MB/s eta 0:00:02\n",
      "     ---------------------------- ---------- 51.5/70.9 MB 12.1 MB/s eta 0:00:02\n",
      "     ---------------------------- ---------- 52.1/70.9 MB 11.9 MB/s eta 0:00:02\n",
      "     ---------------------------- ---------- 52.6/70.9 MB 11.9 MB/s eta 0:00:02\n",
      "     ----------------------------- --------- 53.2/70.9 MB 11.9 MB/s eta 0:00:02\n",
      "     ----------------------------- --------- 53.6/70.9 MB 11.7 MB/s eta 0:00:02\n",
      "     ----------------------------- --------- 54.0/70.9 MB 11.5 MB/s eta 0:00:02\n",
      "     ----------------------------- --------- 54.4/70.9 MB 11.3 MB/s eta 0:00:02\n",
      "     ------------------------------ -------- 54.9/70.9 MB 11.1 MB/s eta 0:00:02\n",
      "     ------------------------------ -------- 55.4/70.9 MB 11.3 MB/s eta 0:00:02\n",
      "     ------------------------------ -------- 56.0/70.9 MB 11.5 MB/s eta 0:00:02\n",
      "     ------------------------------- ------- 56.5/70.9 MB 11.3 MB/s eta 0:00:02\n",
      "     ------------------------------- ------- 56.9/70.9 MB 10.9 MB/s eta 0:00:02\n",
      "     ------------------------------- ------- 57.4/70.9 MB 10.9 MB/s eta 0:00:02\n",
      "     ------------------------------- ------- 57.9/70.9 MB 10.7 MB/s eta 0:00:02\n",
      "     -------------------------------- ------ 58.7/70.9 MB 11.1 MB/s eta 0:00:02\n",
      "     -------------------------------- ------ 59.2/70.9 MB 10.9 MB/s eta 0:00:02\n",
      "     -------------------------------- ------ 59.8/70.9 MB 11.1 MB/s eta 0:00:02\n",
      "     --------------------------------- ----- 60.4/70.9 MB 11.1 MB/s eta 0:00:01\n",
      "     --------------------------------- ----- 61.0/70.9 MB 11.3 MB/s eta 0:00:01\n",
      "     --------------------------------- ----- 61.5/70.9 MB 11.1 MB/s eta 0:00:01\n",
      "     ---------------------------------- ---- 62.0/70.9 MB 11.3 MB/s eta 0:00:01\n",
      "     ---------------------------------- ---- 62.6/70.9 MB 11.3 MB/s eta 0:00:01\n",
      "     ---------------------------------- ---- 63.2/70.9 MB 11.3 MB/s eta 0:00:01\n",
      "     ----------------------------------- --- 63.8/70.9 MB 11.3 MB/s eta 0:00:01\n",
      "     ----------------------------------- --- 64.3/70.9 MB 11.7 MB/s eta 0:00:01\n",
      "     ----------------------------------- --- 65.0/70.9 MB 12.1 MB/s eta 0:00:01\n",
      "     ------------------------------------ -- 65.5/70.9 MB 12.1 MB/s eta 0:00:01\n",
      "     ------------------------------------ -- 66.0/70.9 MB 11.9 MB/s eta 0:00:01\n",
      "     ------------------------------------ -- 66.6/70.9 MB 12.1 MB/s eta 0:00:01\n",
      "     ------------------------------------ -- 67.1/70.9 MB 12.1 MB/s eta 0:00:01\n",
      "     ------------------------------------- - 67.7/70.9 MB 12.4 MB/s eta 0:00:01\n",
      "     ------------------------------------- - 68.3/70.9 MB 12.4 MB/s eta 0:00:01\n",
      "     ------------------------------------- - 68.8/70.9 MB 12.1 MB/s eta 0:00:01\n",
      "     --------------------------------------  69.5/70.9 MB 12.4 MB/s eta 0:00:01\n",
      "     --------------------------------------  70.1/70.9 MB 12.4 MB/s eta 0:00:01\n",
      "     --------------------------------------  70.7/70.9 MB 12.6 MB/s eta 0:00:01\n",
      "     --------------------------------------  70.9/70.9 MB 12.4 MB/s eta 0:00:01\n",
      "     --------------------------------------  70.9/70.9 MB 12.4 MB/s eta 0:00:01\n",
      "     --------------------------------------  70.9/70.9 MB 12.4 MB/s eta 0:00:01\n",
      "     --------------------------------------  70.9/70.9 MB 12.4 MB/s eta 0:00:01\n",
      "     --------------------------------------  70.9/70.9 MB 12.4 MB/s eta 0:00:01\n",
      "     ---------------------------------------- 70.9/70.9 MB 9.3 MB/s eta 0:00:00\n",
      "Collecting lightgbm\n",
      "  Downloading lightgbm-3.3.5-py3-none-win_amd64.whl (1.0 MB)\n",
      "     ---------------------------------------- 0.0/1.0 MB ? eta -:--:--\n",
      "     ---------------- ----------------------- 0.4/1.0 MB 12.8 MB/s eta 0:00:01\n",
      "     ---------------------------------------- 1.0/1.0 MB 13.0 MB/s eta 0:00:00\n",
      "Requirement already satisfied: tqdm in c:\\users\\eel20\\anaconda3\\lib\\site-packages (from lazypredict) (4.65.0)\n",
      "Requirement already satisfied: joblib in c:\\users\\eel20\\anaconda3\\lib\\site-packages (from lazypredict) (1.2.0)\n",
      "Requirement already satisfied: colorama in c:\\users\\eel20\\anaconda3\\lib\\site-packages (from click->lazypredict) (0.4.6)\n",
      "Requirement already satisfied: wheel in c:\\users\\eel20\\anaconda3\\lib\\site-packages (from lightgbm->lazypredict) (0.38.4)\n",
      "Requirement already satisfied: scipy in c:\\users\\eel20\\anaconda3\\lib\\site-packages (from lightgbm->lazypredict) (1.9.1)\n",
      "Requirement already satisfied: numpy in c:\\users\\eel20\\anaconda3\\lib\\site-packages (from lightgbm->lazypredict) (1.24.3)\n",
      "Requirement already satisfied: threadpoolctl>=2.0.0 in c:\\users\\eel20\\anaconda3\\lib\\site-packages (from scikit-learn->lazypredict) (2.2.0)\n",
      "Requirement already satisfied: python-dateutil>=2.8.1 in c:\\users\\eel20\\anaconda3\\lib\\site-packages (from pandas->lazypredict) (2.8.2)\n",
      "Requirement already satisfied: pytz>=2020.1 in c:\\users\\eel20\\anaconda3\\lib\\site-packages (from pandas->lazypredict) (2022.7)\n",
      "Requirement already satisfied: six>=1.5 in c:\\users\\eel20\\anaconda3\\lib\\site-packages (from python-dateutil>=2.8.1->pandas->lazypredict) (1.16.0)\n",
      "Installing collected packages: xgboost, lightgbm, lazypredict\n",
      "Successfully installed lazypredict-0.2.12 lightgbm-3.3.5 xgboost-1.7.5\n"
     ]
    },
    {
     "name": "stdout",
     "output_type": "stream",
     "text": [
      "Requirement already satisfied: tqdm in c:\\users\\eel20\\anaconda3\\lib\\site-packages (4.65.0)\n",
      "Requirement already satisfied: colorama in c:\\users\\eel20\\anaconda3\\lib\\site-packages (from tqdm) (0.4.6)\n",
      "Requirement already satisfied: xgboost in c:\\users\\eel20\\anaconda3\\lib\\site-packages (1.7.5)\n",
      "Requirement already satisfied: numpy in c:\\users\\eel20\\anaconda3\\lib\\site-packages (from xgboost) (1.24.3)\n",
      "Requirement already satisfied: scipy in c:\\users\\eel20\\anaconda3\\lib\\site-packages (from xgboost) (1.9.1)\n",
      "Collecting catboost\n",
      "  Downloading catboost-1.2-cp39-cp39-win_amd64.whl (101.0 MB)\n",
      "     ---------------------------------------- 0.0/101.0 MB ? eta -:--:--\n",
      "     ---------------------------------------- 0.3/101.0 MB 7.0 MB/s eta 0:00:15\n",
      "     ---------------------------------------- 0.8/101.0 MB 8.3 MB/s eta 0:00:13\n",
      "     ---------------------------------------- 1.2/101.0 MB 8.8 MB/s eta 0:00:12\n",
      "      --------------------------------------- 1.6/101.0 MB 8.7 MB/s eta 0:00:12\n",
      "      --------------------------------------- 2.1/101.0 MB 9.1 MB/s eta 0:00:11\n",
      "     - -------------------------------------- 2.6/101.0 MB 9.3 MB/s eta 0:00:11\n",
      "     - -------------------------------------- 3.1/101.0 MB 9.5 MB/s eta 0:00:11\n",
      "     - -------------------------------------- 3.5/101.0 MB 9.8 MB/s eta 0:00:10\n",
      "     - ------------------------------------- 4.2/101.0 MB 10.0 MB/s eta 0:00:10\n",
      "     - ------------------------------------- 4.8/101.0 MB 10.3 MB/s eta 0:00:10\n",
      "     -- ------------------------------------ 5.5/101.0 MB 10.9 MB/s eta 0:00:09\n",
      "     -- ------------------------------------ 6.0/101.0 MB 10.6 MB/s eta 0:00:09\n",
      "     -- ------------------------------------ 6.6/101.0 MB 10.7 MB/s eta 0:00:09\n",
      "     -- ------------------------------------ 7.2/101.0 MB 10.9 MB/s eta 0:00:09\n",
      "     --- ----------------------------------- 7.8/101.0 MB 11.4 MB/s eta 0:00:09\n",
      "     --- ----------------------------------- 8.3/101.0 MB 11.1 MB/s eta 0:00:09\n",
      "     --- ----------------------------------- 8.6/101.0 MB 11.1 MB/s eta 0:00:09\n",
      "     --- ----------------------------------- 9.1/101.0 MB 10.7 MB/s eta 0:00:09\n",
      "     --- ----------------------------------- 9.6/101.0 MB 11.0 MB/s eta 0:00:09\n",
      "     --- ---------------------------------- 10.1/101.0 MB 11.0 MB/s eta 0:00:09\n",
      "     --- ---------------------------------- 10.6/101.0 MB 11.1 MB/s eta 0:00:09\n",
      "     ---- --------------------------------- 11.2/101.0 MB 11.3 MB/s eta 0:00:08\n",
      "     ---- --------------------------------- 11.6/101.0 MB 11.3 MB/s eta 0:00:08\n",
      "     ---- --------------------------------- 12.0/101.0 MB 11.3 MB/s eta 0:00:08\n",
      "     ---- --------------------------------- 12.5/101.0 MB 11.1 MB/s eta 0:00:08\n",
      "     ---- --------------------------------- 12.8/101.0 MB 10.9 MB/s eta 0:00:09\n",
      "     ---- --------------------------------- 13.3/101.0 MB 11.1 MB/s eta 0:00:08\n",
      "     ----- -------------------------------- 13.7/101.0 MB 10.9 MB/s eta 0:00:09\n",
      "     ----- -------------------------------- 14.3/101.0 MB 10.9 MB/s eta 0:00:08\n",
      "     ----- -------------------------------- 14.8/101.0 MB 10.9 MB/s eta 0:00:08\n",
      "     ----- -------------------------------- 15.4/101.0 MB 10.7 MB/s eta 0:00:08\n",
      "     ----- -------------------------------- 15.9/101.0 MB 10.7 MB/s eta 0:00:08\n",
      "     ------ ------------------------------- 16.5/101.0 MB 10.9 MB/s eta 0:00:08\n",
      "     ------ ------------------------------- 17.1/101.0 MB 10.7 MB/s eta 0:00:08\n",
      "     ------ ------------------------------- 17.8/101.0 MB 10.9 MB/s eta 0:00:08\n",
      "     ------ ------------------------------- 18.2/101.0 MB 10.6 MB/s eta 0:00:08\n",
      "     ------ ------------------------------- 18.6/101.0 MB 10.6 MB/s eta 0:00:08\n",
      "     ------- ------------------------------ 19.2/101.0 MB 10.9 MB/s eta 0:00:08\n",
      "     ------- ------------------------------ 19.8/101.0 MB 10.9 MB/s eta 0:00:08\n",
      "     ------- ------------------------------ 20.3/101.0 MB 10.9 MB/s eta 0:00:08\n",
      "     ------- ------------------------------ 20.9/101.0 MB 11.1 MB/s eta 0:00:08\n",
      "     -------- ----------------------------- 21.3/101.0 MB 10.9 MB/s eta 0:00:08\n",
      "     -------- ----------------------------- 21.6/101.0 MB 10.6 MB/s eta 0:00:08\n",
      "     -------- ----------------------------- 22.1/101.0 MB 10.7 MB/s eta 0:00:08\n",
      "     -------- ----------------------------- 22.7/101.0 MB 10.9 MB/s eta 0:00:08\n",
      "     -------- ----------------------------- 23.2/101.0 MB 11.3 MB/s eta 0:00:07\n",
      "     -------- ----------------------------- 23.7/101.0 MB 11.3 MB/s eta 0:00:07\n",
      "     --------- ---------------------------- 24.1/101.0 MB 11.3 MB/s eta 0:00:07\n",
      "     --------- ---------------------------- 24.1/101.0 MB 11.3 MB/s eta 0:00:07\n",
      "     --------- ---------------------------- 24.1/101.0 MB 11.3 MB/s eta 0:00:07\n",
      "     --------- ---------------------------- 24.1/101.0 MB 11.3 MB/s eta 0:00:07\n",
      "     --------- ---------------------------- 24.1/101.0 MB 11.3 MB/s eta 0:00:07\n",
      "     --------- ---------------------------- 24.1/101.0 MB 11.3 MB/s eta 0:00:07\n",
      "     --------- ----------------------------- 24.2/101.0 MB 8.5 MB/s eta 0:00:10\n",
      "     --------- ----------------------------- 24.5/101.0 MB 8.5 MB/s eta 0:00:09\n",
      "     --------- ----------------------------- 25.2/101.0 MB 8.5 MB/s eta 0:00:09\n",
      "     --------- ----------------------------- 25.7/101.0 MB 8.5 MB/s eta 0:00:09\n",
      "     ---------- ---------------------------- 26.2/101.0 MB 8.5 MB/s eta 0:00:09\n",
      "     ---------- ---------------------------- 26.7/101.0 MB 8.4 MB/s eta 0:00:09\n",
      "     ---------- ---------------------------- 27.1/101.0 MB 8.4 MB/s eta 0:00:09\n",
      "     ---------- ---------------------------- 27.6/101.0 MB 8.2 MB/s eta 0:00:09\n",
      "     ---------- ---------------------------- 28.2/101.0 MB 8.3 MB/s eta 0:00:09\n",
      "     ----------- --------------------------- 28.8/101.0 MB 8.4 MB/s eta 0:00:09\n",
      "     ----------- --------------------------- 29.3/101.0 MB 8.3 MB/s eta 0:00:09\n",
      "     ----------- --------------------------- 29.9/101.0 MB 8.3 MB/s eta 0:00:09\n",
      "     ----------- --------------------------- 30.5/101.0 MB 8.4 MB/s eta 0:00:09\n",
      "     ----------- --------------------------- 31.0/101.0 MB 8.4 MB/s eta 0:00:09\n",
      "     ------------ -------------------------- 31.6/101.0 MB 8.5 MB/s eta 0:00:09\n",
      "     ------------ -------------------------- 32.2/101.0 MB 8.7 MB/s eta 0:00:08\n",
      "     ------------ -------------------------- 32.9/101.0 MB 8.7 MB/s eta 0:00:08\n",
      "     ------------ -------------------------- 33.4/101.0 MB 8.7 MB/s eta 0:00:08\n",
      "     ------------- ------------------------- 34.0/101.0 MB 8.7 MB/s eta 0:00:08\n",
      "     ------------- ------------------------ 34.7/101.0 MB 11.9 MB/s eta 0:00:06\n",
      "     ------------- ------------------------ 35.3/101.0 MB 12.4 MB/s eta 0:00:06\n",
      "     ------------- ------------------------ 35.9/101.0 MB 12.1 MB/s eta 0:00:06\n",
      "     ------------- ------------------------ 36.6/101.0 MB 12.3 MB/s eta 0:00:06\n",
      "     ------------- ------------------------ 37.1/101.0 MB 12.8 MB/s eta 0:00:05\n",
      "     -------------- ----------------------- 37.7/101.0 MB 12.6 MB/s eta 0:00:06\n",
      "     -------------- ----------------------- 38.3/101.0 MB 12.8 MB/s eta 0:00:05\n",
      "     -------------- ----------------------- 38.9/101.0 MB 12.6 MB/s eta 0:00:05\n",
      "     -------------- ----------------------- 39.5/101.0 MB 12.8 MB/s eta 0:00:05\n",
      "     --------------- ---------------------- 39.9/101.0 MB 12.6 MB/s eta 0:00:05\n",
      "     --------------- ---------------------- 40.3/101.0 MB 12.6 MB/s eta 0:00:05\n",
      "     --------------- ---------------------- 40.9/101.0 MB 12.3 MB/s eta 0:00:05\n",
      "     --------------- ---------------------- 41.3/101.0 MB 12.1 MB/s eta 0:00:05\n",
      "     --------------- ---------------------- 41.7/101.0 MB 11.9 MB/s eta 0:00:05\n",
      "     --------------- ---------------------- 42.2/101.0 MB 11.9 MB/s eta 0:00:05\n",
      "     ---------------- --------------------- 42.8/101.0 MB 11.9 MB/s eta 0:00:05\n",
      "     ---------------- --------------------- 43.3/101.0 MB 11.7 MB/s eta 0:00:05\n",
      "     ---------------- --------------------- 43.9/101.0 MB 11.7 MB/s eta 0:00:05\n",
      "     ---------------- --------------------- 44.5/101.0 MB 11.7 MB/s eta 0:00:05\n",
      "     ---------------- --------------------- 45.1/101.0 MB 11.9 MB/s eta 0:00:05\n",
      "     ---------------- --------------------- 45.1/101.0 MB 11.9 MB/s eta 0:00:05\n",
      "     ---------------- --------------------- 45.1/101.0 MB 11.9 MB/s eta 0:00:05\n",
      "     ---------------- --------------------- 45.1/101.0 MB 11.9 MB/s eta 0:00:05\n",
      "     ---------------- --------------------- 45.1/101.0 MB 11.9 MB/s eta 0:00:05\n",
      "     ---------------- --------------------- 45.1/101.0 MB 11.9 MB/s eta 0:00:05\n",
      "     ---------------- --------------------- 45.1/101.0 MB 11.9 MB/s eta 0:00:05\n",
      "     ---------------- --------------------- 45.1/101.0 MB 11.9 MB/s eta 0:00:05\n",
      "     ---------------- --------------------- 45.1/101.0 MB 11.9 MB/s eta 0:00:05\n",
      "     ----------------- --------------------- 45.4/101.0 MB 8.1 MB/s eta 0:00:07\n",
      "     ----------------- --------------------- 45.7/101.0 MB 8.0 MB/s eta 0:00:07\n",
      "     ----------------- --------------------- 45.9/101.0 MB 7.8 MB/s eta 0:00:08\n",
      "     ----------------- --------------------- 46.1/101.0 MB 7.6 MB/s eta 0:00:08\n",
      "     ----------------- --------------------- 46.3/101.0 MB 7.4 MB/s eta 0:00:08\n",
      "     ----------------- --------------------- 46.6/101.0 MB 7.3 MB/s eta 0:00:08\n",
      "     ------------------ -------------------- 46.8/101.0 MB 7.1 MB/s eta 0:00:08\n",
      "     ------------------ -------------------- 47.1/101.0 MB 7.0 MB/s eta 0:00:08\n",
      "     ------------------ -------------------- 47.4/101.0 MB 6.9 MB/s eta 0:00:08\n",
      "     ------------------ -------------------- 47.6/101.0 MB 6.7 MB/s eta 0:00:08\n",
      "     ------------------ -------------------- 47.9/101.0 MB 6.6 MB/s eta 0:00:09\n",
      "     ------------------ -------------------- 48.3/101.0 MB 6.5 MB/s eta 0:00:09\n",
      "     ------------------ -------------------- 48.7/101.0 MB 6.5 MB/s eta 0:00:09\n",
      "     ------------------- ------------------- 49.4/101.0 MB 6.5 MB/s eta 0:00:08\n",
      "     ------------------- ------------------- 49.9/101.0 MB 6.5 MB/s eta 0:00:08\n",
      "     ------------------- ------------------- 50.2/101.0 MB 6.5 MB/s eta 0:00:08\n",
      "     ------------------- ------------------- 50.6/101.0 MB 6.5 MB/s eta 0:00:08\n",
      "     ------------------- ------------------- 51.1/101.0 MB 6.5 MB/s eta 0:00:08\n",
      "     ------------------- ------------------- 51.7/101.0 MB 6.5 MB/s eta 0:00:08\n",
      "     -------------------- ------------------ 52.2/101.0 MB 6.5 MB/s eta 0:00:08\n",
      "     -------------------- ------------------ 52.7/101.0 MB 6.5 MB/s eta 0:00:08\n",
      "     -------------------- ------------------ 53.2/101.0 MB 6.5 MB/s eta 0:00:08\n",
      "     -------------------- ------------------ 53.7/101.0 MB 6.5 MB/s eta 0:00:08\n",
      "     -------------------- ------------------ 54.3/101.0 MB 6.5 MB/s eta 0:00:08\n",
      "     --------------------- ----------------- 54.9/101.0 MB 6.5 MB/s eta 0:00:08\n",
      "     --------------------- ----------------- 55.4/101.0 MB 8.5 MB/s eta 0:00:06\n",
      "     --------------------- ----------------- 55.9/101.0 MB 8.7 MB/s eta 0:00:06\n",
      "     --------------------- ----------------- 56.4/101.0 MB 9.4 MB/s eta 0:00:05\n",
      "     --------------------- ----------------- 56.8/101.0 MB 9.5 MB/s eta 0:00:05\n",
      "     ---------------------- ---------------- 57.4/101.0 MB 9.9 MB/s eta 0:00:05\n",
      "     --------------------- ---------------- 57.8/101.0 MB 10.4 MB/s eta 0:00:05\n",
      "     --------------------- ---------------- 58.1/101.0 MB 10.7 MB/s eta 0:00:04\n",
      "     --------------------- ---------------- 58.4/101.0 MB 10.6 MB/s eta 0:00:05\n",
      "     ---------------------- --------------- 58.6/101.0 MB 10.2 MB/s eta 0:00:05\n",
      "     ---------------------- --------------- 58.9/101.0 MB 10.1 MB/s eta 0:00:05\n",
      "     ---------------------- ---------------- 59.4/101.0 MB 9.9 MB/s eta 0:00:05\n",
      "     ---------------------- ---------------- 59.5/101.0 MB 9.6 MB/s eta 0:00:05\n",
      "     ----------------------- --------------- 60.0/101.0 MB 9.6 MB/s eta 0:00:05\n",
      "     ----------------------- --------------- 60.6/101.0 MB 9.8 MB/s eta 0:00:05\n",
      "     ----------------------- --------------- 61.2/101.0 MB 9.9 MB/s eta 0:00:05\n",
      "     ----------------------- --------------- 61.7/101.0 MB 9.9 MB/s eta 0:00:04\n",
      "     ------------------------ -------------- 62.2/101.0 MB 9.8 MB/s eta 0:00:04\n",
      "     ------------------------ -------------- 62.7/101.0 MB 9.8 MB/s eta 0:00:04\n",
      "     ------------------------ -------------- 63.1/101.0 MB 9.8 MB/s eta 0:00:04\n",
      "     ------------------------ -------------- 63.7/101.0 MB 9.8 MB/s eta 0:00:04\n",
      "     ------------------------ -------------- 64.2/101.0 MB 9.8 MB/s eta 0:00:04\n",
      "     ------------------------- ------------- 65.0/101.0 MB 9.9 MB/s eta 0:00:04\n",
      "     ------------------------- ------------- 65.7/101.0 MB 9.9 MB/s eta 0:00:04\n",
      "     ------------------------ ------------- 66.3/101.0 MB 10.2 MB/s eta 0:00:04\n",
      "     ------------------------- ------------ 66.8/101.0 MB 10.1 MB/s eta 0:00:04\n",
      "     ------------------------- ------------ 67.5/101.0 MB 10.2 MB/s eta 0:00:04\n",
      "     ------------------------- ------------ 68.0/101.0 MB 10.6 MB/s eta 0:00:04\n",
      "     ------------------------- ------------ 68.7/101.0 MB 11.3 MB/s eta 0:00:03\n",
      "     -------------------------- ----------- 69.3/101.0 MB 11.9 MB/s eta 0:00:03\n",
      "     -------------------------- ----------- 69.9/101.0 MB 12.4 MB/s eta 0:00:03\n",
      "     -------------------------- ----------- 70.5/101.0 MB 12.6 MB/s eta 0:00:03\n",
      "     -------------------------- ----------- 71.1/101.0 MB 12.6 MB/s eta 0:00:03\n",
      "     -------------------------- ----------- 71.6/101.0 MB 12.6 MB/s eta 0:00:03\n",
      "     --------------------------- ---------- 72.3/101.0 MB 12.6 MB/s eta 0:00:03\n",
      "     --------------------------- ---------- 72.8/101.0 MB 12.8 MB/s eta 0:00:03\n",
      "     --------------------------- ---------- 73.2/101.0 MB 12.6 MB/s eta 0:00:03\n",
      "     --------------------------- ---------- 73.7/101.0 MB 12.8 MB/s eta 0:00:03\n",
      "     --------------------------- ---------- 74.3/101.0 MB 12.9 MB/s eta 0:00:03\n",
      "     ---------------------------- --------- 74.7/101.0 MB 12.6 MB/s eta 0:00:03\n",
      "     ---------------------------- --------- 75.1/101.0 MB 12.3 MB/s eta 0:00:03\n",
      "     ---------------------------- --------- 75.5/101.0 MB 11.9 MB/s eta 0:00:03\n",
      "     ---------------------------- --------- 76.1/101.0 MB 11.9 MB/s eta 0:00:03\n",
      "     ---------------------------- --------- 76.8/101.0 MB 11.9 MB/s eta 0:00:03\n",
      "     ----------------------------- -------- 77.3/101.0 MB 11.7 MB/s eta 0:00:03\n",
      "     ----------------------------- -------- 77.7/101.0 MB 11.5 MB/s eta 0:00:03\n",
      "     ----------------------------- -------- 78.2/101.0 MB 11.5 MB/s eta 0:00:02\n",
      "     ----------------------------- -------- 78.8/101.0 MB 11.5 MB/s eta 0:00:02\n",
      "     ----------------------------- -------- 79.5/101.0 MB 11.5 MB/s eta 0:00:02\n",
      "     ------------------------------ ------- 80.0/101.0 MB 11.5 MB/s eta 0:00:02\n",
      "     ------------------------------ ------- 80.7/101.0 MB 11.5 MB/s eta 0:00:02\n",
      "     ------------------------------ ------- 81.3/101.0 MB 11.5 MB/s eta 0:00:02\n",
      "     ------------------------------ ------- 81.9/101.0 MB 11.5 MB/s eta 0:00:02\n",
      "     ------------------------------- ------ 82.6/101.0 MB 11.9 MB/s eta 0:00:02\n",
      "     ------------------------------- ------ 83.1/101.0 MB 11.7 MB/s eta 0:00:02\n",
      "     ------------------------------- ------ 83.8/101.0 MB 11.9 MB/s eta 0:00:02\n",
      "     ------------------------------- ------ 84.2/101.0 MB 11.9 MB/s eta 0:00:02\n",
      "     ------------------------------- ------ 84.9/101.0 MB 12.4 MB/s eta 0:00:02\n",
      "     -------------------------------- ----- 85.4/101.0 MB 12.6 MB/s eta 0:00:02\n",
      "     -------------------------------- ----- 86.0/101.0 MB 12.4 MB/s eta 0:00:02\n",
      "     -------------------------------- ----- 86.6/101.0 MB 12.4 MB/s eta 0:00:02\n",
      "     -------------------------------- ----- 87.2/101.0 MB 12.6 MB/s eta 0:00:02\n",
      "     --------------------------------- ---- 87.7/101.0 MB 12.6 MB/s eta 0:00:02\n",
      "     --------------------------------- ---- 88.5/101.0 MB 12.8 MB/s eta 0:00:01\n",
      "     --------------------------------- ---- 88.9/101.0 MB 13.1 MB/s eta 0:00:01\n",
      "     --------------------------------- ---- 89.5/101.0 MB 12.9 MB/s eta 0:00:01\n",
      "     --------------------------------- ---- 90.1/101.0 MB 13.1 MB/s eta 0:00:01\n",
      "     ---------------------------------- --- 90.5/101.0 MB 12.6 MB/s eta 0:00:01\n",
      "     ---------------------------------- --- 90.8/101.0 MB 12.4 MB/s eta 0:00:01\n",
      "     ---------------------------------- --- 91.4/101.0 MB 12.1 MB/s eta 0:00:01\n",
      "     ---------------------------------- --- 91.9/101.0 MB 11.9 MB/s eta 0:00:01\n",
      "     ---------------------------------- --- 92.3/101.0 MB 11.9 MB/s eta 0:00:01\n",
      "     ---------------------------------- --- 92.8/101.0 MB 11.5 MB/s eta 0:00:01\n",
      "     ----------------------------------- -- 93.2/101.0 MB 11.5 MB/s eta 0:00:01\n",
      "     ----------------------------------- -- 93.7/101.0 MB 11.5 MB/s eta 0:00:01\n",
      "     ----------------------------------- -- 94.2/101.0 MB 11.3 MB/s eta 0:00:01\n",
      "     ----------------------------------- -- 94.9/101.0 MB 11.3 MB/s eta 0:00:01\n",
      "     ----------------------------------- -- 95.5/101.0 MB 11.3 MB/s eta 0:00:01\n",
      "     ------------------------------------ - 96.1/101.0 MB 11.5 MB/s eta 0:00:01\n",
      "     ------------------------------------ - 96.7/101.0 MB 11.5 MB/s eta 0:00:01\n",
      "     ------------------------------------ - 97.2/101.0 MB 11.5 MB/s eta 0:00:01\n",
      "     ------------------------------------ - 97.7/101.0 MB 11.3 MB/s eta 0:00:01\n",
      "     ------------------------------------ - 98.3/101.0 MB 11.3 MB/s eta 0:00:01\n",
      "     -------------------------------------  98.8/101.0 MB 11.1 MB/s eta 0:00:01\n",
      "     -------------------------------------  99.3/101.0 MB 11.1 MB/s eta 0:00:01\n",
      "     -------------------------------------  99.9/101.0 MB 11.1 MB/s eta 0:00:01\n",
      "     ------------------------------------  100.5/101.0 MB 11.3 MB/s eta 0:00:01\n",
      "     ------------------------------------  101.0/101.0 MB 11.5 MB/s eta 0:00:01\n",
      "     ------------------------------------  101.0/101.0 MB 11.5 MB/s eta 0:00:01\n",
      "     ------------------------------------  101.0/101.0 MB 11.5 MB/s eta 0:00:01\n",
      "     ------------------------------------  101.0/101.0 MB 11.5 MB/s eta 0:00:01\n",
      "     ------------------------------------  101.0/101.0 MB 11.5 MB/s eta 0:00:01\n",
      "     ------------------------------------  101.0/101.0 MB 11.5 MB/s eta 0:00:01\n",
      "     -------------------------------------- 101.0/101.0 MB 8.5 MB/s eta 0:00:00\n",
      "Requirement already satisfied: scipy in c:\\users\\eel20\\anaconda3\\lib\\site-packages (from catboost) (1.9.1)\n",
      "Requirement already satisfied: plotly in c:\\users\\eel20\\anaconda3\\lib\\site-packages (from catboost) (5.9.0)\n",
      "Requirement already satisfied: graphviz in c:\\users\\eel20\\anaconda3\\lib\\site-packages (from catboost) (0.20.1)\n",
      "Requirement already satisfied: matplotlib in c:\\users\\eel20\\anaconda3\\lib\\site-packages (from catboost) (3.7.1)\n",
      "Requirement already satisfied: six in c:\\users\\eel20\\anaconda3\\lib\\site-packages (from catboost) (1.16.0)\n",
      "Requirement already satisfied: pandas>=0.24 in c:\\users\\eel20\\anaconda3\\lib\\site-packages (from catboost) (1.5.3)\n",
      "Requirement already satisfied: numpy>=1.16.0 in c:\\users\\eel20\\anaconda3\\lib\\site-packages (from catboost) (1.24.3)\n",
      "Requirement already satisfied: pytz>=2020.1 in c:\\users\\eel20\\anaconda3\\lib\\site-packages (from pandas>=0.24->catboost) (2022.7)\n",
      "Requirement already satisfied: python-dateutil>=2.8.1 in c:\\users\\eel20\\anaconda3\\lib\\site-packages (from pandas>=0.24->catboost) (2.8.2)\n",
      "Requirement already satisfied: fonttools>=4.22.0 in c:\\users\\eel20\\anaconda3\\lib\\site-packages (from matplotlib->catboost) (4.25.0)\n",
      "Requirement already satisfied: packaging>=20.0 in c:\\users\\eel20\\anaconda3\\lib\\site-packages (from matplotlib->catboost) (23.0)\n",
      "Requirement already satisfied: pyparsing>=2.3.1 in c:\\users\\eel20\\anaconda3\\lib\\site-packages (from matplotlib->catboost) (3.0.9)\n",
      "Requirement already satisfied: kiwisolver>=1.0.1 in c:\\users\\eel20\\anaconda3\\lib\\site-packages (from matplotlib->catboost) (1.4.4)\n",
      "Requirement already satisfied: pillow>=6.2.0 in c:\\users\\eel20\\anaconda3\\lib\\site-packages (from matplotlib->catboost) (9.4.0)\n",
      "Requirement already satisfied: contourpy>=1.0.1 in c:\\users\\eel20\\anaconda3\\lib\\site-packages (from matplotlib->catboost) (1.0.5)\n",
      "Requirement already satisfied: cycler>=0.10 in c:\\users\\eel20\\anaconda3\\lib\\site-packages (from matplotlib->catboost) (0.11.0)\n",
      "Requirement already satisfied: importlib-resources>=3.2.0 in c:\\users\\eel20\\anaconda3\\lib\\site-packages (from matplotlib->catboost) (5.2.0)\n",
      "Requirement already satisfied: tenacity>=6.2.0 in c:\\users\\eel20\\anaconda3\\lib\\site-packages (from plotly->catboost) (8.2.2)\n",
      "Requirement already satisfied: zipp>=3.1.0 in c:\\users\\eel20\\anaconda3\\lib\\site-packages (from importlib-resources>=3.2.0->matplotlib->catboost) (3.11.0)\n",
      "Installing collected packages: catboost\n",
      "Successfully installed catboost-1.2\n"
     ]
    },
    {
     "name": "stdout",
     "output_type": "stream",
     "text": [
      "Requirement already satisfied: lightgbm in c:\\users\\eel20\\anaconda3\\lib\\site-packages (3.3.5)\n",
      "Requirement already satisfied: numpy in c:\\users\\eel20\\anaconda3\\lib\\site-packages (from lightgbm) (1.24.3)\n",
      "Requirement already satisfied: scipy in c:\\users\\eel20\\anaconda3\\lib\\site-packages (from lightgbm) (1.9.1)\n",
      "Requirement already satisfied: wheel in c:\\users\\eel20\\anaconda3\\lib\\site-packages (from lightgbm) (0.38.4)\n",
      "Requirement already satisfied: scikit-learn!=0.22.0 in c:\\users\\eel20\\anaconda3\\lib\\site-packages (from lightgbm) (1.2.2)\n",
      "Requirement already satisfied: threadpoolctl>=2.0.0 in c:\\users\\eel20\\anaconda3\\lib\\site-packages (from scikit-learn!=0.22.0->lightgbm) (2.2.0)\n",
      "Requirement already satisfied: joblib>=1.1.1 in c:\\users\\eel20\\anaconda3\\lib\\site-packages (from scikit-learn!=0.22.0->lightgbm) (1.2.0)\n",
      "Requirement already satisfied: pytest in c:\\users\\eel20\\anaconda3\\lib\\site-packages (7.3.1)\n",
      "Requirement already satisfied: pluggy<2.0,>=0.12 in c:\\users\\eel20\\anaconda3\\lib\\site-packages (from pytest) (1.0.0)\n",
      "Requirement already satisfied: packaging in c:\\users\\eel20\\anaconda3\\lib\\site-packages (from pytest) (23.0)\n",
      "Requirement already satisfied: iniconfig in c:\\users\\eel20\\anaconda3\\lib\\site-packages (from pytest) (1.1.1)\n",
      "Requirement already satisfied: exceptiongroup>=1.0.0rc8 in c:\\users\\eel20\\anaconda3\\lib\\site-packages (from pytest) (1.1.0)\n",
      "Requirement already satisfied: colorama in c:\\users\\eel20\\anaconda3\\lib\\site-packages (from pytest) (0.4.6)\n",
      "Requirement already satisfied: tomli>=1.0.0 in c:\\users\\eel20\\anaconda3\\lib\\site-packages (from pytest) (2.0.1)\n"
     ]
    }
   ],
   "source": [
    "!pip install lazypredict\n",
    "!pip install tqdm\n",
    "!pip install xgboost\n",
    "!pip install catboost\n",
    "!pip install lightgbm\n",
    "!pip install pytest"
   ]
  },
  {
   "cell_type": "markdown",
   "metadata": {},
   "source": [
    "<a id=\"section32\"></a>\n",
    "## <font color=\"#004D7F\"> 3.2. Problema de clasificación</font>"
   ]
  },
  {
   "cell_type": "code",
   "execution_count": 29,
   "metadata": {},
   "outputs": [
    {
     "ename": "ModuleNotFoundError",
     "evalue": "No module named 'sklearn.externals._pep562'",
     "output_type": "error",
     "traceback": [
      "\u001b[1;31m---------------------------------------------------------------------------\u001b[0m",
      "\u001b[1;31mModuleNotFoundError\u001b[0m                       Traceback (most recent call last)",
      "Cell \u001b[1;32mIn[29], line 1\u001b[0m\n\u001b[1;32m----> 1\u001b[0m \u001b[38;5;28;01mfrom\u001b[39;00m \u001b[38;5;21;01mlazypredict\u001b[39;00m\u001b[38;5;21;01m.\u001b[39;00m\u001b[38;5;21;01mSupervised\u001b[39;00m \u001b[38;5;28;01mimport\u001b[39;00m LazyClassifier\n\u001b[0;32m      2\u001b[0m \u001b[38;5;28;01mfrom\u001b[39;00m \u001b[38;5;21;01msklearn\u001b[39;00m\u001b[38;5;21;01m.\u001b[39;00m\u001b[38;5;21;01mdatasets\u001b[39;00m \u001b[38;5;28;01mimport\u001b[39;00m load_breast_cancer\n\u001b[0;32m      3\u001b[0m \u001b[38;5;28;01mfrom\u001b[39;00m \u001b[38;5;21;01msklearn\u001b[39;00m\u001b[38;5;21;01m.\u001b[39;00m\u001b[38;5;21;01mmodel_selection\u001b[39;00m \u001b[38;5;28;01mimport\u001b[39;00m train_test_split\n",
      "File \u001b[1;32m~\\anaconda3\\lib\\site-packages\\lazypredict\\Supervised.py:73\u001b[0m\n\u001b[0;32m     36\u001b[0m removed_classifiers \u001b[38;5;241m=\u001b[39m [\n\u001b[0;32m     37\u001b[0m     \u001b[38;5;124m\"\u001b[39m\u001b[38;5;124mClassifierChain\u001b[39m\u001b[38;5;124m\"\u001b[39m,\n\u001b[0;32m     38\u001b[0m     \u001b[38;5;124m\"\u001b[39m\u001b[38;5;124mComplementNB\u001b[39m\u001b[38;5;124m\"\u001b[39m,\n\u001b[1;32m   (...)\u001b[0m\n\u001b[0;32m     50\u001b[0m     \u001b[38;5;124m\"\u001b[39m\u001b[38;5;124mVotingClassifier\u001b[39m\u001b[38;5;124m\"\u001b[39m,\n\u001b[0;32m     51\u001b[0m ]\n\u001b[0;32m     53\u001b[0m removed_regressors \u001b[38;5;241m=\u001b[39m [\n\u001b[0;32m     54\u001b[0m     \u001b[38;5;124m\"\u001b[39m\u001b[38;5;124mTheilSenRegressor\u001b[39m\u001b[38;5;124m\"\u001b[39m,\n\u001b[0;32m     55\u001b[0m     \u001b[38;5;124m\"\u001b[39m\u001b[38;5;124mARDRegression\u001b[39m\u001b[38;5;124m\"\u001b[39m, \n\u001b[1;32m   (...)\u001b[0m\n\u001b[0;32m     68\u001b[0m     \u001b[38;5;124m\"\u001b[39m\u001b[38;5;124mVotingRegressor\u001b[39m\u001b[38;5;124m\"\u001b[39m, \n\u001b[0;32m     69\u001b[0m ]\n\u001b[0;32m     71\u001b[0m CLASSIFIERS \u001b[38;5;241m=\u001b[39m [\n\u001b[0;32m     72\u001b[0m     est\n\u001b[1;32m---> 73\u001b[0m     \u001b[38;5;28;01mfor\u001b[39;00m est \u001b[38;5;129;01min\u001b[39;00m \u001b[43mall_estimators\u001b[49m\u001b[43m(\u001b[49m\u001b[43m)\u001b[49m\n\u001b[0;32m     74\u001b[0m     \u001b[38;5;28;01mif\u001b[39;00m (\u001b[38;5;28missubclass\u001b[39m(est[\u001b[38;5;241m1\u001b[39m], ClassifierMixin) \u001b[38;5;129;01mand\u001b[39;00m (est[\u001b[38;5;241m0\u001b[39m] \u001b[38;5;129;01mnot\u001b[39;00m \u001b[38;5;129;01min\u001b[39;00m removed_classifiers))\n\u001b[0;32m     75\u001b[0m ]\n\u001b[0;32m     77\u001b[0m REGRESSORS \u001b[38;5;241m=\u001b[39m [\n\u001b[0;32m     78\u001b[0m     est\n\u001b[0;32m     79\u001b[0m     \u001b[38;5;28;01mfor\u001b[39;00m est \u001b[38;5;129;01min\u001b[39;00m all_estimators()\n\u001b[0;32m     80\u001b[0m     \u001b[38;5;28;01mif\u001b[39;00m (\u001b[38;5;28missubclass\u001b[39m(est[\u001b[38;5;241m1\u001b[39m], RegressorMixin) \u001b[38;5;129;01mand\u001b[39;00m (est[\u001b[38;5;241m0\u001b[39m] \u001b[38;5;129;01mnot\u001b[39;00m \u001b[38;5;129;01min\u001b[39;00m removed_regressors))\n\u001b[0;32m     81\u001b[0m ]\n\u001b[0;32m     83\u001b[0m REGRESSORS\u001b[38;5;241m.\u001b[39mappend((\u001b[38;5;124m\"\u001b[39m\u001b[38;5;124mXGBRegressor\u001b[39m\u001b[38;5;124m\"\u001b[39m, xgboost\u001b[38;5;241m.\u001b[39mXGBRegressor))\n",
      "File \u001b[1;32m~\\anaconda3\\lib\\site-packages\\sklearn\\utils\\discovery.py:70\u001b[0m, in \u001b[0;36mall_estimators\u001b[1;34m(type_filter)\u001b[0m\n\u001b[0;32m     65\u001b[0m \u001b[38;5;28;01mif\u001b[39;00m (\n\u001b[0;32m     66\u001b[0m     \u001b[38;5;28many\u001b[39m(part \u001b[38;5;129;01min\u001b[39;00m _MODULE_TO_IGNORE \u001b[38;5;28;01mfor\u001b[39;00m part \u001b[38;5;129;01min\u001b[39;00m module_parts)\n\u001b[0;32m     67\u001b[0m     \u001b[38;5;129;01mor\u001b[39;00m \u001b[38;5;124m\"\u001b[39m\u001b[38;5;124m._\u001b[39m\u001b[38;5;124m\"\u001b[39m \u001b[38;5;129;01min\u001b[39;00m module_name\n\u001b[0;32m     68\u001b[0m ):\n\u001b[0;32m     69\u001b[0m     \u001b[38;5;28;01mcontinue\u001b[39;00m\n\u001b[1;32m---> 70\u001b[0m module \u001b[38;5;241m=\u001b[39m \u001b[43mimport_module\u001b[49m\u001b[43m(\u001b[49m\u001b[43mmodule_name\u001b[49m\u001b[43m)\u001b[49m\n\u001b[0;32m     71\u001b[0m classes \u001b[38;5;241m=\u001b[39m inspect\u001b[38;5;241m.\u001b[39mgetmembers(module, inspect\u001b[38;5;241m.\u001b[39misclass)\n\u001b[0;32m     72\u001b[0m classes \u001b[38;5;241m=\u001b[39m [\n\u001b[0;32m     73\u001b[0m     (name, est_cls) \u001b[38;5;28;01mfor\u001b[39;00m name, est_cls \u001b[38;5;129;01min\u001b[39;00m classes \u001b[38;5;28;01mif\u001b[39;00m \u001b[38;5;129;01mnot\u001b[39;00m name\u001b[38;5;241m.\u001b[39mstartswith(\u001b[38;5;124m\"\u001b[39m\u001b[38;5;124m_\u001b[39m\u001b[38;5;124m\"\u001b[39m)\n\u001b[0;32m     74\u001b[0m ]\n",
      "File \u001b[1;32m~\\anaconda3\\lib\\importlib\\__init__.py:127\u001b[0m, in \u001b[0;36mimport_module\u001b[1;34m(name, package)\u001b[0m\n\u001b[0;32m    125\u001b[0m             \u001b[38;5;28;01mbreak\u001b[39;00m\n\u001b[0;32m    126\u001b[0m         level \u001b[38;5;241m+\u001b[39m\u001b[38;5;241m=\u001b[39m \u001b[38;5;241m1\u001b[39m\n\u001b[1;32m--> 127\u001b[0m \u001b[38;5;28;01mreturn\u001b[39;00m \u001b[43m_bootstrap\u001b[49m\u001b[38;5;241;43m.\u001b[39;49m\u001b[43m_gcd_import\u001b[49m\u001b[43m(\u001b[49m\u001b[43mname\u001b[49m\u001b[43m[\u001b[49m\u001b[43mlevel\u001b[49m\u001b[43m:\u001b[49m\u001b[43m]\u001b[49m\u001b[43m,\u001b[49m\u001b[43m \u001b[49m\u001b[43mpackage\u001b[49m\u001b[43m,\u001b[49m\u001b[43m \u001b[49m\u001b[43mlevel\u001b[49m\u001b[43m)\u001b[49m\n",
      "File \u001b[1;32m~\\anaconda3\\lib\\site-packages\\sklearn\\cluster\\affinity_propagation_.py:5\u001b[0m\n\u001b[0;32m      3\u001b[0m \u001b[38;5;28;01mimport\u001b[39;00m \u001b[38;5;21;01msys\u001b[39;00m\n\u001b[0;32m      4\u001b[0m \u001b[38;5;28;01mfrom\u001b[39;00m \u001b[38;5;21;01m.\u001b[39;00m \u001b[38;5;28;01mimport\u001b[39;00m _affinity_propagation\n\u001b[1;32m----> 5\u001b[0m \u001b[38;5;28;01mfrom\u001b[39;00m \u001b[38;5;21;01m.\u001b[39;00m\u001b[38;5;21;01m.\u001b[39;00m\u001b[38;5;21;01mexternals\u001b[39;00m\u001b[38;5;21;01m.\u001b[39;00m\u001b[38;5;21;01m_pep562\u001b[39;00m \u001b[38;5;28;01mimport\u001b[39;00m Pep562\n\u001b[0;32m      6\u001b[0m \u001b[38;5;28;01mfrom\u001b[39;00m \u001b[38;5;21;01m.\u001b[39;00m\u001b[38;5;21;01m.\u001b[39;00m\u001b[38;5;21;01mutils\u001b[39;00m\u001b[38;5;21;01m.\u001b[39;00m\u001b[38;5;21;01mdeprecation\u001b[39;00m \u001b[38;5;28;01mimport\u001b[39;00m _raise_dep_warning_if_not_pytest\n\u001b[0;32m      8\u001b[0m deprecated_path \u001b[38;5;241m=\u001b[39m \u001b[38;5;124m'\u001b[39m\u001b[38;5;124msklearn.cluster.affinity_propagation_\u001b[39m\u001b[38;5;124m'\u001b[39m\n",
      "\u001b[1;31mModuleNotFoundError\u001b[0m: No module named 'sklearn.externals._pep562'"
     ]
    }
   ],
   "source": [
    "from lazypredict.Supervised import LazyClassifier\n",
    "from sklearn.datasets import load_breast_cancer\n",
    "from sklearn.model_selection import train_test_split\n",
    "data = load_breast_cancer()\n",
    "X = data.data\n",
    "y= data.target\n",
    "X_train, X_test, y_train, y_test = train_test_split(X, y,test_size=.3,random_state =123)\n",
    "clf = LazyClassifier(verbose=0,ignore_warnings=True, custom_metric=None)\n",
    "models,predictions = clf.fit(X_train, X_test, y_train, y_test)\n",
    "models"
   ]
  },
  {
   "cell_type": "markdown",
   "metadata": {},
   "source": [
    "<a id=\"section33\"></a>\n",
    "## <font color=\"#004D7F\"> 3.3. Problema de regresión</font>"
   ]
  },
  {
   "cell_type": "code",
   "execution_count": 30,
   "metadata": {},
   "outputs": [
    {
     "ename": "ModuleNotFoundError",
     "evalue": "No module named 'sklearn.externals._pep562'",
     "output_type": "error",
     "traceback": [
      "\u001b[1;31m---------------------------------------------------------------------------\u001b[0m",
      "\u001b[1;31mModuleNotFoundError\u001b[0m                       Traceback (most recent call last)",
      "Cell \u001b[1;32mIn[30], line 1\u001b[0m\n\u001b[1;32m----> 1\u001b[0m \u001b[38;5;28;01mfrom\u001b[39;00m \u001b[38;5;21;01mlazypredict\u001b[39;00m\u001b[38;5;21;01m.\u001b[39;00m\u001b[38;5;21;01mSupervised\u001b[39;00m \u001b[38;5;28;01mimport\u001b[39;00m LazyRegressor\n\u001b[0;32m      2\u001b[0m \u001b[38;5;28;01mfrom\u001b[39;00m \u001b[38;5;21;01msklearn\u001b[39;00m \u001b[38;5;28;01mimport\u001b[39;00m datasets\n\u001b[0;32m      3\u001b[0m \u001b[38;5;28;01mfrom\u001b[39;00m \u001b[38;5;21;01msklearn\u001b[39;00m\u001b[38;5;21;01m.\u001b[39;00m\u001b[38;5;21;01mutils\u001b[39;00m \u001b[38;5;28;01mimport\u001b[39;00m shuffle\n",
      "File \u001b[1;32m~\\anaconda3\\lib\\site-packages\\lazypredict\\Supervised.py:73\u001b[0m\n\u001b[0;32m     36\u001b[0m removed_classifiers \u001b[38;5;241m=\u001b[39m [\n\u001b[0;32m     37\u001b[0m     \u001b[38;5;124m\"\u001b[39m\u001b[38;5;124mClassifierChain\u001b[39m\u001b[38;5;124m\"\u001b[39m,\n\u001b[0;32m     38\u001b[0m     \u001b[38;5;124m\"\u001b[39m\u001b[38;5;124mComplementNB\u001b[39m\u001b[38;5;124m\"\u001b[39m,\n\u001b[1;32m   (...)\u001b[0m\n\u001b[0;32m     50\u001b[0m     \u001b[38;5;124m\"\u001b[39m\u001b[38;5;124mVotingClassifier\u001b[39m\u001b[38;5;124m\"\u001b[39m,\n\u001b[0;32m     51\u001b[0m ]\n\u001b[0;32m     53\u001b[0m removed_regressors \u001b[38;5;241m=\u001b[39m [\n\u001b[0;32m     54\u001b[0m     \u001b[38;5;124m\"\u001b[39m\u001b[38;5;124mTheilSenRegressor\u001b[39m\u001b[38;5;124m\"\u001b[39m,\n\u001b[0;32m     55\u001b[0m     \u001b[38;5;124m\"\u001b[39m\u001b[38;5;124mARDRegression\u001b[39m\u001b[38;5;124m\"\u001b[39m, \n\u001b[1;32m   (...)\u001b[0m\n\u001b[0;32m     68\u001b[0m     \u001b[38;5;124m\"\u001b[39m\u001b[38;5;124mVotingRegressor\u001b[39m\u001b[38;5;124m\"\u001b[39m, \n\u001b[0;32m     69\u001b[0m ]\n\u001b[0;32m     71\u001b[0m CLASSIFIERS \u001b[38;5;241m=\u001b[39m [\n\u001b[0;32m     72\u001b[0m     est\n\u001b[1;32m---> 73\u001b[0m     \u001b[38;5;28;01mfor\u001b[39;00m est \u001b[38;5;129;01min\u001b[39;00m \u001b[43mall_estimators\u001b[49m\u001b[43m(\u001b[49m\u001b[43m)\u001b[49m\n\u001b[0;32m     74\u001b[0m     \u001b[38;5;28;01mif\u001b[39;00m (\u001b[38;5;28missubclass\u001b[39m(est[\u001b[38;5;241m1\u001b[39m], ClassifierMixin) \u001b[38;5;129;01mand\u001b[39;00m (est[\u001b[38;5;241m0\u001b[39m] \u001b[38;5;129;01mnot\u001b[39;00m \u001b[38;5;129;01min\u001b[39;00m removed_classifiers))\n\u001b[0;32m     75\u001b[0m ]\n\u001b[0;32m     77\u001b[0m REGRESSORS \u001b[38;5;241m=\u001b[39m [\n\u001b[0;32m     78\u001b[0m     est\n\u001b[0;32m     79\u001b[0m     \u001b[38;5;28;01mfor\u001b[39;00m est \u001b[38;5;129;01min\u001b[39;00m all_estimators()\n\u001b[0;32m     80\u001b[0m     \u001b[38;5;28;01mif\u001b[39;00m (\u001b[38;5;28missubclass\u001b[39m(est[\u001b[38;5;241m1\u001b[39m], RegressorMixin) \u001b[38;5;129;01mand\u001b[39;00m (est[\u001b[38;5;241m0\u001b[39m] \u001b[38;5;129;01mnot\u001b[39;00m \u001b[38;5;129;01min\u001b[39;00m removed_regressors))\n\u001b[0;32m     81\u001b[0m ]\n\u001b[0;32m     83\u001b[0m REGRESSORS\u001b[38;5;241m.\u001b[39mappend((\u001b[38;5;124m\"\u001b[39m\u001b[38;5;124mXGBRegressor\u001b[39m\u001b[38;5;124m\"\u001b[39m, xgboost\u001b[38;5;241m.\u001b[39mXGBRegressor))\n",
      "File \u001b[1;32m~\\anaconda3\\lib\\site-packages\\sklearn\\utils\\discovery.py:70\u001b[0m, in \u001b[0;36mall_estimators\u001b[1;34m(type_filter)\u001b[0m\n\u001b[0;32m     65\u001b[0m \u001b[38;5;28;01mif\u001b[39;00m (\n\u001b[0;32m     66\u001b[0m     \u001b[38;5;28many\u001b[39m(part \u001b[38;5;129;01min\u001b[39;00m _MODULE_TO_IGNORE \u001b[38;5;28;01mfor\u001b[39;00m part \u001b[38;5;129;01min\u001b[39;00m module_parts)\n\u001b[0;32m     67\u001b[0m     \u001b[38;5;129;01mor\u001b[39;00m \u001b[38;5;124m\"\u001b[39m\u001b[38;5;124m._\u001b[39m\u001b[38;5;124m\"\u001b[39m \u001b[38;5;129;01min\u001b[39;00m module_name\n\u001b[0;32m     68\u001b[0m ):\n\u001b[0;32m     69\u001b[0m     \u001b[38;5;28;01mcontinue\u001b[39;00m\n\u001b[1;32m---> 70\u001b[0m module \u001b[38;5;241m=\u001b[39m \u001b[43mimport_module\u001b[49m\u001b[43m(\u001b[49m\u001b[43mmodule_name\u001b[49m\u001b[43m)\u001b[49m\n\u001b[0;32m     71\u001b[0m classes \u001b[38;5;241m=\u001b[39m inspect\u001b[38;5;241m.\u001b[39mgetmembers(module, inspect\u001b[38;5;241m.\u001b[39misclass)\n\u001b[0;32m     72\u001b[0m classes \u001b[38;5;241m=\u001b[39m [\n\u001b[0;32m     73\u001b[0m     (name, est_cls) \u001b[38;5;28;01mfor\u001b[39;00m name, est_cls \u001b[38;5;129;01min\u001b[39;00m classes \u001b[38;5;28;01mif\u001b[39;00m \u001b[38;5;129;01mnot\u001b[39;00m name\u001b[38;5;241m.\u001b[39mstartswith(\u001b[38;5;124m\"\u001b[39m\u001b[38;5;124m_\u001b[39m\u001b[38;5;124m\"\u001b[39m)\n\u001b[0;32m     74\u001b[0m ]\n",
      "File \u001b[1;32m~\\anaconda3\\lib\\importlib\\__init__.py:127\u001b[0m, in \u001b[0;36mimport_module\u001b[1;34m(name, package)\u001b[0m\n\u001b[0;32m    125\u001b[0m             \u001b[38;5;28;01mbreak\u001b[39;00m\n\u001b[0;32m    126\u001b[0m         level \u001b[38;5;241m+\u001b[39m\u001b[38;5;241m=\u001b[39m \u001b[38;5;241m1\u001b[39m\n\u001b[1;32m--> 127\u001b[0m \u001b[38;5;28;01mreturn\u001b[39;00m \u001b[43m_bootstrap\u001b[49m\u001b[38;5;241;43m.\u001b[39;49m\u001b[43m_gcd_import\u001b[49m\u001b[43m(\u001b[49m\u001b[43mname\u001b[49m\u001b[43m[\u001b[49m\u001b[43mlevel\u001b[49m\u001b[43m:\u001b[49m\u001b[43m]\u001b[49m\u001b[43m,\u001b[49m\u001b[43m \u001b[49m\u001b[43mpackage\u001b[49m\u001b[43m,\u001b[49m\u001b[43m \u001b[49m\u001b[43mlevel\u001b[49m\u001b[43m)\u001b[49m\n",
      "File \u001b[1;32m~\\anaconda3\\lib\\site-packages\\sklearn\\cluster\\affinity_propagation_.py:5\u001b[0m\n\u001b[0;32m      3\u001b[0m \u001b[38;5;28;01mimport\u001b[39;00m \u001b[38;5;21;01msys\u001b[39;00m\n\u001b[0;32m      4\u001b[0m \u001b[38;5;28;01mfrom\u001b[39;00m \u001b[38;5;21;01m.\u001b[39;00m \u001b[38;5;28;01mimport\u001b[39;00m _affinity_propagation\n\u001b[1;32m----> 5\u001b[0m \u001b[38;5;28;01mfrom\u001b[39;00m \u001b[38;5;21;01m.\u001b[39;00m\u001b[38;5;21;01m.\u001b[39;00m\u001b[38;5;21;01mexternals\u001b[39;00m\u001b[38;5;21;01m.\u001b[39;00m\u001b[38;5;21;01m_pep562\u001b[39;00m \u001b[38;5;28;01mimport\u001b[39;00m Pep562\n\u001b[0;32m      6\u001b[0m \u001b[38;5;28;01mfrom\u001b[39;00m \u001b[38;5;21;01m.\u001b[39;00m\u001b[38;5;21;01m.\u001b[39;00m\u001b[38;5;21;01mutils\u001b[39;00m\u001b[38;5;21;01m.\u001b[39;00m\u001b[38;5;21;01mdeprecation\u001b[39;00m \u001b[38;5;28;01mimport\u001b[39;00m _raise_dep_warning_if_not_pytest\n\u001b[0;32m      8\u001b[0m deprecated_path \u001b[38;5;241m=\u001b[39m \u001b[38;5;124m'\u001b[39m\u001b[38;5;124msklearn.cluster.affinity_propagation_\u001b[39m\u001b[38;5;124m'\u001b[39m\n",
      "\u001b[1;31mModuleNotFoundError\u001b[0m: No module named 'sklearn.externals._pep562'"
     ]
    }
   ],
   "source": [
    "from lazypredict.Supervised import LazyRegressor\n",
    "from sklearn import datasets\n",
    "from sklearn.utils import shuffle\n",
    "import numpy as np\n",
    "boston = datasets.load_boston()\n",
    "X, y = shuffle(boston.data, boston.target, random_state=13)\n",
    "X = X.astype(np.float32)\n",
    "offset = int(X.shape[0] * 0.9)\n",
    "X_train, y_train = X[:offset], y[:offset]\n",
    "X_test, y_test = X[offset:], y[offset:]\n",
    "#X_train, X_test, y_train, y_test = train_test_split(X, y,test_size=.3,random_state =123)\n",
    "reg = LazyRegressor(verbose=0,ignore_warnings=True, custom_metric=None )\n",
    "models,predictions = reg.fit(X_train, X_test, y_train, y_test)\n",
    "models"
   ]
  },
  {
   "cell_type": "markdown",
   "metadata": {},
   "source": [
    "<div style=\"text-align: right\"> <font size=5>\n",
    "    <a href=\"#indice\"><i class=\"fa fa-arrow-circle-up\" aria-hidden=\"true\" style=\"color:#004D7F\"></i></a>\n",
    "</font></div>\n",
    "\n",
    "---\n",
    "\n",
    "<div style=\"text-align: right\"> <font size=6><i class=\"fa fa-coffee\" aria-hidden=\"true\" style=\"color:#004D7F\"></i> </font></div>"
   ]
  }
 ],
 "metadata": {
  "kernelspec": {
   "display_name": "Python 3 (ipykernel)",
   "language": "python",
   "name": "python3"
  },
  "language_info": {
   "codemirror_mode": {
    "name": "ipython",
    "version": 3
   },
   "file_extension": ".py",
   "mimetype": "text/x-python",
   "name": "python",
   "nbconvert_exporter": "python",
   "pygments_lexer": "ipython3",
   "version": "3.9.16"
  },
  "toc": {
   "base_numbering": 1,
   "nav_menu": {},
   "number_sections": false,
   "sideBar": true,
   "skip_h1_title": true,
   "title_cell": "Table of Contents",
   "title_sidebar": "Contents",
   "toc_cell": false,
   "toc_position": {},
   "toc_section_display": true,
   "toc_window_display": false
  }
 },
 "nbformat": 4,
 "nbformat_minor": 2
}
