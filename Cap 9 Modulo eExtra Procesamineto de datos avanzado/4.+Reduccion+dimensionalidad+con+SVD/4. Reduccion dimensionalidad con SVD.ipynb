{
 "cells": [
  {
   "cell_type": "markdown",
   "metadata": {},
   "source": [
    "<h2><font color=\"#004D7F\" size=6>Módulo Extra. Preprocesamiento y Tratamiento de datos</font></h2>\n",
    "\n",
    "\n",
    "\n",
    "<h1><font color=\"#004D7F\" size=5>4. Reducción de dimensionalidad con SVD</font></h1>\n",
    "\n",
    "<br><br>\n",
    "<div style=\"text-align: right\">\n",
    "<font color=\"#004D7F\" size=3>Manuel Castillo-Cara</font><br>\n",
    "<font color=\"#004D7F\" size=3>Machine Learning con Python</font><br>"
   ]
  },
  {
   "cell_type": "markdown",
   "metadata": {},
   "source": [
    "---\n",
    "\n",
    "<h2><font color=\"#004D7F\" size=5>Índice</font></h2>\n",
    "<a id=\"indice\"></a>\n",
    "\n",
    "* [1. Introducción](#section1)\n",
    "    * [1.1. SVD](#section11)\n",
    "    * [1.2. Librerías](#section12)\n",
    "    * [1.3. Conjunto de datos](#section12)\n",
    "* [2. SVD como reducción de dimensiones](#section2)\n",
    "    * [2.1. Aplicación de SVD](#section21)\n",
    "    * [2.2. Optimización de SVD](#section22)\n",
    "    * [2.3. SVD en Forecasting](#section23)"
   ]
  },
  {
   "cell_type": "code",
   "execution_count": 1,
   "metadata": {},
   "outputs": [
    {
     "data": {
      "text/html": [
       "<style>.container{ width:98% }</style>"
      ],
      "text/plain": [
       "<IPython.core.display.HTML object>"
      ]
     },
     "metadata": {},
     "output_type": "display_data"
    }
   ],
   "source": [
    "# Permite ajustar la anchura de la parte útil de la libreta (reduce los márgenes)\n",
    "from IPython.core.display import display, HTML\n",
    "display(HTML(\"<style>.container{ width:98% }</style>\"))"
   ]
  },
  {
   "cell_type": "markdown",
   "metadata": {},
   "source": [
    "---\n",
    "<a id=\"section1\"></a>\n",
    "# <font color=\"#004D7F\"> 1. Introducción</font>"
   ]
  },
  {
   "cell_type": "markdown",
   "metadata": {},
   "source": [
    "La reducción del número de variables de entrada para un modelo predictivo se denomina reducción de dimensionalidad. Menos variables de entrada pueden resultar en un modelo predictivo más simple que puede tener un mejor rendimiento al hacer predicciones sobre nuevos datos.\n",
    "\n",
    "Quizás la técnica más popular para la reducción de la dimensionalidad es el análisis de componentes principales (PCA, por sus siglas del inglés) aunque se tiene otra técnica que también es tanto o más popular, esta es, Descomposición de Valores Singulares (SVD, por sus siglas del inglés). Esta es una técnica que proviene del campo del álgebra lineal y se puede utilizar como técnica de preparación de datos para crear una proyección de un conjunto de datos antes de ajustar un modelo."
   ]
  },
  {
   "cell_type": "markdown",
   "metadata": {},
   "source": [
    " <a id=\"section11\"></a>\n",
    " ## <font color=\"#004D7F\"> 1.1. SVD</font>"
   ]
  },
  {
   "cell_type": "markdown",
   "metadata": {},
   "source": [
    "Podemos considerar las variables o características (columnas) representan dimensiones en un espacio de características *n*-dimensionales y las filas de datos como puntos en ese espacio. Ésta es una interpretación geométrica útil de un conjunto de datos.\n",
    "\n",
    "Tener una gran cantidad de dimensiones en el espacio de características puede significar que el volumen de ese espacio es muy grande y, a su vez, los puntos que tenemos en ese espacio (filas de datos) a menudo representan una muestra pequeña y no representativa. A menudo es deseable reducir el número de características de entrada. Esto reduce el número de dimensiones del espacio de características, de ahí el nombre \"madición de dimensionalidad\".\n",
    "\n",
    "Un enfoque popular para la reducción de dimensionalidad es utilizar técnicas del campo del álgebra lineal . Esto a menudo se denomina \"proyección de características\" y los algoritmos utilizados se denominan \"métodos de proyección\". Los métodos de proyección buscan reducir el número de dimensiones en el espacio de características y al mismo tiempo preservar la estructura o las relaciones más importantes entre las variables observadas en los datos.\n",
    "\n",
    "El conjunto de datos resultante, la proyección, se puede utilizar como entrada para entrenar un modelo de ML. En esencia, las características originales ya no existen y las nuevas características se construyen a partir de los datos disponibles que no son directamente comparables con los datos originales. Cualquier dato nuevo que se envíe al modelo en el futuro al realizar predicciones también debe proyectarse utilizando la misma técnica.\n",
    "\n",
    "SVD podría ser la técnica más popular para la reducción de dimensionalidad cuando los datos son escasos.\n",
    "\n",
    "Los datos dispersos se refieren a filas de datos donde muchos de los valores son cero. Este suele ser el caso en algunos dominios problemáticos, como los sistemas de recomendación, donde un usuario tiene una calificación para muy pocas películas o canciones en la base de datos y una calificación cero para todos los demás casos. Otro ejemplo común es un modelo de bolsa de palabras de un documento de texto, donde el documento tiene un recuento o frecuencia para algunas palabras y la mayoría de las palabras tienen un valor 0. SVD es una buena técnica para estos casos.\n",
    "\n",
    "Ejemplos de datos escasos apropiados para aplicar SVD para la reducción de dimensionalidad:\n",
    "* Sistemas de recomendación\n",
    "* Compras de productos de cliente\n",
    "* Contar canciones que escucha un usuario\n",
    "* Clasificaciones de películas\n",
    "* Clasificación de texto\n",
    "* One-Hot Encoding\n",
    "* TF/IDF\n",
    "\n",
    "Se puede pensar en SVD como un método de proyección en el que los datos con m columnas (características) se proyectan en un subespacio con m columnas o menos, mientras se conserva la esencia de los datos originales. SVD se usa ampliamente tanto en el cálculo de otras operaciones matriciales, como la matriz inversa, como también como método de reducción de datos en el aprendizaje automático."
   ]
  },
  {
   "cell_type": "markdown",
   "metadata": {},
   "source": [
    "<a id=\"section11\"></a>\n",
    "## <font color=\"#004D7F\"> 1.1. Librerías</font>"
   ]
  },
  {
   "cell_type": "markdown",
   "metadata": {},
   "source": [
    "Por último vamos a declarar algunas librerías generales que ya hemos estado trabajando y que usaremos a lo largo de la sección. "
   ]
  },
  {
   "cell_type": "code",
   "execution_count": 1,
   "metadata": {},
   "outputs": [],
   "source": [
    "#importing libraries\n",
    "import pandas as pd\n",
    "import numpy as np\n",
    "import collections as co\n",
    "from matplotlib import pyplot\n",
    "from sklearn.datasets import make_classification\n",
    "from sklearn.model_selection import cross_val_score\n",
    "from sklearn.model_selection import RepeatedStratifiedKFold\n",
    "from sklearn.pipeline import Pipeline\n",
    "from sklearn.decomposition import TruncatedSVD\n",
    "from sklearn.linear_model import LogisticRegression"
   ]
  },
  {
   "cell_type": "markdown",
   "metadata": {},
   "source": [
    "<a id=\"section12\"></a>\n",
    "## <font color=\"#004D7F\"> 1.2. Conjunto de datos</font>"
   ]
  },
  {
   "cell_type": "markdown",
   "metadata": {},
   "source": [
    "Para este ejemplo vamos a usar la función [`make_classification()`](https://scikit-learn.org/stable/modules/generated/sklearn.datasets.make_classification.html) y así crear un problema de clasificación binaria sintética con 1,000 ejemplos y 20 características de entrada, 15 de las cuales son significativas."
   ]
  },
  {
   "cell_type": "code",
   "execution_count": 3,
   "metadata": {},
   "outputs": [
    {
     "name": "stdout",
     "output_type": "stream",
     "text": [
      "(1000, 20) (1000,)\n"
     ]
    }
   ],
   "source": [
    "X, y = make_classification(n_samples=1000, n_features=20, n_informative=15, n_redundant=5, random_state=7)\n",
    "print(X.shape, y.shape)"
   ]
  },
  {
   "cell_type": "markdown",
   "metadata": {},
   "source": [
    "<div style=\"text-align: right\"> <font size=5>\n",
    "    <a href=\"#indice\"><i class=\"fa fa-arrow-circle-up\" aria-hidden=\"true\" style=\"color:#004D7F\"></i></a>\n",
    "</font></div>\n",
    "\n",
    "---"
   ]
  },
  {
   "cell_type": "markdown",
   "metadata": {},
   "source": [
    "<a id=\"section2\"></a>\n",
    "# <font color=\"#004D7F\"> 2. SVD como reducción de dimensiones</font>"
   ]
  },
  {
   "cell_type": "markdown",
   "metadata": {},
   "source": [
    "La librería scikit-learn proporciona la clase [`TruncatedSVD`](https://scikit-learn.org/stable/modules/generated/sklearn.decomposition.TruncatedSVD.html) que puede encajar en un conjunto de datos y usarse para transformar un conjunto de datos de entrenamiento y cualquier conjunto de datos adicional en el futuro."
   ]
  },
  {
   "cell_type": "markdown",
   "metadata": {},
   "source": [
    "<a id=\"section21\"></a>\n",
    "## <font color=\"#004D7F\"> 2.1. Aplicación de SVD</font>"
   ]
  },
  {
   "cell_type": "markdown",
   "metadata": {},
   "source": [
    "La SVD se utiliza normalmente en datos escasos. Esto incluye datos para un sistema de recomendación o un modelo de contar de palabras para texto. Si los datos son densos, entonces es mejor utilizar el método PCA .\n",
    "\n",
    "Usaremos un Pipeline donde el primer paso realiza la transformación SVD y selecciona las 10 componentes más importantes, luego ajusta un modelo de regresión logística en estas características. \n",
    "\n",
    "En este caso, podemos ver que la transformada SVD con regresión logística logró un rendimiento de alrededor del 81,4%.\n",
    "\n",
    "**Nota**: No necesitamos normalizar las variables en este conjunto de datos, ya que todas las variables tienen la misma escala por diseño."
   ]
  },
  {
   "cell_type": "code",
   "execution_count": 5,
   "metadata": {},
   "outputs": [
    {
     "name": "stdout",
     "output_type": "stream",
     "text": [
      "Accuracy: 0.814 (0.034)\n"
     ]
    }
   ],
   "source": [
    "steps = [('svd', TruncatedSVD(n_components=10)), ('m', LogisticRegression())]\n",
    "model = Pipeline(steps=steps)\n",
    "\n",
    "cv = RepeatedStratifiedKFold(n_splits=10, n_repeats=3, random_state=1)\n",
    "n_scores = cross_val_score(model, X, y, scoring='accuracy', cv=cv, n_jobs=-1, error_score='raise')\n",
    "\n",
    "print('Accuracy: %.3f (%.3f)' % (np.mean(n_scores), np.std(n_scores)))"
   ]
  },
  {
   "cell_type": "markdown",
   "metadata": {},
   "source": [
    "<a id=\"section22\"></a>\n",
    "## <font color=\"#004D7F\"> 2.2. Optimización de SVD</font>"
   ]
  },
  {
   "cell_type": "markdown",
   "metadata": {},
   "source": [
    "Si nos fijamos hemos elegido de forma arbitraria el valor de 10 componentes pero no sabemos si esos componenetes son los óptimos para conseguir los mejores resultados. \n",
    "\n",
    "Un mejor enfoque es evaluar la misma transformación y modelo con diferentes números de características de entrada y elegir la cantidad de características (cantidad de reducción de dimensionalidad) que resulte en el mejor rendimiento promedio."
   ]
  },
  {
   "cell_type": "code",
   "execution_count": 7,
   "metadata": {
    "scrolled": false
   },
   "outputs": [
    {
     "name": "stdout",
     "output_type": "stream",
     "text": [
      ">1 0.542 (0.046)\n",
      ">2 0.626 (0.050)\n",
      ">3 0.719 (0.053)\n",
      ">4 0.722 (0.052)\n",
      ">5 0.721 (0.054)\n",
      ">6 0.729 (0.045)\n",
      ">7 0.802 (0.034)\n",
      ">8 0.800 (0.040)\n",
      ">9 0.814 (0.037)\n",
      ">10 0.814 (0.034)\n",
      ">11 0.817 (0.037)\n",
      ">12 0.820 (0.038)\n",
      ">13 0.820 (0.036)\n",
      ">14 0.825 (0.036)\n",
      ">15 0.865 (0.027)\n",
      ">16 0.865 (0.027)\n",
      ">17 0.865 (0.027)\n",
      ">18 0.865 (0.027)\n",
      ">19 0.865 (0.027)\n"
     ]
    },
    {
     "data": {
      "image/png": "[encoded data removed]",
      "text/plain": [
       "<Figure size 432x288 with 1 Axes>"
      ]
     },
     "metadata": {
      "needs_background": "light"
     },
     "output_type": "display_data"
    }
   ],
   "source": [
    "# Obtener el dataset\n",
    "def get_dataset():\n",
    "    X, y = make_classification(n_samples=1000, n_features=20, n_informative=15, n_redundant=5, random_state=7)\n",
    "    return X, y\n",
    "\n",
    "# Obtener la lista de modelos\n",
    "def get_models():\n",
    "    models = dict()\n",
    "    for i in range(1,20):\n",
    "        steps = [('svd', TruncatedSVD(n_components=i)), ('m', LogisticRegression())]\n",
    "        models[str(i)] = Pipeline(steps=steps)\n",
    "    return models\n",
    "\n",
    "# Método de entrenamiento\n",
    "def evaluate_model(model, X, y):\n",
    "    cv = RepeatedStratifiedKFold(n_splits=10, n_repeats=3, random_state=1)\n",
    "    scores = cross_val_score(model, X, y, scoring='accuracy', cv=cv, n_jobs=-1, error_score='raise')\n",
    "    return scores\n",
    "\n",
    "\n",
    "X, y = get_dataset()\n",
    "\n",
    "models = get_models()\n",
    "\n",
    "# Evaluamos los resultados\n",
    "results, names = list(), list()\n",
    "for name, model in models.items():\n",
    "    scores = evaluate_model(model, X, y)\n",
    "    results.append(scores)\n",
    "    names.append(name)\n",
    "    print('>%s %.3f (%.3f)' % (name, np.mean(scores), np.std(scores)))\n",
    "\n",
    "# Visualizamos resultados\n",
    "pyplot.boxplot(results, labels=names, showmeans=True)\n",
    "pyplot.xticks(rotation=45)\n",
    "pyplot.show()"
   ]
  },
  {
   "cell_type": "markdown",
   "metadata": {},
   "source": [
    "## Análisis de los resultados\n",
    "\n",
    "Vemos una tendencia general de mayor rendimiento a medida que aumenta el número de dimensiones hasta que este converge en 15 componentes. Esto coincide con nuestra definición del problema donde solo los primeros 15 componentes contienen información sobre la clase y los cinco restantes son redundantes."
   ]
  },
  {
   "cell_type": "markdown",
   "metadata": {},
   "source": [
    "<a id=\"section23\"></a>\n",
    "## <font color=\"#004D7F\"> 2.3. SVD en Forecasting</font>"
   ]
  },
  {
   "cell_type": "markdown",
   "metadata": {},
   "source": [
    "Podemos optar por utilizar una combinación de modelo de regresión logística y SVD como nuestro modelo final.\n",
    "\n",
    "Esto implica ajustar el Pipeline en todos los datos disponibles y usar este para hacer predicciones sobre nuevos datos. Es importante destacar que se debe realizar la misma transformación en estos nuevos datos, que se manejan automáticamente a través de Pipeline.\n",
    "\n",
    "El siguiente ejemplo proporciona un ejemplo de ajuste y uso de un modelo final con transformaciones de SVD en nuevos datos."
   ]
  },
  {
   "cell_type": "code",
   "execution_count": 8,
   "metadata": {},
   "outputs": [
    {
     "name": "stdout",
     "output_type": "stream",
     "text": [
      "Clase predicha: 1\n"
     ]
    }
   ],
   "source": [
    "steps = [('svd', TruncatedSVD(n_components=15)), ('m', LogisticRegression())]\n",
    "model = Pipeline(steps=steps)\n",
    "# Ajuste del modelo\n",
    "model.fit(X, y)\n",
    "# Hacer una predicción simple\n",
    "row = [[0.2929949,-4.21223056,-1.288332,-2.17849815,-0.64527665,2.58097719,0.28422388,-7.1827928,-1.91211104,2.73729512,0.81395695,3.96973717,-2.66939799,3.34692332,4.19791821,0.99990998,-0.30201875,-4.43170633,-2.82646737,0.44916808]]\n",
    "yhat = model.predict(row)\n",
    "print('Clase predicha: %d' % yhat[0])"
   ]
  },
  {
   "cell_type": "markdown",
   "metadata": {},
   "source": [
    "<div style=\"text-align: right\"> <font size=5>\n",
    "    <a href=\"#indice\"><i class=\"fa fa-arrow-circle-up\" aria-hidden=\"true\" style=\"color:#004D7F\"></i></a>\n",
    "</font></div>\n",
    "\n",
    "---\n",
    "\n",
    "<div style=\"text-align: right\"> <font size=6><i class=\"fa fa-coffee\" aria-hidden=\"true\" style=\"color:#004D7F\"></i> </font></div>"
   ]
  }
 ],
 "metadata": {
  "kernelspec": {
   "display_name": "Python 3",
   "language": "python",
   "name": "python3"
  },
  "language_info": {
   "codemirror_mode": {
    "name": "ipython",
    "version": 3
   },
   "file_extension": ".py",
   "mimetype": "text/x-python",
   "name": "python",
   "nbconvert_exporter": "python",
   "pygments_lexer": "ipython3",
   "version": "3.6.9"
  },
  "toc": {
   "base_numbering": 1,
   "nav_menu": {},
   "number_sections": false,
   "sideBar": true,
   "skip_h1_title": true,
   "title_cell": "Table of Contents",
   "title_sidebar": "Contents",
   "toc_cell": false,
   "toc_position": {},
   "toc_section_display": true,
   "toc_window_display": false
  }
 },
 "nbformat": 4,
 "nbformat_minor": 2
}
