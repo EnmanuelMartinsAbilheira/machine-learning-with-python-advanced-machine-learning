{
 "cells": [
  {
   "cell_type": "markdown",
   "metadata": {},
   "source": [
    "<h2><font color=\"#004D7F\" size=6>Módulo 4. Fase de tratamiento de datos</font></h2>\n",
    "\n",
    "\n",
    "\n",
    "<h1><font color=\"#004D7F\" size=5>4. Feature Selection con datos categóricos</font></h1>\n",
    "\n",
    "<br><br>\n",
    "<div style=\"text-align: right\">\n",
    "<font color=\"#004D7F\" size=3>Manuel Castillo-Cara</font><br>\n",
    "<font color=\"#004D7F\" size=3>Machine Learning con Python</font><br>"
   ]
  },
  {
   "cell_type": "markdown",
   "metadata": {},
   "source": [
    "---\n",
    "\n",
    "<h2><font color=\"#004D7F\" size=5>Índice</font></h2>\n",
    "<a id=\"indice\"></a>\n",
    "\n",
    "* [1. Introducción](#section1)\n",
    "    * [1.1. Librerías](#section11)\n",
    "    * [1.2. Dataset](#section12)\n",
    "    * [1.3. Prepración de datos](#section13)\n",
    "* [2. Codificaicón de variables](#section2)\n",
    "    * [2.1. Codificación ordinal](#section21)\n",
    "    * [2.2. Codifiación de target](#section22)\n",
    "    * [2.3. Codificación del dataset](#section23)\n",
    "* [3. Feature Selection](#section3)\n",
    "    * [3.1. Chi-Cuadrado](#section31)\n",
    "    * [3.2. Información mútua](#section32)\n",
    "* [4. Modelado](#section4)\n",
    "    * [4.1. Resultados de línea base](#section41)\n",
    "    * [4.2. Resultados con Chi-cuadrado](#section42)\n",
    "    * [4.3. Resultados con Información mutua](#section43)"
   ]
  },
  {
   "cell_type": "code",
   "execution_count": null,
   "metadata": {},
   "outputs": [],
   "source": [
    "# Permite ajustar la anchura de la parte útil de la libreta (reduce los márgenes)\n",
    "from IPython.core.display import display, HTML\n",
    "display(HTML(\"<style>.container{ width:98% }</style>\"))"
   ]
  },
  {
   "cell_type": "markdown",
   "metadata": {},
   "source": [
    "---\n",
    "\n",
    "<a id=\"section1\"></a>\n",
    "# <font color=\"#004D7F\"> 1. Introducción</font>"
   ]
  },
  {
   "cell_type": "markdown",
   "metadata": {},
   "source": [
    "En resumen, feature selection, también llamado como selección de mejores características o atributos, es el proceso de seleccionar un subconjunto de características pertinentes (variables, predictores) para su uso en construcción de modelos. Las técnicas de feature selection son utilizadas por cuatro razones:\n",
    "* Simplificación de modelos con el fin de hacerlas más sencillas de interpretar para los usuarios/investigadores.\n",
    "* Menor tiempo de entrenamiento.\n",
    "* Evitar la maldición de la dimensionalidad:\n",
    "* Generalización realzada por reducir _overfitting_ (formalmente, reducción de varianza).\n",
    "\n",
    "Los dos métodos de selección de características más utilizados para datos de entrada categóricos cuando la variable objetivo también es categórica (por ejemplo, modelo predictivo de clasificación) son la **estadística de Chi-cuadrado** y la **estadística de información mutua**.\n",
    "\n",
    "Veamos como es para este tipo de datos muy típico en problemas de Machine Learning."
   ]
  },
  {
   "cell_type": "markdown",
   "metadata": {},
   "source": [
    "<a id=\"section11\"></a>\n",
    "## <font color=\"#004D7F\"> 1.1. Librerías</font>"
   ]
  },
  {
   "cell_type": "markdown",
   "metadata": {},
   "source": [
    "Por último vamos a declarar algunas librerías generales que ya hemos estado trabajando y que usaremos a lo largo de la sección."
   ]
  },
  {
   "cell_type": "code",
   "execution_count": 48,
   "metadata": {
    "scrolled": true
   },
   "outputs": [],
   "source": [
    "#importing libraries\n",
    "import pandas as pd\n",
    "import numpy as np\n",
    "from sklearn.preprocessing import LabelEncoder\n",
    "from sklearn.preprocessing import OrdinalEncoder\n",
    "from sklearn.model_selection import train_test_split\n",
    "from sklearn.feature_selection import SelectKBest\n",
    "from sklearn.feature_selection import chi2\n",
    "from sklearn.feature_selection import mutual_info_classif\n",
    "from sklearn.linear_model import LogisticRegression\n",
    "from sklearn.metrics import accuracy_score\n",
    "from matplotlib import pyplot"
   ]
  },
  {
   "cell_type": "markdown",
   "metadata": {},
   "source": [
    "<a id=\"section12\"></a>\n",
    "## <font color=\"#004D7F\"> 1.2. Dataset</font>"
   ]
  },
  {
   "cell_type": "markdown",
   "metadata": {},
   "source": [
    "Como base de este tutorial, usaremos el llamado \"[Breast Cancer](https://archive.ics.uci.edu/ml/datasets/Breast+Cancer)\". El conjunto de datos clasifica los datos de pacientes con cáncer de mama como una recurrencia o sin recurrencia del cáncer. Hay 286 ejemplos y nueve variables de entrada. Es un problema de clasificación binaria.\n",
    "\n",
    "Un modelo ingenuo puede lograr una precisión del 70% en este conjunto de datos. Una buena puntuación es de aproximadamente 76% +/- 3%. Apuntaremos a esta región, pero tenga en cuenta que los modelos de este tutorial no están optimizados; están diseñados para demostrar esquemas de codificación.\n",
    "\n",
    "Al observar los datos, podemos ver que las nueve variables de entrada son categóricas."
   ]
  },
  {
   "cell_type": "code",
   "execution_count": 22,
   "metadata": {},
   "outputs": [],
   "source": [
    "def load_dataset(filename):\n",
    "    data = pd.read_csv(filename, header=None)\n",
    "    dataset = data.values\n",
    "    X = dataset[:, :-1]\n",
    "    y = dataset[:,-1]\n",
    "    # formateamos todos a str por si alguno lo traduce a numérico automáticamente\n",
    "    X = X.astype(str)\n",
    "    return X, y"
   ]
  },
  {
   "cell_type": "code",
   "execution_count": 24,
   "metadata": {},
   "outputs": [],
   "source": [
    "X, y = load_dataset('data/breast-cancer.csv')"
   ]
  },
  {
   "cell_type": "markdown",
   "metadata": {},
   "source": [
    "<a id=\"section13\"></a>\n",
    "## <font color=\"#004D7F\"> 1.3. Prepración de datos</font>"
   ]
  },
  {
   "cell_type": "markdown",
   "metadata": {},
   "source": [
    "Dividimos el dataset para entrenamiento validación con un Hold-out del 77%/33%"
   ]
  },
  {
   "cell_type": "code",
   "execution_count": 25,
   "metadata": {},
   "outputs": [
    {
     "name": "stdout",
     "output_type": "stream",
     "text": [
      "Train (191, 9) (191,)\n",
      "Test (95, 9) (95,)\n"
     ]
    }
   ],
   "source": [
    "X_train, X_test, y_train, y_test = train_test_split(X, y, test_size=0.33, random_state=1)\n",
    "\n",
    "print('Train', X_train.shape, y_train.shape)\n",
    "print('Test', X_test.shape, y_test.shape)"
   ]
  },
  {
   "cell_type": "markdown",
   "metadata": {},
   "source": [
    "<div style=\"text-align: right\"> <font size=5>\n",
    "    <a href=\"#indice\"><i class=\"fa fa-arrow-circle-up\" aria-hidden=\"true\" style=\"color:#004D7F\"></i></a>\n",
    "</font></div>\n",
    "\n",
    "---"
   ]
  },
  {
   "cell_type": "markdown",
   "metadata": {},
   "source": [
    "<a id=\"section2\"></a>\n",
    "# <font color=\"#004D7F\"> 2. Codificación de variables</font>"
   ]
  },
  {
   "cell_type": "markdown",
   "metadata": {},
   "source": [
    "Podemos usar [`OrdinalEncoder()` de scikit-learn](https://scikit-learn.org/stable/modules/generated/sklearn.preprocessing.OrdinalEncoder.html) para codificar cada variable en números enteros. Esta es una clase flexible y permite especificar el orden de las categorías como argumentos si se conoce dicho orden.\n",
    "\n",
    "La mejor práctica al codificar variables es ajustar la codificación en el conjunto de datos de entrenamiento y luego aplicarla a los conjuntos de datos de entrenamiento y validación."
   ]
  },
  {
   "cell_type": "markdown",
   "metadata": {},
   "source": [
    "<a id=\"section21\"></a>\n",
    "## <font color=\"#004D7F\"> 2.1. Codificación ordinal </font>"
   ]
  },
  {
   "cell_type": "markdown",
   "metadata": {},
   "source": [
    "La función a continuación denominada `prepare_inputs()` toma los datos de entrada para el entrenamiento y validación y los codifica usando una codificación ordinal."
   ]
  },
  {
   "cell_type": "code",
   "execution_count": 26,
   "metadata": {},
   "outputs": [],
   "source": [
    "def prepare_inputs(X_train, X_test):\n",
    "    oe = OrdinalEncoder()\n",
    "    oe.fit(X_train)\n",
    "    X_train_enc = oe.transform(X_train)\n",
    "    X_test_enc = oe.transform(X_test)\n",
    "    return X_train_enc, X_test_enc"
   ]
  },
  {
   "cell_type": "markdown",
   "metadata": {},
   "source": [
    "<a id=\"section22\"></a>\n",
    "## <font color=\"#004D7F\"> 2.2. Codifiación de target</font>"
   ]
  },
  {
   "cell_type": "markdown",
   "metadata": {},
   "source": [
    "También necesitamos preparar la variable objetivo. Es un problema de clasificación binaria, por lo que necesitamos asignar las dos etiquetas de clase a 0 y 1. Este es un tipo de codificación ordinal, y scikit-learn proporciona la clase [`LabelEncoder`](https://scikit-learn.org/stable/modules/generated/sklearn.preprocessing.LabelEncoder.html) diseñada específicamente para este propósito. Podríamos usar `OrdinalEncoder` con la misma facilidad y lograr el mismo resultado, aunque `LabelEncoder` está diseñado para codificar una sola variable.\n",
    "\n",
    "La función `prepare_targets()` entero codifica los datos de salida para el tren y los conjuntos de prueba."
   ]
  },
  {
   "cell_type": "code",
   "execution_count": 27,
   "metadata": {},
   "outputs": [],
   "source": [
    "def prepare_targets(y_train, y_test):\n",
    "    le = LabelEncoder()\n",
    "    le.fit(y_train)\n",
    "    y_train_enc = le.transform(y_train)\n",
    "    y_test_enc = le.transform(y_test)\n",
    "    return y_train_enc, y_test_enc"
   ]
  },
  {
   "cell_type": "markdown",
   "metadata": {},
   "source": [
    "<a id=\"section23\"></a>\n",
    "## <font color=\"#004D7F\"> 2.3. Codificación del dataset</font>"
   ]
  },
  {
   "cell_type": "markdown",
   "metadata": {},
   "source": [
    "Finalmente, codificamos todo el datset al completo.\n",
    "\n",
    "Una vez codificado todo el dataset podemos realizar Feature Selection a nuestro dataset."
   ]
  },
  {
   "cell_type": "code",
   "execution_count": 34,
   "metadata": {
    "scrolled": false
   },
   "outputs": [
    {
     "name": "stdout",
     "output_type": "stream",
     "text": [
      "[[ 3.  0.  4. ...  0.  3.  0.]\n",
      " [ 1.  2.  9. ...  0.  3.  0.]\n",
      " [ 3.  2. 10. ...  1.  2.  1.]\n",
      " ...\n",
      " [ 4.  0.  1. ...  1.  1.  0.]\n",
      " [ 4.  0.  7. ...  1.  1.  0.]\n",
      " [ 4.  0.  8. ...  0.  0.  0.]]\n",
      "\n",
      "[0 0 0 0 0 0 0 0 0 0 0 1 1 1 0 0 0 0 1 1 0 0 1 0 1 0 0 0 0 0 1 1 1 0 1 0 0\n",
      " 0 0 1 1 0 0 0 0 0 0 0 0 0 0 0 0 0 0 0 0 0 0 0 0 1 0 0 0 1 0 0 1 0 1 0 0 0\n",
      " 0 0 0 0 1 1 0 1 0 1 0 0 0 1 1 0 0 0 0 0 0 0 1 0 0 1 1 0 0 0 1 0 0 0 1 1 1\n",
      " 1 0 0 0 0 0 0 0 0 1 0 0 1 0 1 0 0 0 0 0 0 0 1 0 1 0 0 0 0 0 1 0 1 0 1 0 0\n",
      " 0 0 0 1 0 1 1 0 0 0 0 0 0 0 1 0 0 0 1 0 0 0 0 0 0 0 0 1 1 1 0 0 1 1 0 0 0\n",
      " 1 0 1 0 1 0]\n"
     ]
    }
   ],
   "source": [
    "X_train_enc, X_test_enc = prepare_inputs(X_train, X_test)\n",
    "\n",
    "y_train_enc, y_test_enc = prepare_targets(y_train, y_test)\n",
    "\n",
    "print(X_train_enc)\n",
    "print()\n",
    "print(y_train_enc)"
   ]
  },
  {
   "cell_type": "markdown",
   "metadata": {},
   "source": [
    "<div style=\"text-align: right\"> <font size=5>\n",
    "    <a href=\"#indice\"><i class=\"fa fa-arrow-circle-up\" aria-hidden=\"true\" style=\"color:#004D7F\"></i></a>\n",
    "</font></div>\n",
    "\n",
    "---"
   ]
  },
  {
   "cell_type": "markdown",
   "metadata": {},
   "source": [
    "<a id=\"section3\"></a>\n",
    "# <font color=\"#004D7F\"> 3. Feature Selection </font>"
   ]
  },
  {
   "cell_type": "markdown",
   "metadata": {},
   "source": [
    "Hay dos técnicas de selección de características populares que se pueden usar para datos de entrada categóricos y una variable de destino categórica (clase).\n",
    "* Estadístico Chi-Cuadrado.\n",
    "* Estadística de información mutua."
   ]
  },
  {
   "cell_type": "markdown",
   "metadata": {},
   "source": [
    "<a id=\"section31\"></a>\n",
    "## <font color=\"#004D7F\"> 3.1. Chi-Cuadrado </font>"
   ]
  },
  {
   "cell_type": "markdown",
   "metadata": {},
   "source": [
    "La prueba de hipótesis estadística de chi-cuadrado de Pearson es un ejemplo de una prueba de independencia entre variables categóricas. Los resultados de esta prueba se pueden usar para la selección de características, donde las características que son independientes de la variable de destino se pueden eliminar del conjunto de datos.\n",
    "\n",
    "La librería de scikit-learn proporciona una implementación del test estadístico Chi-cuadrado en la función [`chi2()`](https://scikit-learn.org/stable/modules/generated/sklearn.feature_selection.chi2.html). Esta función se puede utilizar en una estrategia de selección de características, como seleccionar las *k* características más relevantes (valores más grandes) a través de la clase [`SelectKBest`](https://scikit-learn.org/stable/modules/generated/sklearn.feature_selection.SelectKBest.html) .\n",
    "\n",
    "Por ejemplo, podemos definir la clase `SelectKBest` para usar la función `chi2()` y seleccionar todas las características, luego transformar el tren y los conjuntos de prueba. Posteriormente, imprimimos los puntajes arrojados por el test estadístico"
   ]
  },
  {
   "cell_type": "code",
   "execution_count": 38,
   "metadata": {},
   "outputs": [],
   "source": [
    "def select_features(X_train, y_train, X_test):\n",
    "    fs = SelectKBest(score_func=chi2, k='all')\n",
    "    fs.fit(X_train, y_train)\n",
    "    X_train_fs = fs.transform(X_train)\n",
    "    X_test_fs = fs.transform(X_test)\n",
    "    return X_train_fs, X_test_fs, fs"
   ]
  },
  {
   "cell_type": "markdown",
   "metadata": {},
   "source": [
    "Se crea un gráfico de barras de las puntuaciones de importancia de la característica para cada característica. Esto muestra claramente que la característica 3 podría ser la más relevante (según chi-cuadrado) y que quizás cuatro de las nueve características de entrada sean las más relevantes.\n",
    "\n",
    "Podríamos establecer *k = 4* al configurar `SelectKBest` para seleccionar estas cuatro características principales."
   ]
  },
  {
   "cell_type": "code",
   "execution_count": 52,
   "metadata": {
    "scrolled": false
   },
   "outputs": [
    {
     "name": "stdout",
     "output_type": "stream",
     "text": [
      "Feature 0: 0.472553\n",
      "Feature 1: 0.029193\n",
      "Feature 2: 2.137658\n",
      "Feature 3: 29.381059\n",
      "Feature 4: 8.222601\n",
      "Feature 5: 8.100183\n",
      "Feature 6: 1.273822\n",
      "Feature 7: 0.950682\n",
      "Feature 8: 3.699989\n"
     ]
    },
    {
     "data": {
      "image/png": "[encoded data removed]",
      "text/plain": [
       "<Figure size 432x288 with 1 Axes>"
      ]
     },
     "metadata": {
      "needs_background": "light"
     },
     "output_type": "display_data"
    }
   ],
   "source": [
    "# realizamos FS\n",
    "X_train_fs, X_test_fs, fs = select_features(X_train_enc, y_train_enc, X_test_enc)\n",
    "\n",
    "#Imprimimos los valore y los representamos\n",
    "for i in range(len(fs.scores_)):\n",
    "    print('Feature %d: %f' % (i, fs.scores_[i]))\n",
    "# plot the scores\n",
    "pyplot.bar([i for i in range(len(fs.scores_))], fs.scores_)\n",
    "pyplot.show()"
   ]
  },
  {
   "cell_type": "markdown",
   "metadata": {},
   "source": [
    "<a id=\"section32\"></a>\n",
    "## <font color=\"#004D7F\"> 3.2. Información mútua </font>"
   ]
  },
  {
   "cell_type": "markdown",
   "metadata": {},
   "source": [
    "La información mutua del campo de la teoría de la información es la aplicación de la ganancia de información (normalmente utilizada en la construcción de árboles de decisión) a la selección de características. La información mutua se calcula entre dos variables y mide la reducción de la incertidumbre para una variable dado un valor conocido de la otra variable.\n",
    "\n",
    "La libería de scikit-learn proporciona una implementación de información mutua para la selección de características a través de la función [`mutual_info_classif()`](https://scikit-learn.org/stable/modules/generated/sklearn.feature_selection.mutual_info_classif.html). Al igual que `chi2()`, se puede utilizar en la estrategia de selección de características `SelectKBest` (y otras estrategias)."
   ]
  },
  {
   "cell_type": "code",
   "execution_count": 43,
   "metadata": {},
   "outputs": [],
   "source": [
    "def select_features2(X_train, y_train, X_test):\n",
    "    fs = SelectKBest(score_func=mutual_info_classif, k='all')\n",
    "    fs.fit(X_train, y_train)\n",
    "    X_train_fs = fs.transform(X_train)\n",
    "    X_test_fs = fs.transform(X_test)\n",
    "    return X_train_fs, X_test_fs, fs"
   ]
  },
  {
   "cell_type": "markdown",
   "metadata": {},
   "source": [
    "Al ejecutar el ejemplo, primero se imprimen las puntuaciones calculadas para cada característica de entrada y la variable target. En este caso, podemos ver que algunas de las características tienen una puntuación muy baja, lo que sugiere que quizás se puedan eliminar. Quizás las características 3, 6, 2 y 5 sean las más relevantes.\n",
    "\n",
    "**Nota**: Sus resultados pueden variar dada la naturaleza estocástica del algoritmo o procedimiento de evaluación, o las diferencias en la precisión numérica. Considere ejecutar el ejemplo varias veces y compare el resultado promedio."
   ]
  },
  {
   "cell_type": "code",
   "execution_count": 46,
   "metadata": {
    "scrolled": true
   },
   "outputs": [
    {
     "name": "stdout",
     "output_type": "stream",
     "text": [
      "Feature 0: 0.000000\n",
      "Feature 1: 0.010636\n",
      "Feature 2: 0.063814\n",
      "Feature 3: 0.041706\n",
      "Feature 4: 0.000000\n",
      "Feature 5: 0.014018\n",
      "Feature 6: 0.030975\n",
      "Feature 7: 0.000000\n",
      "Feature 8: 0.052069\n"
     ]
    },
    {
     "data": {
      "image/png": "[encoded data removed]",
      "text/plain": [
       "<Figure size 432x288 with 1 Axes>"
      ]
     },
     "metadata": {
      "needs_background": "light"
     },
     "output_type": "display_data"
    }
   ],
   "source": [
    "# realizamos FS\n",
    "X_train_fs, X_test_fs, fs = select_features2(X_train_enc, y_train_enc, X_test_enc)\n",
    "\n",
    "#Imprimimos los valore y los representamos\n",
    "for i in range(len(fs.scores_)):\n",
    "    print('Feature %d: %f' % (i, fs.scores_[i]))\n",
    "# plot the scores\n",
    "pyplot.bar([i for i in range(len(fs.scores_))], fs.scores_)\n",
    "pyplot.show()"
   ]
  },
  {
   "cell_type": "markdown",
   "metadata": {},
   "source": [
    "<div style=\"text-align: right\"> <font size=5>\n",
    "    <a href=\"#indice\"><i class=\"fa fa-arrow-circle-up\" aria-hidden=\"true\" style=\"color:#004D7F\"></i></a>\n",
    "</font></div>\n",
    "\n",
    "---"
   ]
  },
  {
   "cell_type": "markdown",
   "metadata": {},
   "source": [
    "<a id=\"section4\"></a>\n",
    "# <font color=\"#004D7F\"> 4. Modelado </font>"
   ]
  },
  {
   "cell_type": "markdown",
   "metadata": {},
   "source": [
    "Una vez transformado y conocido los resultados de FS, evaluaremos un modelo Logistic Regression (LoR) con todas las características en comparación con un modelo construido a partir de características seleccionadas por chi-cuadrado y esas características seleccionadas a través de información mutua.\n",
    "\n",
    "LoR es un buen modelo para probar métodos de selección de características, ya que puede funcionar mejor si las características irrelevantes se eliminan del modelo."
   ]
  },
  {
   "cell_type": "markdown",
   "metadata": {},
   "source": [
    "<a id=\"section41\"></a>\n",
    "## <font color=\"#004D7F\"> 4.1. Resultados de línea base </font>"
   ]
  },
  {
   "cell_type": "markdown",
   "metadata": {},
   "source": [
    "Como primer paso, evaluaremos un modelo LogisticRegression utilizando todas las características disponibles. La ejecución del ejemplo imprime el Accuracy del modelo.\n",
    "\n",
    "En este caso, podemos ver que el modelo logra un Accuracy de clasificación de alrededor del 76%. Preferiríamos utilizar un subconjunto de características que logre una precisión de clasificación tan buena o mejor que esta.\n",
    "\n",
    "**Nota**: Sus resultados pueden variar dada la naturaleza estocástica del algoritmo o procedimiento de evaluación, o las diferencias en la precisión numérica. Considere ejecutar el ejemplo varias veces y compare el resultado promedio."
   ]
  },
  {
   "cell_type": "code",
   "execution_count": 49,
   "metadata": {},
   "outputs": [
    {
     "name": "stdout",
     "output_type": "stream",
     "text": [
      "Accuracy: 75.79\n"
     ]
    }
   ],
   "source": [
    "model = LogisticRegression(solver='lbfgs')\n",
    "model.fit(X_train_enc, y_train_enc)\n",
    "\n",
    "yhat = model.predict(X_test_enc)\n",
    "\n",
    "accuracy = accuracy_score(y_test_enc, yhat)\n",
    "print('Accuracy: %.2f' % (accuracy*100))"
   ]
  },
  {
   "cell_type": "markdown",
   "metadata": {},
   "source": [
    "<a id=\"section42\"></a>\n",
    "## <font color=\"#004D7F\"> 4.2. Resultados con Chi-cuadrado </font>"
   ]
  },
  {
   "cell_type": "markdown",
   "metadata": {},
   "source": [
    "Primeros vamos a redefinir la función para que pueda escoger las 4 características con el puntaje más alto."
   ]
  },
  {
   "cell_type": "code",
   "execution_count": 54,
   "metadata": {},
   "outputs": [],
   "source": [
    "def select_features(X_train, y_train, X_test):\n",
    "    fs = SelectKBest(score_func=chi2, k=4)\n",
    "    fs.fit(X_train, y_train)\n",
    "    X_train_fs = fs.transform(X_train)\n",
    "    X_test_fs = fs.transform(X_test)\n",
    "    return X_train_fs, X_test_fs"
   ]
  },
  {
   "cell_type": "markdown",
   "metadata": {},
   "source": [
    "La ejecución del ejemplo informa el rendimiento del modelo en solo cuatro de las nueve características de entrada seleccionadas mediante la estadística de chi-cuadrado. En este caso, vemos que el modelo logró una precisión de alrededor del 74%, una ligera caída en el rendimiento.\n",
    "\n",
    "Es posible que algunas de las características eliminadas estén, de hecho, agregando valor directamente o en concierto con las características seleccionadas. En esta etapa, probablemente preferiríamos utilizar todas las funciones de entrada.\n",
    "\n",
    "**Nota**: Los resultados pueden variar dada la naturaleza estocástica del algoritmo o procedimiento de evaluación, o las diferencias en la precisión numérica. Considere ejecutar el ejemplo varias veces y compare el resultado promedio. También puede ser una buena idea explorar el uso de la validación cruzada de k-fold en lugar de una simple división de tren / prueba."
   ]
  },
  {
   "cell_type": "code",
   "execution_count": 55,
   "metadata": {},
   "outputs": [
    {
     "name": "stdout",
     "output_type": "stream",
     "text": [
      "Accuracy: 74.74\n"
     ]
    }
   ],
   "source": [
    "X_train_fs, X_test_fs = select_features(X_train_enc, y_train_enc, X_test_enc)\n",
    "\n",
    "model = LogisticRegression(solver='lbfgs')\n",
    "model.fit(X_train_fs, y_train_enc)\n",
    "\n",
    "yhat = model.predict(X_test_fs)\n",
    "\n",
    "accuracy = accuracy_score(y_test_enc, yhat)\n",
    "print('Accuracy: %.2f' % (accuracy*100))"
   ]
  },
  {
   "cell_type": "markdown",
   "metadata": {},
   "source": [
    "<a id=\"section43\"></a>\n",
    "## <font color=\"#004D7F\"> 4.3. Resultados con Información mutua </font>"
   ]
  },
  {
   "cell_type": "markdown",
   "metadata": {},
   "source": [
    "Primeros vamos a redefinir la función para que pueda escoger las 4 características con el puntaje más alto."
   ]
  },
  {
   "cell_type": "code",
   "execution_count": 58,
   "metadata": {},
   "outputs": [],
   "source": [
    "def select_features2(X_train, y_train, X_test):\n",
    "    fs = SelectKBest(score_func=mutual_info_classif, k=4)\n",
    "    fs.fit(X_train, y_train)\n",
    "    X_train_fs = fs.transform(X_train)\n",
    "    X_test_fs = fs.transform(X_test)\n",
    "    return X_train_fs, X_test_fs"
   ]
  },
  {
   "cell_type": "markdown",
   "metadata": {},
   "source": [
    "Al ejecutar el ejemplo, el modelo se ajusta a las cuatro características seleccionadas principales elegidas utilizando información mutua.En este caso, podemos ver un pequeño aumento en la precisión de clasificación al 78%.\n",
    "\n",
    "**Nota**: Los resultados pueden variar dada la naturaleza estocástica del algoritmo o procedimiento de evaluación, o las diferencias en la precisión numérica. Considere ejecutar el ejemplo varias veces y compare el resultado promedio. También puede ser una buena idea explorar el uso de la validación cruzada de k-fold en lugar de una simple división de tren / prueba."
   ]
  },
  {
   "cell_type": "code",
   "execution_count": 74,
   "metadata": {},
   "outputs": [
    {
     "name": "stdout",
     "output_type": "stream",
     "text": [
      "Accuracy: 77.89\n"
     ]
    }
   ],
   "source": [
    "X_train_fs, X_test_fs = select_features2(X_train_enc, y_train_enc, X_test_enc)\n",
    "\n",
    "model = LogisticRegression(solver='lbfgs')\n",
    "model.fit(X_train_fs, y_train_enc)\n",
    "\n",
    "yhat = model.predict(X_test_fs)\n",
    "\n",
    "accuracy = accuracy_score(y_test_enc, yhat)\n",
    "print('Accuracy: %.2f' % (accuracy*100))\n",
    "\n"
   ]
  },
  {
   "cell_type": "markdown",
   "metadata": {},
   "source": [
    "<div style=\"text-align: right\"> <font size=5>\n",
    "    <a href=\"#indice\"><i class=\"fa fa-arrow-circle-up\" aria-hidden=\"true\" style=\"color:#004D7F\"></i></a>\n",
    "</font></div>\n",
    "\n",
    "---\n",
    "\n",
    "<div style=\"text-align: right\"> <font size=6><i class=\"fa fa-coffee\" aria-hidden=\"true\" style=\"color:#004D7F\"></i> </font></div>"
   ]
  }
 ],
 "metadata": {
  "kernelspec": {
   "display_name": "Python 3 (ipykernel)",
   "language": "python",
   "name": "python3"
  },
  "language_info": {
   "codemirror_mode": {
    "name": "ipython",
    "version": 3
   },
   "file_extension": ".py",
   "mimetype": "text/x-python",
   "name": "python",
   "nbconvert_exporter": "python",
   "pygments_lexer": "ipython3",
   "version": "3.9.16"
  }
 },
 "nbformat": 4,
 "nbformat_minor": 2
}
