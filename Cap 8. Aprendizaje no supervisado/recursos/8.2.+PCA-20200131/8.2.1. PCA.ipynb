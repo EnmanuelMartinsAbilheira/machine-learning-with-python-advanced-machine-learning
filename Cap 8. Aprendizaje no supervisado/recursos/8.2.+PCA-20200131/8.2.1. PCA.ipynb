{
 "cells": [
  {
   "cell_type": "markdown",
   "metadata": {},
   "source": [
    "<h2><font color=\"#004D7F\" size=6>Módulo 8. Aprendizaje No Supervisado</font></h2>\n",
    "\n",
    "\n",
    "\n",
    "<h1><font color=\"#004D7F\" size=5>8.2.1. Principal Component Analysis (PCA)</font></h1>\n",
    "\n",
    "<br><br>\n",
    "<div style=\"text-align: right\">\n",
    "<font color=\"#004D7F\" size=3>Manuel Castillo-Cara</font><br>\n",
    "<font color=\"#004D7F\" size=3>Machine Learning con Python</font><br>\n",
    "\n",
    "---"
   ]
  },
  {
   "cell_type": "code",
   "execution_count": 1,
   "metadata": {},
   "outputs": [
    {
     "data": {
      "text/html": [
       "<style>.container { width:90% !important; }</style>"
      ],
      "text/plain": [
       "<IPython.core.display.HTML object>"
      ]
     },
     "metadata": {},
     "output_type": "display_data"
    }
   ],
   "source": [
    "import pandas as pd\n",
    "import numpy as np\n",
    "\n",
    "import matplotlib.pyplot as plt\n",
    "import seaborn as sns;\n",
    "sns.set()\n",
    "# Si se tiene más o pantalla retina que salga con más resolución\n",
    "%config InlineBackend.figure_format = 'retina'\n",
    "%matplotlib inline\n",
    "\n",
    "from IPython.core.display import display, HTML\n",
    "display(HTML(\"<style>.container { width:90% !important; }</style>\"))"
   ]
  },
  {
   "cell_type": "markdown",
   "metadata": {},
   "source": [
    "\n",
    "<a id=\"section1\"></a>\n",
    "# <font color=\"#004D7F\"> 1. Datos </font>"
   ]
  },
  {
   "cell_type": "code",
   "execution_count": 2,
   "metadata": {},
   "outputs": [
    {
     "data": {
      "text/html": [
       "<div>\n",
       "<style scoped>\n",
       "    .dataframe tbody tr th:only-of-type {\n",
       "        vertical-align: middle;\n",
       "    }\n",
       "\n",
       "    .dataframe tbody tr th {\n",
       "        vertical-align: top;\n",
       "    }\n",
       "\n",
       "    .dataframe thead th {\n",
       "        text-align: right;\n",
       "    }\n",
       "</style>\n",
       "<table border=\"1\" class=\"dataframe\">\n",
       "  <thead>\n",
       "    <tr style=\"text-align: right;\">\n",
       "      <th></th>\n",
       "      <th>Falafel</th>\n",
       "      <th>Kebab</th>\n",
       "      <th>Shushi</th>\n",
       "      <th>Cereales</th>\n",
       "    </tr>\n",
       "  </thead>\n",
       "  <tbody>\n",
       "    <tr>\n",
       "      <td>Alicia</td>\n",
       "      <td>10</td>\n",
       "      <td>1</td>\n",
       "      <td>2</td>\n",
       "      <td>7</td>\n",
       "    </tr>\n",
       "    <tr>\n",
       "      <td>Bernardo</td>\n",
       "      <td>7</td>\n",
       "      <td>2</td>\n",
       "      <td>1</td>\n",
       "      <td>10</td>\n",
       "    </tr>\n",
       "    <tr>\n",
       "      <td>Carmen</td>\n",
       "      <td>2</td>\n",
       "      <td>9</td>\n",
       "      <td>7</td>\n",
       "      <td>3</td>\n",
       "    </tr>\n",
       "    <tr>\n",
       "      <td>Diego</td>\n",
       "      <td>3</td>\n",
       "      <td>6</td>\n",
       "      <td>10</td>\n",
       "      <td>2</td>\n",
       "    </tr>\n",
       "    <tr>\n",
       "      <td>Elena</td>\n",
       "      <td>1</td>\n",
       "      <td>8</td>\n",
       "      <td>8</td>\n",
       "      <td>3</td>\n",
       "    </tr>\n",
       "  </tbody>\n",
       "</table>\n",
       "</div>"
      ],
      "text/plain": [
       "          Falafel  Kebab  Shushi  Cereales\n",
       "Alicia         10      1       2         7\n",
       "Bernardo        7      2       1        10\n",
       "Carmen          2      9       7         3\n",
       "Diego           3      6      10         2\n",
       "Elena           1      8       8         3"
      ]
     },
     "execution_count": 2,
     "metadata": {},
     "output_type": "execute_result"
    }
   ],
   "source": [
    "df_datos = pd.DataFrame(np.array([[10,1,2,7],[7,2,1,10],[2,9,7,3],[3,6,10,2],[1,8,8,3]]),\n",
    "                        index = ['Alicia', 'Bernardo', 'Carmen', 'Diego', 'Elena'],\n",
    "                        columns = ['Falafel', 'Kebab', 'Shushi', 'Cereales'])\n",
    "df_datos.head()"
   ]
  },
  {
   "cell_type": "code",
   "execution_count": 3,
   "metadata": {},
   "outputs": [],
   "source": [
    "X = df_datos.values"
   ]
  },
  {
   "cell_type": "markdown",
   "metadata": {},
   "source": [
    "## <font color=\"#004D7F\"> Obtención de las k componentes principales </font>"
   ]
  },
  {
   "cell_type": "markdown",
   "metadata": {},
   "source": [
    "Para el ejemplo, se obtendrán dos componentes."
   ]
  },
  {
   "cell_type": "code",
   "execution_count": 4,
   "metadata": {},
   "outputs": [],
   "source": [
    "k = 2 "
   ]
  },
  {
   "cell_type": "code",
   "execution_count": 7,
   "metadata": {},
   "outputs": [
    {
     "name": "stdout",
     "output_type": "stream",
     "text": [
      "Componentes:\n",
      " [[ 0.51513273 -0.48597481 -0.53756393  0.45770272]\n",
      " [ 0.53008597 -0.46473441  0.49877565 -0.5042357 ]]\n",
      "\n",
      "Norma de las componentes:  [1. 1.]\n"
     ]
    }
   ],
   "source": [
    "from sklearn.decomposition import PCA\n",
    "\n",
    "pca = PCA(n_components=k)\n",
    "pca.fit(X)\n",
    "\n",
    "C = pca.components_\n",
    "print('Componentes:\\n', C)\n",
    "print('\\nNorma de las componentes: ', np.linalg.norm(C, axis=1))"
   ]
  },
  {
   "cell_type": "markdown",
   "metadata": {},
   "source": [
    "## <font color=\"#004D7F\"> Pesos (loadings) </font>"
   ]
  },
  {
   "cell_type": "code",
   "execution_count": 8,
   "metadata": {},
   "outputs": [
    {
     "data": {
      "text/html": [
       "<div>\n",
       "<style scoped>\n",
       "    .dataframe tbody tr th:only-of-type {\n",
       "        vertical-align: middle;\n",
       "    }\n",
       "\n",
       "    .dataframe tbody tr th {\n",
       "        vertical-align: top;\n",
       "    }\n",
       "\n",
       "    .dataframe thead th {\n",
       "        text-align: right;\n",
       "    }\n",
       "</style>\n",
       "<table border=\"1\" class=\"dataframe\">\n",
       "  <thead>\n",
       "    <tr style=\"text-align: right;\">\n",
       "      <th></th>\n",
       "      <th>PC1</th>\n",
       "      <th>PC2</th>\n",
       "    </tr>\n",
       "  </thead>\n",
       "  <tbody>\n",
       "    <tr>\n",
       "      <td>Falafel</td>\n",
       "      <td>0.515133</td>\n",
       "      <td>0.530086</td>\n",
       "    </tr>\n",
       "    <tr>\n",
       "      <td>Kebab</td>\n",
       "      <td>-0.485975</td>\n",
       "      <td>-0.464734</td>\n",
       "    </tr>\n",
       "    <tr>\n",
       "      <td>Shushi</td>\n",
       "      <td>-0.537564</td>\n",
       "      <td>0.498776</td>\n",
       "    </tr>\n",
       "    <tr>\n",
       "      <td>Cereales</td>\n",
       "      <td>0.457703</td>\n",
       "      <td>-0.504236</td>\n",
       "    </tr>\n",
       "  </tbody>\n",
       "</table>\n",
       "</div>"
      ],
      "text/plain": [
       "               PC1       PC2\n",
       "Falafel   0.515133  0.530086\n",
       "Kebab    -0.485975 -0.464734\n",
       "Shushi   -0.537564  0.498776\n",
       "Cereales  0.457703 -0.504236"
      ]
     },
     "execution_count": 8,
     "metadata": {},
     "output_type": "execute_result"
    }
   ],
   "source": [
    "pd.DataFrame(C.T, index=df_datos.columns, columns=['PC1', 'PC2'])"
   ]
  },
  {
   "cell_type": "markdown",
   "metadata": {},
   "source": [
    "Se observa que la primera componente recoge la preferencia por comida vegetariana, mientras que la segunda parece recoger preferencia por comida sana. "
   ]
  },
  {
   "cell_type": "markdown",
   "metadata": {},
   "source": [
    "## <font color=\"#004D7F\"> Representación de los datos mediante componentes principales </font>\n",
    "\n",
    "\n",
    "Para un caso"
   ]
  },
  {
   "cell_type": "code",
   "execution_count": 9,
   "metadata": {},
   "outputs": [
    {
     "data": {
      "text/plain": [
       "array([7.67344652, 2.01028501])"
      ]
     },
     "execution_count": 9,
     "metadata": {},
     "output_type": "execute_result"
    }
   ],
   "source": [
    "np.dot(C,X[0,:]-pca.mean_)"
   ]
  },
  {
   "cell_type": "markdown",
   "metadata": {},
   "source": [
    "Para la matriz"
   ]
  },
  {
   "cell_type": "code",
   "execution_count": 10,
   "metadata": {},
   "outputs": [
    {
     "name": "stdout",
     "output_type": "stream",
     "text": [
      "[[ 7.67  2.01]\n",
      " [ 7.55 -2.06]\n",
      " [-4.85 -1.44]\n",
      " [-4.95  2.49]\n",
      " [-5.42 -1.  ]]\n"
     ]
    }
   ],
   "source": [
    "# X_pc = pca.transform(X)                        # Ambos métodos son equivalentes\n",
    "X_pc = np.dot(X - pca.mean_, C.T)\n",
    "print(X_pc.round(2))"
   ]
  },
  {
   "cell_type": "markdown",
   "metadata": {},
   "source": [
    "Visualización"
   ]
  },
  {
   "cell_type": "code",
   "execution_count": 11,
   "metadata": {},
   "outputs": [
    {
     "data": {
      "image/png": "[encoded data removed]",
      "text/plain": [
       "<Figure size 432x432 with 1 Axes>"
      ]
     },
     "metadata": {
      "image/png": {
       "height": 388,
       "width": 421
      },
      "needs_background": "light"
     },
     "output_type": "display_data"
    }
   ],
   "source": [
    "plt.figure(figsize=(6,6))\n",
    "plt.scatter(X_pc[:, 0], X_pc[:, 1], s=75, alpha=1)\n",
    "plt.xlabel('PC1', fontsize=15, labelpad=10)\n",
    "plt.ylabel('PC2',  fontsize=15, labelpad=10)\n",
    "plt.xlim(-10,10)\n",
    "plt.ylim(-10,10)\n",
    "plt.axhline(0, color='grey')\n",
    "plt.axvline(0, color='grey');"
   ]
  },
  {
   "cell_type": "markdown",
   "metadata": {},
   "source": [
    "## <font color=\"#004D7F\"> Reconstrucción de los datos a partir de las componentes principales </font>\n",
    "\n",
    "\n",
    "Para un caso, como combinación lineal"
   ]
  },
  {
   "cell_type": "code",
   "execution_count": 14,
   "metadata": {},
   "outputs": [
    {
     "data": {
      "text/plain": [
       "array([7.67344652, 2.01028501])"
      ]
     },
     "execution_count": 14,
     "metadata": {},
     "output_type": "execute_result"
    }
   ],
   "source": [
    "# Los componentes\n",
    "X_pc[0,:]"
   ]
  },
  {
   "cell_type": "code",
   "execution_count": 15,
   "metadata": {},
   "outputs": [
    {
     "data": {
      "text/plain": [
       "array([9.61846737, 0.5366497 , 2.47771316, 7.49849986])"
      ]
     },
     "execution_count": 15,
     "metadata": {},
     "output_type": "execute_result"
    }
   ],
   "source": [
    "pca.mean_ + X_pc[0,0]*C[0,:] + X_pc[0,1]*C[1,:]"
   ]
  },
  {
   "cell_type": "markdown",
   "metadata": {},
   "source": [
    "Para un caso, como producto vectorial"
   ]
  },
  {
   "cell_type": "code",
   "execution_count": 16,
   "metadata": {},
   "outputs": [
    {
     "data": {
      "text/plain": [
       "array([9.61846737, 0.5366497 , 2.47771316, 7.49849986])"
      ]
     },
     "execution_count": 16,
     "metadata": {},
     "output_type": "execute_result"
    }
   ],
   "source": [
    "np.dot(X_pc[0,:],C)+pca.mean_"
   ]
  },
  {
   "cell_type": "markdown",
   "metadata": {},
   "source": [
    "Para todos los casos"
   ]
  },
  {
   "cell_type": "code",
   "execution_count": 17,
   "metadata": {},
   "outputs": [
    {
     "name": "stdout",
     "output_type": "stream",
     "text": [
      "\n",
      "X\n",
      "[[10  1  2  7]\n",
      " [ 7  2  1 10]\n",
      " [ 2  9  7  3]\n",
      " [ 3  6 10  2]\n",
      " [ 1  8  8  3]]\n",
      "\n",
      "X_app\n",
      "[[9.62 0.54 2.48 7.5 ]\n",
      " [7.4  2.49 0.51 9.49]\n",
      " [1.34 8.23 7.49 3.5 ]\n",
      " [3.37 6.45 9.5  1.48]\n",
      " [1.28 8.3  8.01 3.03]]\n"
     ]
    }
   ],
   "source": [
    "# X_app = pca.inverse_transform(X_pc)\n",
    "X_app = np.dot(X_pc, C) + pca.mean_            # Ambos métodos son equivalentes\n",
    "\n",
    "print('\\nX')\n",
    "print(X)\n",
    "print('\\nX_app')\n",
    "print(X_app.round(2))"
   ]
  },
  {
   "cell_type": "markdown",
   "metadata": {},
   "source": [
    "## <font color=\"#004D7F\"> Coste (loss) </font>\n"
   ]
  },
  {
   "cell_type": "code",
   "execution_count": 18,
   "metadata": {},
   "outputs": [
    {
     "data": {
      "text/plain": [
       "4.429479072650178"
      ]
     },
     "execution_count": 18,
     "metadata": {},
     "output_type": "execute_result"
    }
   ],
   "source": [
    "from sklearn.metrics.pairwise import paired_distances\n",
    "\n",
    "np.sum(paired_distances(X, X_app))"
   ]
  },
  {
   "cell_type": "markdown",
   "metadata": {},
   "source": [
    "## <font color=\"#004D7F\"> Varianza </font>\n"
   ]
  },
  {
   "cell_type": "code",
   "execution_count": 19,
   "metadata": {},
   "outputs": [
    {
     "name": "stdout",
     "output_type": "stream",
     "text": [
      "Varianza explicada (Autovalores): [48.34709495  4.38266532]\n",
      "Varianza explicada ratio: [0.89864489 0.08146218]\n",
      "Varianza explicada acumulada: [0.89864489 0.98010707]\n"
     ]
    }
   ],
   "source": [
    "print('Varianza explicada (Autovalores):', pca.explained_variance_)  # También llamados eigenvalues\n",
    "print('Varianza explicada ratio:', pca.explained_variance_ratio_)\n",
    "print('Varianza explicada acumulada:', np.cumsum(pca.explained_variance_ratio_))\n",
    "# Recordad que si ponemos 4 componentes será:\n",
    "# La varianza explicada: 0\n",
    "# Ratio: 0\n",
    "# explicada acumulada: 1"
   ]
  },
  {
   "cell_type": "markdown",
   "metadata": {},
   "source": [
    "## <font color=\"#004D7F\"> Interpretación </font>"
   ]
  },
  {
   "cell_type": "markdown",
   "metadata": {},
   "source": [
    "Podemos interpretar la varianza de los datos como la suma de las varianzas de las variables. "
   ]
  },
  {
   "cell_type": "code",
   "execution_count": 20,
   "metadata": {},
   "outputs": [
    {
     "name": "stdout",
     "output_type": "stream",
     "text": [
      "[[10  1  2  7]\n",
      " [ 7  2  1 10]\n",
      " [ 2  9  7  3]\n",
      " [ 3  6 10  2]\n",
      " [ 1  8  8  3]]\n",
      "\n",
      "Varianzas: [14.3 12.7 15.3 11.5]\n",
      "Suma: 53.8\n"
     ]
    }
   ],
   "source": [
    "print(X)\n",
    "varX = np.var(X, axis=0, ddof=1) # degrees of freedom\n",
    "print('\\nVarianzas:', varX)\n",
    "print('Suma:', np.sum(varX))"
   ]
  },
  {
   "cell_type": "markdown",
   "metadata": {},
   "source": [
    "Obtenemos las cuatro componentes y la representación correspondiente los datos."
   ]
  },
  {
   "cell_type": "code",
   "execution_count": 21,
   "metadata": {},
   "outputs": [
    {
     "data": {
      "text/plain": [
       "array([[ 7.7,  2. ,  0.9,  0.1],\n",
       "       [ 7.6, -2.1, -0.9, -0.1],\n",
       "       [-4.9, -1.4,  1.2, -0.2],\n",
       "       [-5. ,  2.5, -0.9, -0.1],\n",
       "       [-5.4, -1. , -0.3,  0.3]])"
      ]
     },
     "execution_count": 21,
     "metadata": {},
     "output_type": "execute_result"
    }
   ],
   "source": [
    "pca_all = PCA(n_components=4)\n",
    "pca_all.fit(X);\n",
    "X_pc_all = np.dot(X - pca_all.mean_, pca_all.components_.T)\n",
    "X_pc_all.round(1)"
   ]
  },
  {
   "cell_type": "markdown",
   "metadata": {},
   "source": [
    "Se calculan las varianzas de esta representación."
   ]
  },
  {
   "cell_type": "code",
   "execution_count": 22,
   "metadata": {},
   "outputs": [
    {
     "name": "stdout",
     "output_type": "stream",
     "text": [
      "Varianzas: [4.83470950e+01 4.38266532e+00 1.03158127e+00 3.86584620e-02]\n"
     ]
    }
   ],
   "source": [
    "varX_pc_all = np.var(X_pc_all, axis=0, ddof=1) # El divisor en la varianza es n-ddof\n",
    "print('Varianzas:', varX_pc_all)"
   ]
  },
  {
   "cell_type": "markdown",
   "metadata": {},
   "source": [
    "Estas varianzas corresponden a los autovalores, y su suma es la misma que la varianza de los datos originales."
   ]
  },
  {
   "cell_type": "code",
   "execution_count": 23,
   "metadata": {},
   "outputs": [
    {
     "name": "stdout",
     "output_type": "stream",
     "text": [
      "[4.83470950e+01 4.38266532e+00 1.03158127e+00 3.86584620e-02]\n",
      "Suma: 53.80000000000005\n"
     ]
    }
   ],
   "source": [
    "print(pca_all.explained_variance_)\n",
    "print('Suma:', np.sum(varX_pc_all))"
   ]
  },
  {
   "cell_type": "markdown",
   "metadata": {},
   "source": [
    "## <font color=\"#004D7F\"> Relación entre valores singulares y varianza </font>\n",
    "\n",
    "\n",
    "Es necesario utilizar los cuatro valores singulares, es decir, los almacenados `pca_all`, obtenida con `k=4` ("
   ]
  },
  {
   "cell_type": "code",
   "execution_count": 24,
   "metadata": {},
   "outputs": [
    {
     "name": "stdout",
     "output_type": "stream",
     "text": [
      "Varianza explicada ratio: [0.89864489 0.08146218]\n"
     ]
    }
   ],
   "source": [
    "print('Varianza explicada ratio:', pca.explained_variance_ratio_)"
   ]
  },
  {
   "cell_type": "code",
   "execution_count": 25,
   "metadata": {},
   "outputs": [
    {
     "data": {
      "text/plain": [
       "array([0.89864489, 0.08146218])"
      ]
     },
     "execution_count": 25,
     "metadata": {},
     "output_type": "execute_result"
    }
   ],
   "source": [
    "pca_all.singular_values_[:k]**2/np.sum(pca_all.singular_values_**2)"
   ]
  },
  {
   "cell_type": "markdown",
   "metadata": {},
   "source": [
    "## <font color=\"#004D7F\"> Elección de K </font>\n",
    "\n"
   ]
  },
  {
   "cell_type": "code",
   "execution_count": 26,
   "metadata": {},
   "outputs": [
    {
     "data": {
      "text/html": [
       "<div>\n",
       "<style scoped>\n",
       "    .dataframe tbody tr th:only-of-type {\n",
       "        vertical-align: middle;\n",
       "    }\n",
       "\n",
       "    .dataframe tbody tr th {\n",
       "        vertical-align: top;\n",
       "    }\n",
       "\n",
       "    .dataframe thead th {\n",
       "        text-align: right;\n",
       "    }\n",
       "</style>\n",
       "<table border=\"1\" class=\"dataframe\">\n",
       "  <thead>\n",
       "    <tr style=\"text-align: right;\">\n",
       "      <th></th>\n",
       "      <th>timedelta</th>\n",
       "      <th>n_tokens_title</th>\n",
       "      <th>n_tokens_content</th>\n",
       "      <th>n_unique_tokens</th>\n",
       "      <th>n_non_stop_words</th>\n",
       "      <th>n_non_stop_unique_tokens</th>\n",
       "      <th>num_hrefs</th>\n",
       "      <th>num_self_hrefs</th>\n",
       "      <th>num_imgs</th>\n",
       "      <th>num_videos</th>\n",
       "      <th>...</th>\n",
       "      <th>min_positive_polarity</th>\n",
       "      <th>max_positive_polarity</th>\n",
       "      <th>avg_negative_polarity</th>\n",
       "      <th>min_negative_polarity</th>\n",
       "      <th>max_negative_polarity</th>\n",
       "      <th>title_subjectivity</th>\n",
       "      <th>title_sentiment_polarity</th>\n",
       "      <th>abs_title_subjectivity</th>\n",
       "      <th>abs_title_sentiment_polarity</th>\n",
       "      <th>shares</th>\n",
       "    </tr>\n",
       "  </thead>\n",
       "  <tbody>\n",
       "    <tr>\n",
       "      <td>1</td>\n",
       "      <td>731.0</td>\n",
       "      <td>12.0</td>\n",
       "      <td>219.0</td>\n",
       "      <td>0.663594</td>\n",
       "      <td>1.0</td>\n",
       "      <td>0.815385</td>\n",
       "      <td>4.0</td>\n",
       "      <td>2.0</td>\n",
       "      <td>1.0</td>\n",
       "      <td>0.0</td>\n",
       "      <td>...</td>\n",
       "      <td>0.100000</td>\n",
       "      <td>0.7</td>\n",
       "      <td>-0.350000</td>\n",
       "      <td>-0.600</td>\n",
       "      <td>-0.200000</td>\n",
       "      <td>0.500000</td>\n",
       "      <td>-0.187500</td>\n",
       "      <td>0.000000</td>\n",
       "      <td>0.187500</td>\n",
       "      <td>593.0</td>\n",
       "    </tr>\n",
       "    <tr>\n",
       "      <td>2</td>\n",
       "      <td>731.0</td>\n",
       "      <td>9.0</td>\n",
       "      <td>255.0</td>\n",
       "      <td>0.604743</td>\n",
       "      <td>1.0</td>\n",
       "      <td>0.791946</td>\n",
       "      <td>3.0</td>\n",
       "      <td>1.0</td>\n",
       "      <td>1.0</td>\n",
       "      <td>0.0</td>\n",
       "      <td>...</td>\n",
       "      <td>0.033333</td>\n",
       "      <td>0.7</td>\n",
       "      <td>-0.118750</td>\n",
       "      <td>-0.125</td>\n",
       "      <td>-0.100000</td>\n",
       "      <td>0.000000</td>\n",
       "      <td>0.000000</td>\n",
       "      <td>0.500000</td>\n",
       "      <td>0.000000</td>\n",
       "      <td>711.0</td>\n",
       "    </tr>\n",
       "    <tr>\n",
       "      <td>3</td>\n",
       "      <td>731.0</td>\n",
       "      <td>9.0</td>\n",
       "      <td>211.0</td>\n",
       "      <td>0.575130</td>\n",
       "      <td>1.0</td>\n",
       "      <td>0.663866</td>\n",
       "      <td>3.0</td>\n",
       "      <td>1.0</td>\n",
       "      <td>1.0</td>\n",
       "      <td>0.0</td>\n",
       "      <td>...</td>\n",
       "      <td>0.100000</td>\n",
       "      <td>1.0</td>\n",
       "      <td>-0.466667</td>\n",
       "      <td>-0.800</td>\n",
       "      <td>-0.133333</td>\n",
       "      <td>0.000000</td>\n",
       "      <td>0.000000</td>\n",
       "      <td>0.500000</td>\n",
       "      <td>0.000000</td>\n",
       "      <td>1500.0</td>\n",
       "    </tr>\n",
       "    <tr>\n",
       "      <td>4</td>\n",
       "      <td>731.0</td>\n",
       "      <td>9.0</td>\n",
       "      <td>531.0</td>\n",
       "      <td>0.503788</td>\n",
       "      <td>1.0</td>\n",
       "      <td>0.665635</td>\n",
       "      <td>9.0</td>\n",
       "      <td>0.0</td>\n",
       "      <td>1.0</td>\n",
       "      <td>0.0</td>\n",
       "      <td>...</td>\n",
       "      <td>0.136364</td>\n",
       "      <td>0.8</td>\n",
       "      <td>-0.369697</td>\n",
       "      <td>-0.600</td>\n",
       "      <td>-0.166667</td>\n",
       "      <td>0.000000</td>\n",
       "      <td>0.000000</td>\n",
       "      <td>0.500000</td>\n",
       "      <td>0.000000</td>\n",
       "      <td>1200.0</td>\n",
       "    </tr>\n",
       "    <tr>\n",
       "      <td>5</td>\n",
       "      <td>731.0</td>\n",
       "      <td>13.0</td>\n",
       "      <td>1072.0</td>\n",
       "      <td>0.415646</td>\n",
       "      <td>1.0</td>\n",
       "      <td>0.540890</td>\n",
       "      <td>19.0</td>\n",
       "      <td>19.0</td>\n",
       "      <td>20.0</td>\n",
       "      <td>0.0</td>\n",
       "      <td>...</td>\n",
       "      <td>0.033333</td>\n",
       "      <td>1.0</td>\n",
       "      <td>-0.220192</td>\n",
       "      <td>-0.500</td>\n",
       "      <td>-0.050000</td>\n",
       "      <td>0.454545</td>\n",
       "      <td>0.136364</td>\n",
       "      <td>0.045455</td>\n",
       "      <td>0.136364</td>\n",
       "      <td>505.0</td>\n",
       "    </tr>\n",
       "  </tbody>\n",
       "</table>\n",
       "<p>5 rows × 60 columns</p>\n",
       "</div>"
      ],
      "text/plain": [
       "   timedelta  n_tokens_title  n_tokens_content  n_unique_tokens  \\\n",
       "1      731.0            12.0             219.0         0.663594   \n",
       "2      731.0             9.0             255.0         0.604743   \n",
       "3      731.0             9.0             211.0         0.575130   \n",
       "4      731.0             9.0             531.0         0.503788   \n",
       "5      731.0            13.0            1072.0         0.415646   \n",
       "\n",
       "   n_non_stop_words  n_non_stop_unique_tokens  num_hrefs  num_self_hrefs  \\\n",
       "1               1.0                  0.815385        4.0             2.0   \n",
       "2               1.0                  0.791946        3.0             1.0   \n",
       "3               1.0                  0.663866        3.0             1.0   \n",
       "4               1.0                  0.665635        9.0             0.0   \n",
       "5               1.0                  0.540890       19.0            19.0   \n",
       "\n",
       "   num_imgs  num_videos  ...  min_positive_polarity  max_positive_polarity  \\\n",
       "1       1.0         0.0  ...               0.100000                    0.7   \n",
       "2       1.0         0.0  ...               0.033333                    0.7   \n",
       "3       1.0         0.0  ...               0.100000                    1.0   \n",
       "4       1.0         0.0  ...               0.136364                    0.8   \n",
       "5      20.0         0.0  ...               0.033333                    1.0   \n",
       "\n",
       "   avg_negative_polarity  min_negative_polarity  max_negative_polarity  \\\n",
       "1              -0.350000                 -0.600              -0.200000   \n",
       "2              -0.118750                 -0.125              -0.100000   \n",
       "3              -0.466667                 -0.800              -0.133333   \n",
       "4              -0.369697                 -0.600              -0.166667   \n",
       "5              -0.220192                 -0.500              -0.050000   \n",
       "\n",
       "   title_subjectivity  title_sentiment_polarity  abs_title_subjectivity  \\\n",
       "1            0.500000                 -0.187500                0.000000   \n",
       "2            0.000000                  0.000000                0.500000   \n",
       "3            0.000000                  0.000000                0.500000   \n",
       "4            0.000000                  0.000000                0.500000   \n",
       "5            0.454545                  0.136364                0.045455   \n",
       "\n",
       "   abs_title_sentiment_polarity  shares  \n",
       "1                      0.187500   593.0  \n",
       "2                      0.000000   711.0  \n",
       "3                      0.000000  1500.0  \n",
       "4                      0.000000  1200.0  \n",
       "5                      0.136364   505.0  \n",
       "\n",
       "[5 rows x 60 columns]"
      ]
     },
     "execution_count": 26,
     "metadata": {},
     "output_type": "execute_result"
    }
   ],
   "source": [
    "df_news = pd.read_csv('data/newsData.csv', index_col=0)\n",
    "df_urls = (df_news['url']).to_frame()\n",
    "df_news = df_news.drop(labels='url', axis=1).astype(float)\n",
    "df_news.head()"
   ]
  },
  {
   "cell_type": "code",
   "execution_count": 27,
   "metadata": {},
   "outputs": [],
   "source": [
    "X_news = df_news.values\n",
    "\n",
    "from sklearn.decomposition import PCA\n",
    "pca_news = PCA(n_components=60)\n",
    "pca_news.fit(X_news);"
   ]
  },
  {
   "cell_type": "markdown",
   "metadata": {},
   "source": [
    "### <font color=\"#004D7F\"> Método 1: Codo</font>\n",
    "\n",
    "\n",
    "Identificar el punto a partir del cual la varianza se comienza a explicar más lentamente. "
   ]
  },
  {
   "cell_type": "code",
   "execution_count": 28,
   "metadata": {
    "collapsed": true
   },
   "outputs": [
    {
     "data": {
      "image/png": "[encoded data removed]",
      "text/plain": [
       "<Figure size 720x576 with 1 Axes>"
      ]
     },
     "metadata": {
      "image/png": {
       "height": 503,
       "width": 612
      },
      "needs_background": "light"
     },
     "output_type": "display_data"
    }
   ],
   "source": [
    "plt.figure(figsize=(10,8))\n",
    "plt.plot(np.arange(0,60), pca_news.explained_variance_)\n",
    "plt.axhline(1,color='r',linestyle='--');\n",
    "plt.ylabel(\"Varianza explicada\", fontsize=15, labelpad=10)\n",
    "plt.xlabel(\"Número de componentes (k)\", fontsize=15, labelpad=10);\n"
   ]
  },
  {
   "cell_type": "markdown",
   "metadata": {},
   "source": [
    "### <font color=\"#004D7F\"> Método 2: Porcentaje de varianza explicada </font>\n",
    "\n",
    "\n",
    "Se fija un porcentaje de varianza y se toman las k primeras componentes que sumen un porcentaje igual o mayor. "
   ]
  },
  {
   "cell_type": "code",
   "execution_count": 29,
   "metadata": {},
   "outputs": [
    {
     "data": {
      "text/plain": [
       "array([0.76136126, 0.92488101, 0.96014287, 0.99213515, 0.99705483])"
      ]
     },
     "execution_count": 29,
     "metadata": {},
     "output_type": "execute_result"
    }
   ],
   "source": [
    "total_variance = np.cumsum(pca_news.explained_variance_ratio_)\n",
    "total_variance[:5] # Cinco primeros..."
   ]
  },
  {
   "cell_type": "markdown",
   "metadata": {},
   "source": [
    "Fijamos el 99% como varianza que se ha de _retener_ con la representación"
   ]
  },
  {
   "cell_type": "code",
   "execution_count": 30,
   "metadata": {},
   "outputs": [
    {
     "data": {
      "text/plain": [
       "3"
      ]
     },
     "execution_count": 30,
     "metadata": {},
     "output_type": "execute_result"
    }
   ],
   "source": [
    "np.min(np.where(total_variance>0.99))"
   ]
  },
  {
   "cell_type": "code",
   "execution_count": 26,
   "metadata": {},
   "outputs": [
    {
     "data": {
      "image/png": "[encoded data removed]",
      "text/plain": [
       "<Figure size 720x576 with 1 Axes>"
      ]
     },
     "metadata": {
      "image/png": {
       "height": 495,
       "width": 630
      },
      "needs_background": "light"
     },
     "output_type": "display_data"
    }
   ],
   "source": [
    "plt.figure(figsize=(10,8))\n",
    "plt.plot(np.arange(0,60), total_variance)\n",
    "plt.axhline(0.99,color='r',linestyle='--');\n",
    "plt.axvline(3,color='g',linestyle='--');\n",
    "plt.ylabel(\"Ratio de varianza explicada\", fontsize=15, labelpad=10)\n",
    "plt.xlabel(\"Número de componentes (k)\", fontsize=15, labelpad=10);"
   ]
  },
  {
   "cell_type": "markdown",
   "metadata": {},
   "source": [
    "El objeto PCA de `sklearn` puede tomar como parámetro también el ratio de varianza que ha de preservar el modelo."
   ]
  },
  {
   "cell_type": "code",
   "execution_count": 31,
   "metadata": {},
   "outputs": [
    {
     "data": {
      "text/plain": [
       "array([0.76136126, 0.92488101, 0.96014287, 0.99213515])"
      ]
     },
     "execution_count": 31,
     "metadata": {},
     "output_type": "execute_result"
    }
   ],
   "source": [
    "pca_news = PCA(0.99)\n",
    "pca_news.fit(X_news)\n",
    "np.cumsum(pca_news.explained_variance_ratio_)"
   ]
  },
  {
   "cell_type": "markdown",
   "metadata": {},
   "source": [
    "### <font color=\"#004D7F\"> Método 3: Kaiser-Guttman </font>\n",
    "\n",
    "El autovalor es mayor que uno (para valores estandarizados a varianza 1). Se descartan componentes cuya varianza  es menor que la de la variable. "
   ]
  },
  {
   "cell_type": "code",
   "execution_count": 32,
   "metadata": {},
   "outputs": [
    {
     "data": {
      "text/plain": [
       "21"
      ]
     },
     "execution_count": 32,
     "metadata": {},
     "output_type": "execute_result"
    }
   ],
   "source": [
    "from sklearn.preprocessing import StandardScaler\n",
    "\n",
    "X_news_sc = StandardScaler().fit_transform(X_news)\n",
    "pca_news_sc = PCA(n_components=60).fit(X_news)\n",
    "\n",
    "np.max(np.where(pca_news_sc.explained_variance_>1))"
   ]
  },
  {
   "cell_type": "markdown",
   "metadata": {},
   "source": [
    "# <font color=\"#004D7F\"> Obtención de PCA con SVD </font>"
   ]
  },
  {
   "cell_type": "markdown",
   "metadata": {},
   "source": [
    "Para utilizar estos métodos, es __necesario__ normalizar para que las medias de las variables sean 0. También se __recomienda__ escalar las características a desviación 1. "
   ]
  },
  {
   "cell_type": "markdown",
   "metadata": {},
   "source": [
    "### <font color=\"#004D7F\"> Obtención de las componentes a partir de los datos </font>"
   ]
  },
  {
   "cell_type": "code",
   "execution_count": 38,
   "metadata": {},
   "outputs": [
    {
     "name": "stdout",
     "output_type": "stream",
     "text": [
      "Componentes:\n",
      " [[-0.52  0.49  0.54 -0.46]\n",
      " [ 0.53 -0.46  0.5  -0.5 ]]\n",
      "Valores singulares: [13.90641506  4.18696325]\n",
      "Varianza explicada ratio: [0.89864489 0.08146218]\n",
      "Varianza explicada acumulada: [0.89864489 0.98010707]\n",
      "\n",
      "X \n",
      "[[10  1  2  7]\n",
      " [ 7  2  1 10]\n",
      " [ 2  9  7  3]\n",
      " [ 3  6 10  2]\n",
      " [ 1  8  8  3]]\n",
      "\n",
      "X_pca\n",
      "[[-7.67  2.01]\n",
      " [-7.55 -2.06]\n",
      " [ 4.85 -1.44]\n",
      " [ 4.95  2.49]\n",
      " [ 5.42 -1.  ]]\n",
      "\n",
      "X_app\n",
      "[[9.62 0.54 2.48 7.5 ]\n",
      " [7.4  2.49 0.51 9.49]\n",
      " [1.34 8.23 7.49 3.5 ]\n",
      " [3.37 6.45 9.5  1.48]\n",
      " [1.28 8.3  8.01 3.03]]\n"
     ]
    }
   ],
   "source": [
    "X_0 = X - X.mean(0)\n",
    "\n",
    "U, s, Vt = np.linalg.svd(X_0, full_matrices=False)\n",
    "\n",
    "C = Vt[:k]\n",
    "X_pc = U[:, :k]*s[:k] # La descomposición svd devuelve la proyección.\n",
    "\n",
    "# En la reconstrucción de los datos orignales, se tiene que volver a sumar la media\n",
    "X_app = np.dot(X_pc,C)+X.mean(0) \n",
    "\n",
    "print('Componentes:\\n', C.round(2))\n",
    "print('Valores singulares:', s[:k])\n",
    "print('Varianza explicada ratio:', s[:k]**2/np.sum(s**2))\n",
    "print('Varianza explicada acumulada:', np.cumsum(s[:k]**2/np.sum(s**2)))\n",
    "print('\\nX ')\n",
    "print(X)\n",
    "print('\\nX_pca')\n",
    "print(X_pc.round(2))\n",
    "print('\\nX_app')\n",
    "print(X_app.round(2))"
   ]
  },
  {
   "cell_type": "markdown",
   "metadata": {},
   "source": [
    "### <font color=\"#004D7F\"> Obtención a partir de la matriz de covarianzas</font>\n",
    "\n",
    "\n",
    "Este método calcula la descomposición en valores singulares de la matriz de covarianzas."
   ]
  },
  {
   "cell_type": "code",
   "execution_count": 39,
   "metadata": {},
   "outputs": [],
   "source": [
    "X0 = X - X.mean(0)\n",
    "\n",
    "sigma = (X0.T @ X0) / X0.shape[0]\n",
    "\n",
    "U,s,Vt = np.linalg.svd(sigma, full_matrices=False)\n",
    "C = U[:,:k]\n",
    "\n",
    "X_pc = X0 @ C\n",
    "X_app = X_pc @ C.T + X.mean(0)"
   ]
  },
  {
   "cell_type": "code",
   "execution_count": 40,
   "metadata": {},
   "outputs": [
    {
     "name": "stdout",
     "output_type": "stream",
     "text": [
      "Componentes:\n",
      " [[-0.51513273  0.48597481  0.53756393 -0.45770272]\n",
      " [ 0.53008597 -0.46473441  0.49877565 -0.5042357 ]]\n",
      "Norma de las componentes:  [1. 1. 1. 1.]\n",
      "Valores singulares: [38.67767596  3.50613226]\n",
      "Variancia explicada ratio: [0.89864489 0.08146218]\n",
      "\n",
      "X \n",
      "[[10  1  2  7]\n",
      " [ 7  2  1 10]\n",
      " [ 2  9  7  3]\n",
      " [ 3  6 10  2]\n",
      " [ 1  8  8  3]]\n",
      "\n",
      "X_pca\n",
      "[[-7.67  2.01]\n",
      " [-7.55 -2.06]\n",
      " [ 4.85 -1.44]\n",
      " [ 4.95  2.49]\n",
      " [ 5.42 -1.  ]]\n",
      "\n",
      "X_app\n",
      "[[9.62 0.54 2.48 7.5 ]\n",
      " [7.4  2.49 0.51 9.49]\n",
      " [1.34 8.23 7.49 3.5 ]\n",
      " [3.37 6.45 9.5  1.48]\n",
      " [1.28 8.3  8.01 3.03]]\n"
     ]
    }
   ],
   "source": [
    "print('Componentes:\\n',C.T)\n",
    "print('Norma de las componentes: ', np.linalg.norm(U, axis=0))\n",
    "print('Valores singulares:',  s[:k])\n",
    "print('Variancia explicada ratio:', s[:k]/np.sum(s))\n",
    "print('\\nX ')\n",
    "print(X)\n",
    "print('\\nX_pca')\n",
    "print(X_pc.round(2))\n",
    "print('\\nX_app')\n",
    "print(X_app.round(2))"
   ]
  },
  {
   "cell_type": "markdown",
   "metadata": {},
   "source": [
    "<div style=\"text-align: right\">\n",
    "<a href=\"#inicio\"><font size=5><i class=\"fa fa-arrow-circle-up\" aria-hidden=\"true\" style=\"color:#004D7F\"></i></font></a>\n",
    "</div>\n",
    "\n",
    "---\n",
    "\n",
    "<div style=\"text-align: right\"> <font size=6><i class=\"fa fa-coffee\" aria-hidden=\"true\" style=\"color:#004D7F\"></i> </font></div>"
   ]
  }
 ],
 "metadata": {
  "kernelspec": {
   "display_name": "Python 3",
   "language": "python",
   "name": "python3"
  },
  "language_info": {
   "codemirror_mode": {
    "name": "ipython",
    "version": 3
   },
   "file_extension": ".py",
   "mimetype": "text/x-python",
   "name": "python",
   "nbconvert_exporter": "python",
   "pygments_lexer": "ipython3",
   "version": "3.6.9"
  }
 },
 "nbformat": 4,
 "nbformat_minor": 2
}
