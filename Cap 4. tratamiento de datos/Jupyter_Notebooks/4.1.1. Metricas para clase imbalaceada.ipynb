{
 "cells": [
  {
   "cell_type": "markdown",
   "metadata": {},
   "source": [
    "<h2><font color=\"#004D7F\" size=6>Módulo 4. Fase de tratamiento de datos</font></h2>\n",
    "\n",
    "\n",
    "\n",
    "<h1><font color=\"#004D7F\" size=5>1.1. Calcular métricas en clasificación</font></h1>\n",
    "\n",
    "<br><br>\n",
    "<div style=\"text-align: right\">\n",
    "<font color=\"#004D7F\" size=3>Manuel Castillo-Cara</font><br>\n",
    "<font color=\"#004D7F\" size=3>Machine Learning con Python</font><br>"
   ]
  },
  {
   "cell_type": "markdown",
   "metadata": {},
   "source": [
    "---\n",
    "\n",
    "<h2><font color=\"#004D7F\" size=5>Índice</font></h2>\n",
    "<a id=\"indice\"></a>\n",
    "\n",
    "* [1. Introducción](#section1)\n",
    "    * [1.1. Librerías y CSV](#section11)\n",
    "* [2. 2. Matriz de confusión para clasificación desbalanceada](#section2)\n",
    "* [3. Precision](#section3)\n",
    "    * [3.1. Ejemplo](#section31)\n",
    "* [4. Recall](#section4)\n",
    "    * [4.1. Ejemplo](#section41)\n",
    "* [5. F-1](#section5)\n",
    "    * [5.1. Ejemplo](#section51)\n",
    "* [6. Reporte de clasificación](#section6)"
   ]
  },
  {
   "cell_type": "code",
   "execution_count": 1,
   "metadata": {},
   "outputs": [
    {
     "data": {
      "text/html": [
       "<style>.container{ width:98% }</style>"
      ],
      "text/plain": [
       "<IPython.core.display.HTML object>"
      ]
     },
     "metadata": {},
     "output_type": "display_data"
    }
   ],
   "source": [
    "# Permite ajustar la anchura de la parte útil de la libreta (reduce los márgenes)\n",
    "from IPython.core.display import display, HTML\n",
    "display(HTML(\"<style>.container{ width:98% }</style>\"))"
   ]
  },
  {
   "cell_type": "markdown",
   "metadata": {},
   "source": [
    "---\n",
    "\n",
    "<a id=\"section1\"></a>\n",
    "# <font color=\"#004D7F\"> 1. Introducción</font>"
   ]
  },
  {
   "cell_type": "markdown",
   "metadata": {},
   "source": [
    "Como medida de rendimiento, el Accuracy es inapropiado para problemas de clasificación desequilibrados (clase desbalanceada). Una alternativa al uso de Precision y Recall para problemas de clasificación. Por tanto, en este tutorial veremos:\n",
    "* **Precision** que cuantifica el número de predicciones de clase positivas que realmente pertenecen a la clase positiva.\n",
    "* **Recall** que cuantifica el número de predicciones de clase positivas hechas de todos los ejemplos positivos en el conjunto de datos.\n",
    "* **F-Measure** que proporciona una puntuación única que equilibra Precision y Recall en un solo número.\n"
   ]
  },
  {
   "cell_type": "markdown",
   "metadata": {},
   "source": [
    "<a id=\"section11\"></a>\n",
    "## <font color=\"#004D7F\"> 1.1. Librerías y CSV</font>"
   ]
  },
  {
   "cell_type": "markdown",
   "metadata": {},
   "source": [
    "En esta lección, se muestran varias métricas de evaluación de algoritmos diferentes para problemas de Machine Learning de clasificación y regresión. En cada código, el conjunto de datos se descarga directamente del repositorio de UCI Machine Learning.\n",
    "* **Clasificación**: se usará el conjunto de datos de Pima Indians Diabetes. Este es un problema de clasificación binaria donde todas las características de entrada son numéricas."
   ]
  },
  {
   "cell_type": "code",
   "execution_count": 2,
   "metadata": {},
   "outputs": [],
   "source": [
    "# Clasification problem\n",
    "import numpy as np\n",
    "import pandas as pd\n",
    "import warnings\n",
    "warnings.filterwarnings('ignore')\n",
    "filename_clas = 'data/pima-indians-diabetes.data.csv'\n",
    "names_clas = ['preg', 'plas', 'pres', 'skin', 'test', 'mass', 'pedi', 'age', 'class'] \n",
    "df_clas = pd.read_csv(filename_clas, names=names_clas)\n",
    "array_clas = df_clas.values\n",
    "X_clas = array_clas[:,0:8]\n",
    "Y_clas = array_clas[:,8]"
   ]
  },
  {
   "cell_type": "markdown",
   "metadata": {},
   "source": [
    "<div style=\"text-align: right\"> <font size=5>\n",
    "    <a href=\"#indice\"><i class=\"fa fa-arrow-circle-up\" aria-hidden=\"true\" style=\"color:#004D7F\"></i></a>\n",
    "</font></div>\n",
    "\n",
    "---"
   ]
  },
  {
   "cell_type": "markdown",
   "metadata": {
    "ExecuteTime": {
     "end_time": "2018-11-27T18:35:24.164369Z",
     "start_time": "2018-11-27T18:35:24.138865Z"
    }
   },
   "source": [
    "<a id=\"section2\"></a>\n",
    "# <font color=\"#004D7F\"> 2. Matriz de confusión para clasificación desbalanceada</font>"
   ]
  },
  {
   "cell_type": "markdown",
   "metadata": {
    "ExecuteTime": {
     "end_time": "2018-11-27T18:35:25.270671Z",
     "start_time": "2018-11-27T18:35:25.252615Z"
    },
    "scrolled": true
   },
   "source": [
    "Para los problemas de clasificación desequilibrada, la clase mayoritaria se denomina típicamente resultado negativo (p. Ej., Como \"sin cambio\" o \"resultado negativo de la prueba\"), y la clase minoritaria se denomina típicamente resultado positivo (p. Ej., \"Cambio\" o \"Resultado positivo de la prueba\").\n",
    "\n",
    "La matriz de confusión proporciona más información no solo sobre el rendimiento de un modelo predictivo, sino también sobre qué clases se predicen correctamente, cuáles incorrectamente y qué tipo de errores se están cometiendo.\n",
    "\n",
    "La matriz de confusión más simple es para un problema de clasificación de dos clases, con clases negativas (clase 0) y positivas (clase 1). En este tipo de matriz de confusión, cada celda de la tabla tiene un nombre específico y bien entendido, resumido de la siguiente manera:\n",
    "\n",
    "<img src=\"https://encrypted-tbn0.gstatic.com/images?q=tbn%3AANd9GcSvjU6mLyJMnt67UECZZTdtC6JEPR_iJpDRd46fqvg1wvgDRY9Y\" alt=\"cross-validation\" width=\"500\">"
   ]
  },
  {
   "cell_type": "markdown",
   "metadata": {},
   "source": [
    "<div style=\"text-align: right\"> <font size=5>\n",
    "    <a href=\"#indice\"><i class=\"fa fa-arrow-circle-up\" aria-hidden=\"true\" style=\"color:#004D7F\"></i></a>\n",
    "</font></div>\n",
    "\n",
    "---"
   ]
  },
  {
   "cell_type": "markdown",
   "metadata": {},
   "source": [
    "<a id=\"section3\"></a>\n",
    "# <font color=\"#004D7F\"> 3. Precision</font>"
   ]
  },
  {
   "cell_type": "markdown",
   "metadata": {
    "ExecuteTime": {
     "end_time": "2018-11-27T18:35:25.270671Z",
     "start_time": "2018-11-27T18:35:25.252615Z"
    },
    "scrolled": true
   },
   "source": [
    "Las métricas de Precision y Recall se definen en términos de las celdas en la matriz de confusión, específicamente términos como verdaderos positivos y falsos negativos:\n",
    "\n",
    "La Precisión es una métrica que cuantifica el número de predicciones positivas correctas realizadas, por lo tanto, calcula la precisión para la clase minoritaria. \n",
    "\n",
    "Se calcula como la relación de ejemplos positivos predichos correctamente dividida por el número total de ejemplos positivos que se predijeron. \n",
    "\n",
    "$$Precision = \\frac{TruePositives}{(TruePositives + FalsePositives)}$$\n",
    "\n",
    "El resultado es un valor entre 0.0 para no precisión y 1.0 para precisión total o perfecta."
   ]
  },
  {
   "cell_type": "markdown",
   "metadata": {},
   "source": [
    "<a id=\"section31\"></a>\n",
    "## <font color=\"#004D7F\"> 3.1. Ejemplos</font>"
   ]
  },
  {
   "cell_type": "markdown",
   "metadata": {
    "ExecuteTime": {
     "end_time": "2018-11-27T18:35:25.270671Z",
     "start_time": "2018-11-27T18:35:25.252615Z"
    },
    "scrolled": true
   },
   "source": [
    "### Ejemplo 1: Clasificación Binaria\n",
    "\n",
    "Un modelo hace predicciones y predice 120 ejemplos como pertenecientes a la clase minoritaria, 90 de los cuales son correctos y 30 de los cuales son incorrectos. La precisión para este modelo se calcula como:\n",
    "\n",
    "$$Precision = \\frac{TruePositives}{(TruePositives + FalsePositives)} = \\frac{90}{(90 + 30)} = \\frac{90}{120} = 0,75$$\n",
    "\n",
    "El resultado es una precisión de 0,75, que es un valor razonable pero no sobresaliente.\n",
    "\n",
    "### Ejemplo 2: Clasificación Binaria\n",
    "\n",
    "Considere el mismo conjunto de datos, donde un modelo predice 50 ejemplos que pertenecen a la clase minoritaria, 45 de los cuales son verdaderos positivos y cinco de los cuales son falsos positivos. Podemos calcular la precisión para este modelo de la siguiente manera:\n",
    "\n",
    "$$Precision = \\frac{TruePositives}{(TruePositives + FalsePositives)} = \\frac{45}{(45 + 5)} = \\frac{45}{50} = 0,90$$\n",
    "\n",
    "En este caso, aunque el modelo predijo muchos menos ejemplos como pertenecientes a la clase minoritaria, la proporción de ejemplos positivos correctos es mucho mejor.\n",
    "\n",
    "### Ejemplo 3: Clasificación Multiclase\n",
    "Un modelo hace predicciones y predice 70 ejemplos para la primera clase minoritaria, donde 50 son correctos y 20 incorrectos. Predice 150 para la segunda clase con 99 correctos y 51 incorrectos. La precisión se puede calcular para este modelo de la siguiente manera:\n",
    "\n",
    "$$Precision = \\frac{TP1 + TP}{((TP + TP) + (FP1 + FP)} = \\frac{50+99}{((50+99) + (20+51))} = \\frac{149}{220} = 0,677$$\n",
    "\n",
    "Podemos ver que el cálculo métrico de Precision se escala a medida que aumentamos el número de clases minoritarias."
   ]
  },
  {
   "cell_type": "markdown",
   "metadata": {},
   "source": [
    "<div class=\"alert alert-block alert-info\">\n",
    "    \n",
    "<i class=\"fa fa-info-circle\" aria-hidden=\"true\"></i>\n",
    "La Precision puede ser calculada usando la función Sklearn [`precision_score`](https://scikit-learn.org/stable/modules/generated/sklearn.metrics.precision_score.html).\n",
    "</div>"
   ]
  },
  {
   "cell_type": "markdown",
   "metadata": {},
   "source": [
    "<div style=\"text-align: right\"> <font size=5>\n",
    "    <a href=\"#indice\"><i class=\"fa fa-arrow-circle-up\" aria-hidden=\"true\" style=\"color:#004D7F\"></i></a>\n",
    "</font></div>\n",
    "\n",
    "---"
   ]
  },
  {
   "cell_type": "markdown",
   "metadata": {},
   "source": [
    "<a id=\"section4\"></a>\n",
    "# <font color=\"#004D7F\"> 4. Recall</font>"
   ]
  },
  {
   "cell_type": "markdown",
   "metadata": {
    "ExecuteTime": {
     "end_time": "2018-11-27T18:35:25.270671Z",
     "start_time": "2018-11-27T18:35:25.252615Z"
    },
    "scrolled": true
   },
   "source": [
    "Recall cuantifica el número de predicciones positivas correctas hechas de todas las predicciones positivas que podrían haberse realizado. A diferencia de Precision, que solo comenta las predicciones positivas correctas de todas las predicciones positivas, Recall  proporciona una indicación de predicciones positivas perdidas.\n",
    "\n",
    "En un problema de clasificación desequilibrada con dos clases, Recall se calcula como el número de verdaderos positivos dividido por el número total de verdaderos positivos y falsos negativos.\n",
    "\n",
    "$$Recall = \\frac{TruePositives}{(TruePositives + FalseNegatives)}$$\n",
    "\n",
    "El resultado es un valor entre 0.0 para no precisión y 1.0 para precisión total o perfecta."
   ]
  },
  {
   "cell_type": "markdown",
   "metadata": {},
   "source": [
    "<a id=\"section41\"></a>\n",
    "## <font color=\"#004D7F\"> 4.1. Ejemplos</font>"
   ]
  },
  {
   "cell_type": "markdown",
   "metadata": {
    "ExecuteTime": {
     "end_time": "2018-11-27T18:35:25.270671Z",
     "start_time": "2018-11-27T18:35:25.252615Z"
    },
    "scrolled": true
   },
   "source": [
    "### Ejemplo 1: Clasificación Binaria\n",
    "\n",
    "Un modelo hace predicciones y predice 90 de las predicciones de clase positivas correctamente y 10 incorrectamente. Podemos calcular Recall para este modelo de la siguiente manera:\n",
    "\n",
    "$$Recall = \\frac{TruePositives}{(TruePositives + FalsePositives)} = \\frac{90}{(90 + 10)} = \\frac{90}{100} = 0,9$$\n",
    "\n",
    "Tiene buen Recall\n",
    "\n",
    "### Ejemplo 2: Clasificación Multiclase\n",
    "Un modelo predice 77 ejemplos correctamente y 23 incorrectamente para la clase 1, y 95 correctamente y cinco incorrectamente para la clase 2. Podemos calcular el recuerdo para este modelo de la siguiente manera:\n",
    "\n",
    "$$Precision = \\frac{TP1 + TP2}{((TP1 + TP2) + (FN1 + FN2)} = \\frac{77+95}{((77+95) + (23+5))} = \\frac{172}{200} = 0,86$$"
   ]
  },
  {
   "cell_type": "markdown",
   "metadata": {},
   "source": [
    "<div class=\"alert alert-block alert-info\">\n",
    "    \n",
    "<i class=\"fa fa-info-circle\" aria-hidden=\"true\"></i>\n",
    "La Precision puede ser calculada usando la función Sklearn [`recall_score`](https://scikit-learn.org/stable/modules/generated/sklearn.metrics.recall_score.html).\n",
    "</div>"
   ]
  },
  {
   "cell_type": "markdown",
   "metadata": {},
   "source": [
    "<div style=\"text-align: right\"> <font size=5>\n",
    "    <a href=\"#indice\"><i class=\"fa fa-arrow-circle-up\" aria-hidden=\"true\" style=\"color:#004D7F\"></i></a>\n",
    "</font></div>\n",
    "\n",
    "---"
   ]
  },
  {
   "cell_type": "markdown",
   "metadata": {},
   "source": [
    "<a id=\"section5\"></a>\n",
    "# <font color=\"#004D7F\"> 5. F-1</font>"
   ]
  },
  {
   "cell_type": "markdown",
   "metadata": {
    "ExecuteTime": {
     "end_time": "2018-11-27T18:35:25.270671Z",
     "start_time": "2018-11-27T18:35:25.252615Z"
    },
    "scrolled": true
   },
   "source": [
    "F-1 proporciona una forma de combinar precisión y recuperación en una sola medida que captura ambas propiedades.\n",
    "\n",
    "$$F-1 = \\frac{(2 \\times Precision \\times Recall)}{(Precision + Recall)}$$\n",
    "\n",
    "El resultado es un valor entre 0.0 para no precisión y 1.0 para precisión total o perfecta."
   ]
  },
  {
   "cell_type": "markdown",
   "metadata": {},
   "source": [
    "<a id=\"section51\"></a>\n",
    "## <font color=\"#004D7F\"> 5.1. Ejemplos</font>"
   ]
  },
  {
   "cell_type": "markdown",
   "metadata": {
    "ExecuteTime": {
     "end_time": "2018-11-27T18:35:25.270671Z",
     "start_time": "2018-11-27T18:35:25.252615Z"
    },
    "scrolled": true
   },
   "source": [
    "### Ejemplo 1: Clasificación Binaria\n",
    "\n",
    "Consider a model that predicts 150 examples for the positive class, 95 are correct (true positives), meaning five were missed (false negatives) and 55 are incorrect (false positives).\n",
    "\n",
    "$$Precision = \\frac{95}{(95 + 55)} = 0,633$$\n",
    "\n",
    "$$Recall = \\frac{95}{(95 + 5)} = 0,95$$\n",
    "\n",
    "Podemos ver que tenemos un excelente Recall pero un mal Precision. Veamos el F-Measure\n",
    "\n",
    "$$F-1 = \\frac{(2 \\times 0,63 \\times 0,95)}{(0,95 + 0,63)} = 0,759$$"
   ]
  },
  {
   "cell_type": "markdown",
   "metadata": {},
   "source": [
    "<div class=\"alert alert-block alert-info\">\n",
    "    \n",
    "<i class=\"fa fa-info-circle\" aria-hidden=\"true\"></i>\n",
    "La Precision puede ser calculada usando la función Sklearn [`f1_score`](https://scikit-learn.org/stable/modules/generated/sklearn.metrics.f1_score.html).\n",
    "</div>"
   ]
  },
  {
   "cell_type": "markdown",
   "metadata": {},
   "source": [
    "<div style=\"text-align: right\"> <font size=5>\n",
    "    <a href=\"#indice\"><i class=\"fa fa-arrow-circle-up\" aria-hidden=\"true\" style=\"color:#004D7F\"></i></a>\n",
    "</font></div>\n",
    "\n",
    "---"
   ]
  },
  {
   "cell_type": "markdown",
   "metadata": {},
   "source": [
    "<a id=\"section6\"></a>\n",
    "# <font color=\"#004D7F\"> 6. Reporte de clasificación</font>"
   ]
  },
  {
   "cell_type": "markdown",
   "metadata": {},
   "source": [
    "Como hemos visto anteriormente, scikit-learn nos proporciona una función que nos otorga todas las métricas vistas hasta ahora que es `classification_report()`.\n",
    "\n",
    "En el ejemplo podemos ver que tenemos unas buenas métricas para la clase 0 pero, sin embargo, para la clase 1 no tenemos un buen desempeño."
   ]
  },
  {
   "cell_type": "code",
   "execution_count": 2,
   "metadata": {},
   "outputs": [
    {
     "name": "stdout",
     "output_type": "stream",
     "text": [
      "              precision    recall  f1-score   support\n",
      "\n",
      "         0.0       0.81      0.88      0.84       162\n",
      "         1.0       0.74      0.63      0.68        92\n",
      "\n",
      "    accuracy                           0.79       254\n",
      "   macro avg       0.78      0.75      0.76       254\n",
      "weighted avg       0.78      0.79      0.78       254\n",
      "\n"
     ]
    }
   ],
   "source": [
    "# Cross Validation Classification Report\n",
    "from sklearn.model_selection import train_test_split\n",
    "from sklearn.linear_model import LogisticRegression\n",
    "from sklearn.metrics import classification_report\n",
    "\n",
    "test_size = 0.33\n",
    "seed = 7\n",
    "X_train, X_test, Y_train, Y_test = train_test_split(X_clas, Y_clas, \n",
    "                            test_size=test_size, random_state=seed)\n",
    "model = LogisticRegression(solver='lbfgs', max_iter=1000)\n",
    "model.fit(X_train, Y_train)<\n",
    "predicted = model.predict(X_test)\n",
    "report = classification_report(Y_test, predicted) \n",
    "print(report)"
   ]
  },
  {
   "cell_type": "markdown",
   "metadata": {},
   "source": [
    "<div style=\"text-align: right\"> <font size=5>\n",
    "    <a href=\"#indice\"><i class=\"fa fa-arrow-circle-up\" aria-hidden=\"true\" style=\"color:#004D7F\"></i></a>\n",
    "</font></div>\n",
    "\n",
    "---\n",
    "\n",
    "<div style=\"text-align: right\"> <font size=6><i class=\"fa fa-coffee\" aria-hidden=\"true\" style=\"color:#004D7F\"></i> </font></div>"
   ]
  }
 ],
 "metadata": {
  "kernelspec": {
   "display_name": "Python 3 (ipykernel)",
   "language": "python",
   "name": "python3"
  },
  "language_info": {
   "codemirror_mode": {
    "name": "ipython",
    "version": 3
   },
   "file_extension": ".py",
   "mimetype": "text/x-python",
   "name": "python",
   "nbconvert_exporter": "python",
   "pygments_lexer": "ipython3",
   "version": "3.9.13"
  },
  "toc": {
   "base_numbering": 1,
   "nav_menu": {},
   "number_sections": false,
   "sideBar": true,
   "skip_h1_title": true,
   "title_cell": "Table of Contents",
   "title_sidebar": "Contents",
   "toc_cell": false,
   "toc_position": {},
   "toc_section_display": true,
   "toc_window_display": false
  }
 },
 "nbformat": 4,
 "nbformat_minor": 2
}
