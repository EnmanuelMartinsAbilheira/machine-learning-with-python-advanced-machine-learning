{
 "cells": [
  {
   "cell_type": "markdown",
   "metadata": {},
   "source": [
    "<h2><font color=\"#004D7F\" size=6>Módulo 5. Fase de tratamiento de datos</font></h2>\n",
    "\n",
    "\n",
    "\n",
    "<h1><font color=\"#004D7F\" size=5>2.1. Feature Selection con datatos categóricos</font></h1>\n",
    "\n",
    "<br><br>\n",
    "<div style=\"text-align: right\">\n",
    "<font color=\"#004D7F\" size=3>Manuel Castillo-Cara</font><br>\n",
    "<font color=\"#004D7F\" size=3>Machine Learning con Python</font><br>"
   ]
  },
  {
   "cell_type": "markdown",
   "metadata": {},
   "source": [
    "---\n",
    "\n",
    "<h2><font color=\"#004D7F\" size=5>Índice</font></h2>\n",
    "<a id=\"indice\"></a>\n",
    "\n",
    "* [1. Introducción](#section1)\n",
    "    * [1.1. Librerías](#section11)\n",
    "    * [1.2. CSV](#section12)\n",
    "* [2. Prepración de los datos](#section2)\n",
    "    * [2.1. Tipo de las variables](#section21)\n",
    "    * [2.2. División para entrenamiento/validación](#section22)\n",
    "* [3. Transformación de los datos](#section3)\n",
    "    * [3.1. Codificación de train/test](#section31)\n",
    "    * [3.2. Codificación del target](#section32)\n",
    "    * [3.3. Codificación de todos los atributos](#section33)\n",
    "* [4. Feature selection](#section4)\n",
    "    * [4.1. Chi-cuadrada](#section41)\n",
    "    * [4.2. Información Mutua](#section42)    \n",
    "* [5. Fase de modelado](#section5)\n",
    "    * [5.1. Resultados de linea base](#section51)\n",
    "    * [5.2. Resultados con $\\chi^{2}$](#section52) \n",
    "    * [5.3. Resultados con Información Mutua](#section53)  "
   ]
  },
  {
   "cell_type": "code",
   "execution_count": null,
   "metadata": {},
   "outputs": [],
   "source": [
    "# Permite ajustar la anchura de la parte útil de la libreta (reduce los márgenes)\n",
    "from IPython.core.display import display, HTML\n",
    "display(HTML(\"<style>.container{ width:98% }</style>\"))"
   ]
  },
  {
   "cell_type": "markdown",
   "metadata": {},
   "source": [
    "---\n",
    "\n",
    "<a id=\"section1\"></a>\n",
    "# <font color=\"#004D7F\"> 1. Introducción</font>"
   ]
  },
  {
   "cell_type": "markdown",
   "metadata": {},
   "source": [
    "En resumen, feature selection, también llamado como selección de mejores características o atributos, es el proceso de seleccionar un subconjunto de características pertinentes (variables, predictores) para su uso en construcción de modelos. Las técnicas de feature selection son utilizadas por cuatro razones:\n",
    "* Simplificación de modelos con el fin de hacerlas más sencillas de interpretar para los usuarios/investigadores.\n",
    "* Menor tiempo de entrenamiento.\n",
    "* Evitar la maldición de la dimensionalidad:\n",
    "* Generalización realzada por reducir _overfitting_ (formalmente, reducción de varianza).\n",
    "\n",
    "En este tutorial, descubrirá cómo realizar la selección de funciones con datos de entrada categóricos:\n",
    "* El problema del modelado predictivo de _Breast Cancer_ con entradas categóricas y _target_ de clasificación binaria.\n",
    "* Cómo evaluar la importancia de las características categóricas utilizando las estadísticas de chi-cuadrado e información mutua.\n",
    "* Cómo realizar la selección de características para datos categóricos al ajustar y evaluar un modelo de clasificación."
   ]
  },
  {
   "cell_type": "markdown",
   "metadata": {},
   "source": [
    "<a id=\"section11\"></a>\n",
    "## <font color=\"#004D7F\"> 1.1. Librerías</font>"
   ]
  },
  {
   "cell_type": "markdown",
   "metadata": {},
   "source": [
    "En primer lugar vamos a declarar algunas librerías generales que ya hemos estado trabajando y que usaremos a lo largo de la sección."
   ]
  },
  {
   "cell_type": "code",
   "execution_count": 88,
   "metadata": {
    "scrolled": true
   },
   "outputs": [],
   "source": [
    "#importing libraries\n",
    "import numpy as np\n",
    "import pandas as pd\n",
    "import matplotlib\n",
    "import matplotlib.pyplot as plt\n",
    "import seaborn as sns\n",
    "import statsmodels.api as sm\n",
    "%matplotlib inline\n",
    "from sklearn.model_selection import train_test_split"
   ]
  },
  {
   "cell_type": "markdown",
   "metadata": {},
   "source": [
    "<a id=\"section12\"></a>\n",
    "## <font color=\"#004D7F\"> 1.2. CSV</font>"
   ]
  },
  {
   "cell_type": "markdown",
   "metadata": {},
   "source": [
    "En esta lección, el conjunto de datos clasifica los datos de pacientes con cáncer de mama como recurrencia o no recurrencia del cáncer. Hay 286 ejemplos y nueve características de entrada. Es un problema de clasificación binaria.\n",
    "\n",
    "La información sobre este conjunto de datos la encontramos en [UCI Machine Learning](https://archive.ics.uci.edu/ml/datasets/Breast+Cancer). Mirando los datos, podemos ver que las nueve variables de entrada son categóricas que están dadas entre comillas simples (**'**).\n"
   ]
  },
  {
   "cell_type": "code",
   "execution_count": 179,
   "metadata": {},
   "outputs": [],
   "source": [
    "# Clasification problem\n",
    "filename = 'data/breast-cancer.csv'\n",
    "names = ['age', 'menopause', 'tumor-size', 'inv-nodes', 'node-caps', 'deg-malig', 'breast', 'breast-quad', 'irradiant', 'class']\n",
    "df_cla = pd.read_csv(filename, names=names)\n",
    "dataset = df_cla.values\n",
    "X_cla = dataset[:, :-1]\n",
    "Y_cla = dataset[:,-1]\n",
    "#Y_cla"
   ]
  },
  {
   "cell_type": "markdown",
   "metadata": {},
   "source": [
    "<div style=\"text-align: right\"> <font size=5>\n",
    "    <a href=\"#indice\"><i class=\"fa fa-arrow-circle-up\" aria-hidden=\"true\" style=\"color:#004D7F\"></i></a>\n",
    "</font></div>\n",
    "\n",
    "---"
   ]
  },
  {
   "cell_type": "markdown",
   "metadata": {},
   "source": [
    "<a id=\"section2\"></a>\n",
    "# <font color=\"#004D7F\"> 2. Prepración de los datos</font>"
   ]
  },
  {
   "cell_type": "markdown",
   "metadata": {},
   "source": [
    "Veamos en primera instancia los pasos que tenemos que realizar para poder trabajar nuestro conjunto de datos, para luego poder aplicarle Feature selection teniendo datos categóricos."
   ]
  },
  {
   "cell_type": "markdown",
   "metadata": {},
   "source": [
    "<a id=\"section21\"></a>\n",
    "## <font color=\"#004D7F\"> 2.1. Tipo de las variables </font>"
   ]
  },
  {
   "cell_type": "markdown",
   "metadata": {},
   "source": [
    "Lo primero que tenemos que asegurarnos es que las variables se encuentren en formato _String_ ya que para poder trabajarlo bien. En este conjunto de datos todas las variables se encuentran con datos categóricos. Aunque ya los teníamos como objeto vamos formatearlo de todas maneras."
   ]
  },
  {
   "cell_type": "code",
   "execution_count": 180,
   "metadata": {
    "scrolled": true
   },
   "outputs": [
    {
     "name": "stdout",
     "output_type": "stream",
     "text": [
      "[[\"'40-49'\" \"'premeno'\" \"'15-19'\" ... \"'right'\" \"'left_up'\" \"'no'\"]\n",
      " [\"'50-59'\" \"'ge40'\" \"'15-19'\" ... \"'right'\" \"'central'\" \"'no'\"]\n",
      " [\"'50-59'\" \"'ge40'\" \"'35-39'\" ... \"'left'\" \"'left_low'\" \"'no'\"]\n",
      " ...\n",
      " [\"'30-39'\" \"'premeno'\" \"'30-34'\" ... \"'right'\" \"'right_up'\" \"'no'\"]\n",
      " [\"'50-59'\" \"'premeno'\" \"'15-19'\" ... \"'right'\" \"'left_low'\" \"'no'\"]\n",
      " [\"'50-59'\" \"'ge40'\" \"'40-44'\" ... \"'left'\" \"'right_up'\" \"'no'\"]]\n"
     ]
    }
   ],
   "source": [
    "print(X_cla)\n",
    "# Convertimos todos los campos a String\n",
    "# Además, con este truco podemos \"camuflar\" valores NaN que tenemos y así no nos dará error las conversiones\n",
    "X_cla = X_cla.astype(str)"
   ]
  },
  {
   "cell_type": "markdown",
   "metadata": {},
   "source": [
    "<a id=\"section22\"></a>\n",
    "## <font color=\"#004D7F\"> 2.2. División para entrenamiento/validación </font>"
   ]
  },
  {
   "cell_type": "markdown",
   "metadata": {},
   "source": [
    "Una vez cargados, podemos dividir los datos en conjuntos de entrenamiento y validación para que podamos ajustar y evaluar un modelo de aprendizaje. Utilizaremos la función `train_test_split()` y utilizaremos el 67% de los datos para el entrenamiento y el 33% para validación."
   ]
  },
  {
   "cell_type": "code",
   "execution_count": 181,
   "metadata": {
    "scrolled": true
   },
   "outputs": [
    {
     "name": "stdout",
     "output_type": "stream",
     "text": [
      "Train (191, 9) (191,)\n",
      "Test (95, 9) (95,)\n"
     ]
    }
   ],
   "source": [
    "# split into train and test sets\n",
    "X_train, X_test, y_train, y_test = train_test_split(X_cla, Y_cla, test_size=0.33, random_state=1)\n",
    "# summarize\n",
    "print('Train', X_train.shape, y_train.shape)\n",
    "print('Test', X_test.shape, y_test.shape)"
   ]
  },
  {
   "cell_type": "markdown",
   "metadata": {},
   "source": [
    "<div style=\"text-align: right\"> <font size=5>\n",
    "    <a href=\"#indice\"><i class=\"fa fa-arrow-circle-up\" aria-hidden=\"true\" style=\"color:#004D7F\"></i></a>\n",
    "</font></div>\n",
    "\n",
    "---"
   ]
  },
  {
   "cell_type": "markdown",
   "metadata": {},
   "source": [
    "<a id=\"section3\"></a>\n",
    "# <font color=\"#004D7F\"> 3. Transformación de los datos</font>"
   ]
  },
  {
   "cell_type": "markdown",
   "metadata": {},
   "source": [
    "Podemos usar la clase `OrdinalEncoder` de scikit-learn para codificar cada variable en enteros. Esta es una clase flexible y permite que el orden de las categorías se especifique como argumentos si se conoce dicho orden."
   ]
  },
  {
   "cell_type": "markdown",
   "metadata": {},
   "source": [
    "<div class=\"alert alert-block alert-info\">\n",
    "    \n",
    "<i class=\"fa fa-exclamation-circle\" aria-hidden=\"true\"></i>\n",
    "Más información en la documentación oficial sobre la clase [`OrdinalEncoder`](https://scikit-learn.org/stable/modules/generated/sklearn.preprocessing.OrdinalEncoder.html). \n",
    "</div> "
   ]
  },
  {
   "cell_type": "markdown",
   "metadata": {},
   "source": [
    "<a id=\"section31\"></a>\n",
    "## <font color=\"#004D7F\"> 3.1. Codificación de train/test </font>"
   ]
  },
  {
   "cell_type": "markdown",
   "metadata": {},
   "source": [
    "La siguiente función llamada `prepare_inputs()` toma los datos de entrada para entrenamiento y validación y los codifica utilizando una codificación ordinal."
   ]
  },
  {
   "cell_type": "code",
   "execution_count": 182,
   "metadata": {
    "scrolled": true
   },
   "outputs": [],
   "source": [
    "# prepare input data\n",
    "from sklearn.preprocessing import OrdinalEncoder\n",
    "\n",
    "def prepare_inputs(X_train, X_test):\n",
    "    oe = OrdinalEncoder()\n",
    "    oe.fit(X_train)\n",
    "    X_train_enc = oe.transform(X_train)\n",
    "    X_test_enc = oe.transform(X_test)\n",
    "    return X_train_enc, X_test_enc"
   ]
  },
  {
   "cell_type": "markdown",
   "metadata": {},
   "source": [
    "<a id=\"section32\"></a>\n",
    "## <font color=\"#004D7F\"> 3.2. Codificación del _target_ </font>"
   ]
  },
  {
   "cell_type": "markdown",
   "metadata": {},
   "source": [
    "También necesitamos preparar la variable _target_ (clase). Es un problema de clasificación binaria, por lo que debemos asignar las dos etiquetas de clase a 0 y 1. Este es un tipo de codificación ordinal, y scikit-learn proporciona la clase `LabelEncoder` específicamente diseñada para este propósito. Podríamos usar el `OrdinalEncoder` con la misma facilidad y lograr el mismo resultado, aunque `LabelEncoder` está diseñado para codificar una sola variable.\n",
    "\n",
    "El entero de la función `prepare_targets()` codifica los datos de salida para entrenamiento/validación."
   ]
  },
  {
   "cell_type": "markdown",
   "metadata": {},
   "source": [
    "<div class=\"alert alert-block alert-info\">\n",
    "    \n",
    "<i class=\"fa fa-exclamation-circle\" aria-hidden=\"true\"></i>\n",
    "Más información en la documentación oficial sobre la clase [`LabelEncoder`](https://scikit-learn.org/stable/modules/generated/sklearn.preprocessing.LabelEncoder.html). \n",
    "</div> "
   ]
  },
  {
   "cell_type": "code",
   "execution_count": 183,
   "metadata": {
    "scrolled": true
   },
   "outputs": [],
   "source": [
    "# prepare target\n",
    "from sklearn.preprocessing import LabelEncoder\n",
    "\n",
    "def prepare_targets(y_train, y_test):\n",
    "    le = LabelEncoder()\n",
    "    le.fit(y_train)\n",
    "    y_train_enc = le.transform(y_train)\n",
    "    y_test_enc = le.transform(y_test)\n",
    "    return y_train_enc, y_test_enc"
   ]
  },
  {
   "cell_type": "markdown",
   "metadata": {},
   "source": [
    "<a id=\"section33\"></a>\n",
    "## <font color=\"#004D7F\"> 3.3. Codificación de todos los atributos </font>"
   ]
  },
  {
   "cell_type": "markdown",
   "metadata": {},
   "source": [
    "Una vez realizadas las funciones, podemos pasar, a cualés corresponda, los diferentes atributos de nuestro conjunto de datos"
   ]
  },
  {
   "cell_type": "code",
   "execution_count": 184,
   "metadata": {
    "scrolled": false
   },
   "outputs": [],
   "source": [
    "# prepare input data\n",
    "X_train_enc, X_test_enc = prepare_inputs(X_train, X_test)\n",
    "# prepare output data\n",
    "y_train_enc, y_test_enc = prepare_targets(y_train, y_test)"
   ]
  },
  {
   "cell_type": "markdown",
   "metadata": {},
   "source": [
    "Ahora que hemos cargado y preparado el conjunto de datos, podemos explorar feature selection."
   ]
  },
  {
   "cell_type": "markdown",
   "metadata": {},
   "source": [
    "<div style=\"text-align: right\"> <font size=5>\n",
    "    <a href=\"#indice\"><i class=\"fa fa-arrow-circle-up\" aria-hidden=\"true\" style=\"color:#004D7F\"></i></a>\n",
    "</font></div>\n",
    "\n",
    "---"
   ]
  },
  {
   "cell_type": "markdown",
   "metadata": {},
   "source": [
    "<a id=\"section4\"></a>\n",
    "# <font color=\"#004D7F\"> 4. Feature selection</font>"
   ]
  },
  {
   "cell_type": "markdown",
   "metadata": {},
   "source": [
    "Hay dos técnicas populares de selección de características que se pueden usar para datos de entrada categóricos y una variable objetivo categórica (clase):\n",
    "* Prueba estadística Chi-Cuadrada ($\\chi^{2}$).\n",
    "* Prueba estadística de información mutua."
   ]
  },
  {
   "cell_type": "markdown",
   "metadata": {},
   "source": [
    "<a id=\"section41\"></a>\n",
    "## <font color=\"#004D7F\"> 4.1. Chi-cuadrada</font>"
   ]
  },
  {
   "cell_type": "markdown",
   "metadata": {},
   "source": [
    "La prueba de hipótesis estadística $\\chi^{2}$ de Pearson es un ejemplo de una prueba de independencia entre variables categóricas. Los resultados de esta prueba se pueden utilizar para la selección de características, donde aquellas características que son independientes de la variable objetivo se pueden eliminar del conjunto de datos.\n",
    "\n",
    "La biblioteca de máquina scikit-learn proporciona una implementación de la prueba de chi-cuadrado en la función `chi2()`. Esta función se puede utilizar en una estrategia de selección de características, como seleccionar las _k_ características más relevantes (valores más grandes) a través de la clase `SelectKBest`.\n",
    "\n",
    "Vamos a definir la clase `SelectKBest` para usar la función `chi2()` y seleccionar todas las características, luego transformar los datos de train/test."
   ]
  },
  {
   "cell_type": "markdown",
   "metadata": {},
   "source": [
    "<div class=\"alert alert-block alert-info\">\n",
    "    \n",
    "<i class=\"fa fa-exclamation-circle\" aria-hidden=\"true\"></i>\n",
    "Más información en la documentación oficial sobre la función [`chi2()`](https://scikit-learn.org/stable/modules/generated/sklearn.feature_selection.chi2.html). \n",
    "</div> "
   ]
  },
  {
   "cell_type": "code",
   "execution_count": 79,
   "metadata": {
    "scrolled": true
   },
   "outputs": [],
   "source": [
    "# Chi-cuadrado\n",
    "from sklearn.feature_selection import SelectKBest\n",
    "from sklearn.feature_selection import chi2\n",
    "\n",
    "# feature selection\n",
    "def select_features_chi(X_train, y_train, X_test):\n",
    "    fs = SelectKBest(score_func=chi2, k='all')\n",
    "    fs.fit(X_train, y_train)\n",
    "    X_train_fs = fs.transform(X_train)\n",
    "    X_test_fs = fs.transform(X_test)\n",
    "    return X_train_fs, X_test_fs, fs"
   ]
  },
  {
   "cell_type": "markdown",
   "metadata": {},
   "source": [
    "Luego podemos imprimir los puntajes para cada variable (más grande es mejor), y trazar los puntajes para cada variable como un gráfico de barras para tener una idea de cuántas características debemos seleccionar."
   ]
  },
  {
   "cell_type": "code",
   "execution_count": 80,
   "metadata": {
    "scrolled": true
   },
   "outputs": [
    {
     "name": "stdout",
     "output_type": "stream",
     "text": [
      "Feature 0: 0.472553\n",
      "Feature 1: 0.029193\n",
      "Feature 2: 2.137658\n",
      "Feature 3: 29.381059\n",
      "Feature 4: 8.222601\n",
      "Feature 5: 8.100183\n",
      "Feature 6: 1.273822\n",
      "Feature 7: 0.950682\n",
      "Feature 8: 3.699989\n"
     ]
    },
    {
     "data": {
      "image/png": "[encoded data removed]",
      "text/plain": [
       "<Figure size 432x288 with 1 Axes>"
      ]
     },
     "metadata": {
      "needs_background": "light"
     },
     "output_type": "display_data"
    }
   ],
   "source": [
    "X_train_fs_chi, X_test_fs_chi, fs_chi = select_features_chi(X_train_enc, y_train_enc, X_test_enc)\n",
    "# Mostramos los scores\n",
    "for i in range(len(fs_chi.scores_)):\n",
    "    print('Feature %d: %f' % (i, fs_chi.scores_[i]))\n",
    "# plot the scores\n",
    "pyplot.bar([i for i in range(len(fs_chi.scores_))], fs_chi.scores_)\n",
    "pyplot.show()"
   ]
  },
  {
   "cell_type": "markdown",
   "metadata": {},
   "source": [
    "En este caso, podemos ver que los puntajes son pequeños y es difícil hacerse una idea del número solo sobre qué características son más relevantes. Quizás las características 3, 4, 5 y 8 son las más relevantes.\n",
    "\n",
    "Podríamos establecer k = 4 al configurar `SelectKBest` para seleccionar estas cuatro características principales."
   ]
  },
  {
   "cell_type": "markdown",
   "metadata": {},
   "source": [
    "<a id=\"section42\"></a>\n",
    "## <font color=\"#004D7F\"> 4.2. Información Mutua</font>"
   ]
  },
  {
   "cell_type": "markdown",
   "metadata": {},
   "source": [
    "La información mutua del campo de la teoría de la información es la aplicación de la ganancia de información (típicamente utilizada en la construcción de árboles de decisión) para presentar la selección. La información mutua se calcula entre dos variables y mide la reducción de la incertidumbre para una variable dado un valor conocido de la otra variable.\n",
    "\n",
    "Scikit-learn proporciona una implementación de información mutua para la selección de características a través de la función `mutual_info_classif()`.\n",
    "\n",
    "Al igual que `chi2()`, se puede usar en la estrategia de selección de características `SelectKBest` (y otras estrategias)."
   ]
  },
  {
   "cell_type": "markdown",
   "metadata": {},
   "source": [
    "<div class=\"alert alert-block alert-info\">\n",
    "    \n",
    "<i class=\"fa fa-exclamation-circle\" aria-hidden=\"true\"></i>\n",
    "Más información en la documentación oficial sobre la función [`mutual_info_classif()`](https://scikit-learn.org/stable/modules/generated/sklearn.feature_selection.mutual_info_classif.html). \n",
    "</div> "
   ]
  },
  {
   "cell_type": "code",
   "execution_count": 71,
   "metadata": {
    "scrolled": true
   },
   "outputs": [],
   "source": [
    "# Chi-cuadrado\n",
    "from sklearn.feature_selection import mutual_info_classif\n",
    "# feature selection\n",
    "def select_features_mi(X_train, y_train, X_test):\n",
    "    fs = SelectKBest(score_func=mutual_info_classif, k='all')\n",
    "    fs.fit(X_train, y_train)\n",
    "    X_train_fs = fs.transform(X_train)\n",
    "    X_test_fs = fs.transform(X_test)\n",
    "    return X_train_fs, X_test_fs, fs"
   ]
  },
  {
   "cell_type": "markdown",
   "metadata": {},
   "source": [
    "Podemos realizar la selección de características utilizando información mutua sobre el conjunto de cáncer de mama e imprimir y trazar los puntajes (más grande es mejor) como lo hicimos en la sección anterior."
   ]
  },
  {
   "cell_type": "code",
   "execution_count": 81,
   "metadata": {
    "scrolled": true
   },
   "outputs": [
    {
     "name": "stdout",
     "output_type": "stream",
     "text": [
      "Feature 0: 0.058748\n",
      "Feature 1: 0.035770\n",
      "Feature 2: 0.085922\n",
      "Feature 3: 0.090771\n",
      "Feature 4: 0.054822\n",
      "Feature 5: 0.003469\n",
      "Feature 6: 0.000000\n",
      "Feature 7: 0.007673\n",
      "Feature 8: 0.000000\n"
     ]
    },
    {
     "data": {
      "image/png": "[encoded data removed]",
      "text/plain": [
       "<Figure size 432x288 with 1 Axes>"
      ]
     },
     "metadata": {
      "needs_background": "light"
     },
     "output_type": "display_data"
    }
   ],
   "source": [
    "X_train_fs_mi, X_test_fs_mi, fs_mi = select_features_mi(X_train_enc, y_train_enc, X_test_enc)\n",
    "# what are scores for the features\n",
    "for i in range(len(fs_mi.scores_)):\n",
    "    print('Feature %d: %f' % (i, fs_mi.scores_[i]))\n",
    "# plot the scores\n",
    "pyplot.bar([i for i in range(len(fs_mi.scores_))], fs_mi.scores_)\n",
    "pyplot.show()"
   ]
  },
  {
   "cell_type": "markdown",
   "metadata": {},
   "source": [
    "En este caso, podemos ver que algunas de las características tienen una puntuación muy baja, lo que sugiere que tal vez puedan eliminarse. Quizás las características 3, 6, 2 y 5 son las más relevantes."
   ]
  },
  {
   "cell_type": "markdown",
   "metadata": {},
   "source": [
    "<div style=\"text-align: right\"> <font size=5>\n",
    "    <a href=\"#indice\"><i class=\"fa fa-arrow-circle-up\" aria-hidden=\"true\" style=\"color:#004D7F\"></i></a>\n",
    "</font></div>\n",
    "\n",
    "---"
   ]
  },
  {
   "cell_type": "markdown",
   "metadata": {},
   "source": [
    "<a id=\"section5\"></a>\n",
    "# <font color=\"#004D7F\"> 5. Fase de modelado</font>"
   ]
  },
  {
   "cell_type": "markdown",
   "metadata": {},
   "source": [
    "Existen muchas técnicas diferentes para calificar características y seleccionar características basadas en puntajes; ¿Cómo sabes cuál usar? Un enfoque sólido es evaluar modelos utilizando diferentes métodos de selección de características (y número de características) y seleccionar el método que resulte en un modelo con el mejor rendimiento.\n",
    "\n",
    "En esta sección, evaluaremos un modelo de Regresión logística con todas las características en comparación con un modelo construido a partir de características seleccionadas por chi-cuadrado y aquellas características seleccionadas mediante información mutua. La regresión logística es un buen modelo para probar métodos de selección de características, ya que puede funcionar mejor si se eliminan características irrelevantes del modelo."
   ]
  },
  {
   "cell_type": "markdown",
   "metadata": {},
   "source": [
    "<a id=\"section51\"></a>\n",
    "## <font color=\"#004D7F\"> 5.1. Resultados de linea base</font>"
   ]
  },
  {
   "cell_type": "markdown",
   "metadata": {},
   "source": [
    "Lo primero es verificar si el modelo mejora realmente con determinadas características seleccionadas. Para ello tenemos que sacar el resultado con todas las características."
   ]
  },
  {
   "cell_type": "code",
   "execution_count": 102,
   "metadata": {
    "scrolled": true
   },
   "outputs": [
    {
     "name": "stdout",
     "output_type": "stream",
     "text": [
      "Accuracy: 75.79%\n"
     ]
    }
   ],
   "source": [
    "from sklearn.linear_model import LogisticRegression\n",
    "from sklearn.metrics import accuracy_score\n",
    "\n",
    "# fit the model\n",
    "model = LogisticRegression(solver='lbfgs')\n",
    "model.fit(X_train_enc, y_train_enc)\n",
    "# evaluate the model\n",
    "yhat = model.predict(X_test_enc)\n",
    "# evaluate predictions\n",
    "accuracy = accuracy_score(y_test_enc, yhat)\n",
    "print(f\"Accuracy: {accuracy*100:,.2f}%\")"
   ]
  },
  {
   "cell_type": "markdown",
   "metadata": {},
   "source": [
    "<a id=\"section52\"></a>\n",
    "## <font color=\"#004D7F\"> 5.2. Resultados con $\\chi^{2}$</font>"
   ]
  },
  {
   "cell_type": "markdown",
   "metadata": {},
   "source": [
    "En el caso de $\\chi^{2}$ determinamos que había 4 características importantes, por tanto modificaremos la función para seleccionar estas 4 características (`k=4`). Una vez modificadas podemos ver el resultado final"
   ]
  },
  {
   "cell_type": "code",
   "execution_count": 109,
   "metadata": {
    "scrolled": true
   },
   "outputs": [
    {
     "name": "stdout",
     "output_type": "stream",
     "text": [
      "Accuracy: 74.74%\n"
     ]
    }
   ],
   "source": [
    "from sklearn.linear_model import LogisticRegression\n",
    "from sklearn.metrics import accuracy_score\n",
    "\n",
    "# feature selection\n",
    "def select_features_chi(X_train, y_train, X_test):\n",
    "    fs = SelectKBest(score_func=chi2, k=4) # cambiamos \n",
    "    fs.fit(X_train, y_train)\n",
    "    X_train_fs = fs.transform(X_train)\n",
    "    X_test_fs = fs.transform(X_test)\n",
    "    return X_train_fs, X_test_fs\n",
    "\n",
    "# feature selection\n",
    "X_train_fs_chi, X_test_fs_chi = select_features_chi(X_train_enc, y_train_enc, X_test_enc)\n",
    "# fit the model\n",
    "model = LogisticRegression(solver='lbfgs')\n",
    "model.fit(X_train_fs_chi, y_train_enc)\n",
    "# evaluate the model\n",
    "yhat_chi = model.predict(X_test_fs_chi)\n",
    "# evaluate predictions\n",
    "accuracy = accuracy_score(y_test_enc, yhat_chi)\n",
    "print(f\"Accuracy: {accuracy*100:,.2f}%\")"
   ]
  },
  {
   "cell_type": "markdown",
   "metadata": {},
   "source": [
    "En este caso podemos ver que hemos obtenido un rendimiento pero que con las características originales."
   ]
  },
  {
   "cell_type": "markdown",
   "metadata": {},
   "source": [
    "<a id=\"section53\"></a>\n",
    "## <font color=\"#004D7F\"> 5.3. Resultados con Información Mutua</font>"
   ]
  },
  {
   "cell_type": "markdown",
   "metadata": {},
   "source": [
    "En el caso de Información Mútua también había determinadas 4 características importantes, por tanto modificaremos la función para seleccionar estas 4 características (`k=4`). Una vez modificadas podemos ver el resultado final"
   ]
  },
  {
   "cell_type": "code",
   "execution_count": 195,
   "metadata": {
    "scrolled": true
   },
   "outputs": [
    {
     "name": "stdout",
     "output_type": "stream",
     "text": [
      "Accuracy: 77.89%\n"
     ]
    }
   ],
   "source": [
    "from sklearn.linear_model import LogisticRegression\n",
    "from sklearn.metrics import accuracy_score\n",
    "\n",
    "# feature selection\n",
    "def select_features_mi(X_train, y_train, X_test):\n",
    "    fs = SelectKBest(score_func=mutual_info_classif, k=4)\n",
    "    fs.fit(X_train, y_train)\n",
    "    X_train_fs = fs.transform(X_train)\n",
    "    X_test_fs = fs.transform(X_test)\n",
    "    return X_train_fs, X_test_fs\n",
    "\n",
    "# feature selection\n",
    "X_train_fs_mi, X_test_fs_mi = select_features_mi(X_train_enc, y_train_enc, X_test_enc)\n",
    "# fit the model\n",
    "model = LogisticRegression(solver='lbfgs', random_state=7)\n",
    "model.fit(X_train_fs_mi, y_train_enc)\n",
    "# evaluate the model\n",
    "yhat_mi = model.predict(X_test_fs_mi)\n",
    "# evaluate predictions\n",
    "accuracy = accuracy_score(y_test_enc, yhat_mi)\n",
    "print(f\"Accuracy: {accuracy*100:,.2f}%\")"
   ]
  },
  {
   "cell_type": "markdown",
   "metadata": {},
   "source": [
    "En este caso podemos ver que hemos obtenido un rendimiento mayor que con las características original, aunque al no haber utilizado una validación cruzada si ejecutamos varias veces podemos ver que cambia mucho los valores. Deberemos realizar con un KFold para asegurarnos de los resultados."
   ]
  },
  {
   "cell_type": "markdown",
   "metadata": {},
   "source": [
    "<div style=\"text-align: right\"> <font size=5>\n",
    "    <a href=\"#indice\"><i class=\"fa fa-arrow-circle-up\" aria-hidden=\"true\" style=\"color:#004D7F\"></i></a>\n",
    "</font></div>\n",
    "\n",
    "---\n",
    "\n",
    "<div style=\"text-align: right\"> <font size=6><i class=\"fa fa-coffee\" aria-hidden=\"true\" style=\"color:#004D7F\"></i> </font></div>"
   ]
  }
 ],
 "metadata": {
  "kernelspec": {
   "display_name": "Python 3",
   "language": "python",
   "name": "python3"
  },
  "language_info": {
   "codemirror_mode": {
    "name": "ipython",
    "version": 3
   },
   "file_extension": ".py",
   "mimetype": "text/x-python",
   "name": "python",
   "nbconvert_exporter": "python",
   "pygments_lexer": "ipython3",
   "version": "3.6.9"
  }
 },
 "nbformat": 4,
 "nbformat_minor": 2
}
